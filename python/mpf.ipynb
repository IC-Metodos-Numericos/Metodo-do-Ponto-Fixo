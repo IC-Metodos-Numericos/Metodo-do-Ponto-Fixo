{
 "cells": [
  {
   "cell_type": "code",
   "execution_count": null,
   "id": "e72a8574",
   "metadata": {},
   "outputs": [],
   "source": [
    "import matplotlib.pyplot as plt\n",
    "import numpy as np\n",
    "import pandas as pd\n",
    "import seaborn as sns\n",
    "import plotly.express as px\n",
    "import plotly.graph_objects as go\n",
    "import scipy\n",
    "import sympy as sp\n",
    "from sympy import symbols, cos ,log, diff\n"
   ]
  },
  {
   "cell_type": "code",
   "execution_count": 2,
   "id": "b229ed64",
   "metadata": {},
   "outputs": [],
   "source": [
    "import math\n",
    "\n",
    "def fixed_point_iteration(g, x0, tol=1e-6, max_iter=100):\n",
    "    \"\"\"\n",
    "    Método do Ponto Fixo para encontrar a raiz de f(x) = 0,\n",
    "    usando uma função g(x) tal que x = g(x).\n",
    "\n",
    "    :param g: Função g(x) usada para a iteração.\n",
    "    :param x0: Valor inicial (chute).\n",
    "    :param tol: Tolerância para o erro.\n",
    "    :param max_iter: Número máximo de iterações.\n",
    "    :return: A raiz aproximada, número de iterações e lista de aproximações.\n",
    "    \"\"\"\n",
    "    iter_count = 0\n",
    "    x = x0\n",
    "    values = [x0]\n",
    "\n",
    "    while iter_count < max_iter:\n",
    "        x_next = g(x)\n",
    "        values.append(x_next)\n",
    "\n",
    "        if abs(x_next - x) < tol:\n",
    "            return x_next, iter_count + 1, values\n",
    "\n",
    "        x = x_next\n",
    "        iter_count += 1\n",
    "\n",
    "    raise Exception(\"O método não convergiu dentro do número máximo de iterações.\")\n"
   ]
  },
  {
   "cell_type": "code",
   "execution_count": 3,
   "id": "147c2eab",
   "metadata": {},
   "outputs": [],
   "source": [
    "def plot_function(f, x_range):\n",
    "    \"\"\"\n",
    "    Plota a função f(x) em um intervalo x_range.\n",
    "    \"\"\"\n",
    "    x_vals = np.linspace(x_range[0], x_range[1], 400)\n",
    "    y_vals = f(x_vals)\n",
    "\n",
    "    # Cria o gráfico da função\n",
    "    fig_fx = go.Figure()\n",
    "    fig_fx.add_trace(go.Scatter(x=x_vals, y=y_vals,\n",
    "                                mode='lines',\n",
    "                                name='f(x) = x² + x - 6',\n",
    "                                line=dict(color='darkblue', width=2)))\n",
    "\n",
    "    fig_fx.show()"
   ]
  },
  {
   "cell_type": "code",
   "execution_count": 4,
   "id": "35bcc1f1",
   "metadata": {},
   "outputs": [],
   "source": [
    "def fpi_print_history(g, x0):\n",
    "    try:\n",
    "        root, iters, history = fixed_point_iteration(g, x0)\n",
    "        print(f\"Raiz aproximada: {root}\")\n",
    "        print(f\"Número de iterações: {iters}\")\n",
    "        print(\"Histórico de aproximações:\")\n",
    "        for i, val in enumerate(history):\n",
    "            print(f\"  Iteração {i}: {val}\")\n",
    "        return root, iters, history\n",
    "    except Exception as e:\n",
    "        print(f\"Erro: {e}\")\n",
    "        return None, None, None"
   ]
  },
  {
   "cell_type": "code",
   "execution_count": 5,
   "id": "13dff96f",
   "metadata": {},
   "outputs": [],
   "source": [
    "def fpi_plot_history(history):\n",
    "    try:\n",
    "        fig = px.line(\n",
    "            x=list(range(len(history))),\n",
    "            y=history,\n",
    "            markers=True,\n",
    "            labels={'x': 'Iteração', 'y': 'Aproximação'},\n",
    "            title='Histórico de Aproximações - Método do Ponto Fixo',\n",
    "        )\n",
    "        fig.update_traces(\n",
    "            marker=dict(size=10, color='red', line=dict(width=2, color='DarkSlateGrey')),\n",
    "            line=dict(width=2, color='blue')\n",
    "        )\n",
    "        fig.show()\n",
    "    except Exception as e:\n",
    "        print(\"Erro ao plotar o gráfico:\", e)\n",
    "        return None"
   ]
  },
  {
   "cell_type": "code",
   "execution_count": 6,
   "id": "cbd1b0da",
   "metadata": {},
   "outputs": [],
   "source": [
    "def fpi_plot_graph(f, history, root, g_label=\"g(x)\"):\n",
    "    \"\"\"\n",
    "    Plota f(x), as aproximações do método do ponto fixo e destaca a raiz aproximada.\n",
    "    \"\"\"\n",
    "    if history is None or root is None:\n",
    "        print(\"Histórico ou raiz não definidos.\")\n",
    "        return\n",
    "\n",
    "    x_vals = np.linspace(min(history) - 1, max(history) + 1, 400)\n",
    "    y_vals = f(x_vals)\n",
    "\n",
    "    fig_fx = go.Figure()\n",
    "    fig_fx.add_trace(go.Scatter(x=x_vals, y=y_vals,\n",
    "                                mode='lines',   \n",
    "                                name='f(x)',\n",
    "                                line=dict(color='darkblue', width=2)))\n",
    "\n",
    "    fig_fx.add_trace(go.Scatter(x=history, y=[f(x) for x in history], \n",
    "                                mode='markers+lines', \n",
    "                                name=g_label,\n",
    "                                marker=dict(size=7, color='red', line=dict(width=2, color='DarkSlateGrey'))))\n",
    "\n",
    "    fig_fx.add_trace(go.Scatter(x=[root], y=[f(root)], mode='markers', name='Raiz Aproximada',\n",
    "                                marker=dict(size=10, color='orange', symbol='cross', line=dict(width=2, color='Black'))))\n",
    "\n",
    "    fig_fx.update_layout(title='f(x) e Aproximações pelo Método do Ponto Fixo',\n",
    "                        xaxis_title='x',\n",
    "                        yaxis_title='f(x)',\n",
    "                        showlegend=True)\n",
    "    fig_fx.show()\n"
   ]
  },
  {
   "cell_type": "code",
   "execution_count": 99,
   "id": "cfce73e6",
   "metadata": {},
   "outputs": [],
   "source": [
    "def fpi_plot_analysis(x_vals, g_vals,f = lambda x: x**2):\n",
    "    \"\"\"\n",
    "    Generates a plot for graphical analysis of fixed points in the fixed-point iteration method.\n",
    "\n",
    "    Parameters:\n",
    "    - x_vals (array-like): Values of x in the domain of the function.\n",
    "    - g_vals (array-like): Values of the function g(x) corresponding to x_vals.\n",
    "\n",
    "    The plot includes:\n",
    "    - The function f(x) = x^2 + x - 6.\n",
    "    - The function g(x).\n",
    "    - The identity line y = x (fixed points line).\n",
    "    - The numerical derivative g'(x).\n",
    "    - Reference lines at y = 1 and y = -1 for convergence analysis.\n",
    "\n",
    "    Returns:\n",
    "    - Interactively displays the plot.\n",
    "    \"\"\"\n",
    "\n",
    "    \n",
    "\n",
    "    if len(x_vals) != len(g_vals):\n",
    "        raise ValueError(\"x_vals e g_vals devem ter o mesmo comprimento.\")\n",
    "\n",
    "    g_deriv = np.gradient(g_vals, x_vals)\n",
    "\n",
    "    fig = go.Figure()\n",
    "\n",
    "    # Plot f(x)\n",
    "    y_vals = f(x_vals)\n",
    "    fig.add_trace(go.Scatter(\n",
    "        x=x_vals, y=y_vals,\n",
    "        mode='lines',\n",
    "        name='f(x)',\n",
    "        line=dict(color='purple', width=2)\n",
    "    ))\n",
    "\n",
    "    # Plot g(x)\n",
    "    fig.add_trace(go.Scatter(\n",
    "        x=x_vals, y=g_vals,\n",
    "        mode='lines',\n",
    "        name='g(x)',\n",
    "        line=dict(color='blue')\n",
    "    ))\n",
    "\n",
    "    # Plot y = x\n",
    "    fig.add_trace(go.Scatter(\n",
    "        x=x_vals, y=x_vals,\n",
    "        mode='lines',\n",
    "        name='y = x',\n",
    "        line=dict(dash='dash', color='black')\n",
    "    ))\n",
    "\n",
    "    # Plot g'(x)\n",
    "    fig.add_trace(go.Scatter(\n",
    "        x=x_vals, y=g_deriv,\n",
    "        mode='lines',\n",
    "        name=\"g'(x)\",\n",
    "        line=dict(dash='dot', color='green')\n",
    "    ))\n",
    "\n",
    "    # Plot y = -1 and y = 1\n",
    "    for y_ref in [-1, 1]:\n",
    "        fig.add_trace(go.Scatter(\n",
    "            x=[x_vals[0], x_vals[-1]],\n",
    "            y=[y_ref, y_ref],\n",
    "            mode='lines',\n",
    "            name=f'y = {y_ref}',\n",
    "            line=dict(color='gray', dash='dot')\n",
    "        ))\n",
    "    # Plot y = 0\n",
    "    for y_ref in [0]:\n",
    "        fig.add_trace(go.Scatter(\n",
    "            x=[x_vals[0], x_vals[-1]],\n",
    "            y=[y_ref, y_ref],\n",
    "            mode='lines',\n",
    "            name=f'y = {y_ref}',\n",
    "            line=dict(color='gray')\n",
    "        ))\n",
    "\n",
    "    # # Layout\n",
    "    y_min = min(-1, np.min(g_vals), np.min(g_deriv))\n",
    "    y_max = max(1, np.max(g_vals), np.max(g_deriv))\n",
    "\n",
    "    fig.update_layout(\n",
    "        title='Graphical Analysis of Fixed Points',\n",
    "        xaxis_title='x',\n",
    "        yaxis_title='y',\n",
    "        legend_title='Functions',\n",
    "        showlegend=True,\n",
    "        xaxis=dict(\n",
    "            title='x',\n",
    "            tickmode='linear'\n",
    "        ),\n",
    "        yaxis=dict(\n",
    "            title='y',\n",
    "            range=[y_min, y_max],\n",
    "            tickmode='linear',\n",
    "            dtick=0.5\n",
    "        )\n",
    "    )\n",
    "    return fig\n"
   ]
  },
  {
   "cell_type": "code",
   "execution_count": 8,
   "id": "ca0f20fe",
   "metadata": {},
   "outputs": [],
   "source": [
    "def symbolic_derivative(g):\n",
    "    x = symbols('x')\n",
    "    g_sym = g(x)\n",
    "    g_prime = diff(g_sym, x)\n",
    "    print(\"Symbolic derivative:\", g_prime)\n",
    "    return g_prime"
   ]
  },
  {
   "cell_type": "markdown",
   "id": "0b05c439",
   "metadata": {},
   "source": [
    "## teste"
   ]
  },
  {
   "cell_type": "markdown",
   "id": "913446fa",
   "metadata": {},
   "source": [
    "## f(x) = x^2 + x - 6\n",
    "```python"
   ]
  },
  {
   "cell_type": "code",
   "execution_count": 47,
   "id": "2010225a",
   "metadata": {},
   "outputs": [],
   "source": [
    "f = lambda x: x**2 + x - 6"
   ]
  },
  {
   "cell_type": "markdown",
   "id": "facb7264",
   "metadata": {},
   "source": [
    "```markdown\n",
    "g(x) = sqrt(6-x)"
   ]
  },
  {
   "cell_type": "code",
   "execution_count": 48,
   "id": "1b584511",
   "metadata": {},
   "outputs": [],
   "source": [
    "g = lambda x: math.sqrt(6 - x)  # g(x) = sqrt(6 - x)"
   ]
  },
  {
   "cell_type": "code",
   "execution_count": 49,
   "id": "97587acc",
   "metadata": {},
   "outputs": [
    {
     "name": "stdout",
     "output_type": "stream",
     "text": [
      "Raiz aproximada: 1.999999880115105\n",
      "Número de iterações: 12\n",
      "Histórico de aproximações:\n",
      "  Iteração 0: -0.2\n",
      "  Iteração 1: 2.4899799195977463\n",
      "  Iteração 2: 1.8735047585747557\n",
      "  Iteração 3: 2.0313776708001012\n",
      "  Iteração 4: 1.9921401379420822\n",
      "  Iteração 5: 2.001964001189312\n",
      "  Iteração 6: 1.999508939417548\n",
      "  Iteração 7: 2.000122761378024\n",
      "  Iteração 8: 1.9999693094200162\n",
      "  Iteração 9: 2.0000076726302787\n",
      "  Iteração 10: 1.9999980818415104\n",
      "  Iteração 11: 2.000000479539565\n",
      "  Iteração 12: 1.999999880115105\n"
     ]
    }
   ],
   "source": [
    "x0 = -0.2\n",
    "\n",
    "_r, _i, history = fpi_print_history(g, x0)"
   ]
  },
  {
   "cell_type": "code",
   "execution_count": 50,
   "id": "c5615412",
   "metadata": {},
   "outputs": [
    {
     "data": {
      "application/vnd.plotly.v1+json": {
       "config": {
        "plotlyServerURL": "https://plot.ly"
       },
       "data": [
        {
         "hovertemplate": "Iteração=%{x}<br>Aproximação=%{y}<extra></extra>",
         "legendgroup": "",
         "line": {
          "color": "blue",
          "dash": "solid",
          "width": 2
         },
         "marker": {
          "color": "red",
          "line": {
           "color": "DarkSlateGrey",
           "width": 2
          },
          "size": 10,
          "symbol": "circle"
         },
         "mode": "lines+markers",
         "name": "",
         "orientation": "v",
         "showlegend": false,
         "type": "scatter",
         "x": {
          "bdata": "AAECAwQFBgcICQoLDA==",
          "dtype": "i1"
         },
         "xaxis": "x",
         "y": {
          "bdata": "mpmZmZmZyb/G85KXeusDQMmpLyDg+f0/6Umv70JAAECqKVhWzt//P+oEx7MFBABAbbrtFf39/z+i1MBcQAAAQB1nj9Hf//8/qJHNBQQAAED9Jhn9/f//P5/aXEAAAABAoJLR3////z8=",
          "dtype": "f8"
         },
         "yaxis": "y"
        }
       ],
       "layout": {
        "legend": {
         "tracegroupgap": 0
        },
        "template": {
         "data": {
          "bar": [
           {
            "error_x": {
             "color": "#2a3f5f"
            },
            "error_y": {
             "color": "#2a3f5f"
            },
            "marker": {
             "line": {
              "color": "#E5ECF6",
              "width": 0.5
             },
             "pattern": {
              "fillmode": "overlay",
              "size": 10,
              "solidity": 0.2
             }
            },
            "type": "bar"
           }
          ],
          "barpolar": [
           {
            "marker": {
             "line": {
              "color": "#E5ECF6",
              "width": 0.5
             },
             "pattern": {
              "fillmode": "overlay",
              "size": 10,
              "solidity": 0.2
             }
            },
            "type": "barpolar"
           }
          ],
          "carpet": [
           {
            "aaxis": {
             "endlinecolor": "#2a3f5f",
             "gridcolor": "white",
             "linecolor": "white",
             "minorgridcolor": "white",
             "startlinecolor": "#2a3f5f"
            },
            "baxis": {
             "endlinecolor": "#2a3f5f",
             "gridcolor": "white",
             "linecolor": "white",
             "minorgridcolor": "white",
             "startlinecolor": "#2a3f5f"
            },
            "type": "carpet"
           }
          ],
          "choropleth": [
           {
            "colorbar": {
             "outlinewidth": 0,
             "ticks": ""
            },
            "type": "choropleth"
           }
          ],
          "contour": [
           {
            "colorbar": {
             "outlinewidth": 0,
             "ticks": ""
            },
            "colorscale": [
             [
              0,
              "#0d0887"
             ],
             [
              0.1111111111111111,
              "#46039f"
             ],
             [
              0.2222222222222222,
              "#7201a8"
             ],
             [
              0.3333333333333333,
              "#9c179e"
             ],
             [
              0.4444444444444444,
              "#bd3786"
             ],
             [
              0.5555555555555556,
              "#d8576b"
             ],
             [
              0.6666666666666666,
              "#ed7953"
             ],
             [
              0.7777777777777778,
              "#fb9f3a"
             ],
             [
              0.8888888888888888,
              "#fdca26"
             ],
             [
              1,
              "#f0f921"
             ]
            ],
            "type": "contour"
           }
          ],
          "contourcarpet": [
           {
            "colorbar": {
             "outlinewidth": 0,
             "ticks": ""
            },
            "type": "contourcarpet"
           }
          ],
          "heatmap": [
           {
            "colorbar": {
             "outlinewidth": 0,
             "ticks": ""
            },
            "colorscale": [
             [
              0,
              "#0d0887"
             ],
             [
              0.1111111111111111,
              "#46039f"
             ],
             [
              0.2222222222222222,
              "#7201a8"
             ],
             [
              0.3333333333333333,
              "#9c179e"
             ],
             [
              0.4444444444444444,
              "#bd3786"
             ],
             [
              0.5555555555555556,
              "#d8576b"
             ],
             [
              0.6666666666666666,
              "#ed7953"
             ],
             [
              0.7777777777777778,
              "#fb9f3a"
             ],
             [
              0.8888888888888888,
              "#fdca26"
             ],
             [
              1,
              "#f0f921"
             ]
            ],
            "type": "heatmap"
           }
          ],
          "histogram": [
           {
            "marker": {
             "pattern": {
              "fillmode": "overlay",
              "size": 10,
              "solidity": 0.2
             }
            },
            "type": "histogram"
           }
          ],
          "histogram2d": [
           {
            "colorbar": {
             "outlinewidth": 0,
             "ticks": ""
            },
            "colorscale": [
             [
              0,
              "#0d0887"
             ],
             [
              0.1111111111111111,
              "#46039f"
             ],
             [
              0.2222222222222222,
              "#7201a8"
             ],
             [
              0.3333333333333333,
              "#9c179e"
             ],
             [
              0.4444444444444444,
              "#bd3786"
             ],
             [
              0.5555555555555556,
              "#d8576b"
             ],
             [
              0.6666666666666666,
              "#ed7953"
             ],
             [
              0.7777777777777778,
              "#fb9f3a"
             ],
             [
              0.8888888888888888,
              "#fdca26"
             ],
             [
              1,
              "#f0f921"
             ]
            ],
            "type": "histogram2d"
           }
          ],
          "histogram2dcontour": [
           {
            "colorbar": {
             "outlinewidth": 0,
             "ticks": ""
            },
            "colorscale": [
             [
              0,
              "#0d0887"
             ],
             [
              0.1111111111111111,
              "#46039f"
             ],
             [
              0.2222222222222222,
              "#7201a8"
             ],
             [
              0.3333333333333333,
              "#9c179e"
             ],
             [
              0.4444444444444444,
              "#bd3786"
             ],
             [
              0.5555555555555556,
              "#d8576b"
             ],
             [
              0.6666666666666666,
              "#ed7953"
             ],
             [
              0.7777777777777778,
              "#fb9f3a"
             ],
             [
              0.8888888888888888,
              "#fdca26"
             ],
             [
              1,
              "#f0f921"
             ]
            ],
            "type": "histogram2dcontour"
           }
          ],
          "mesh3d": [
           {
            "colorbar": {
             "outlinewidth": 0,
             "ticks": ""
            },
            "type": "mesh3d"
           }
          ],
          "parcoords": [
           {
            "line": {
             "colorbar": {
              "outlinewidth": 0,
              "ticks": ""
             }
            },
            "type": "parcoords"
           }
          ],
          "pie": [
           {
            "automargin": true,
            "type": "pie"
           }
          ],
          "scatter": [
           {
            "fillpattern": {
             "fillmode": "overlay",
             "size": 10,
             "solidity": 0.2
            },
            "type": "scatter"
           }
          ],
          "scatter3d": [
           {
            "line": {
             "colorbar": {
              "outlinewidth": 0,
              "ticks": ""
             }
            },
            "marker": {
             "colorbar": {
              "outlinewidth": 0,
              "ticks": ""
             }
            },
            "type": "scatter3d"
           }
          ],
          "scattercarpet": [
           {
            "marker": {
             "colorbar": {
              "outlinewidth": 0,
              "ticks": ""
             }
            },
            "type": "scattercarpet"
           }
          ],
          "scattergeo": [
           {
            "marker": {
             "colorbar": {
              "outlinewidth": 0,
              "ticks": ""
             }
            },
            "type": "scattergeo"
           }
          ],
          "scattergl": [
           {
            "marker": {
             "colorbar": {
              "outlinewidth": 0,
              "ticks": ""
             }
            },
            "type": "scattergl"
           }
          ],
          "scattermap": [
           {
            "marker": {
             "colorbar": {
              "outlinewidth": 0,
              "ticks": ""
             }
            },
            "type": "scattermap"
           }
          ],
          "scattermapbox": [
           {
            "marker": {
             "colorbar": {
              "outlinewidth": 0,
              "ticks": ""
             }
            },
            "type": "scattermapbox"
           }
          ],
          "scatterpolar": [
           {
            "marker": {
             "colorbar": {
              "outlinewidth": 0,
              "ticks": ""
             }
            },
            "type": "scatterpolar"
           }
          ],
          "scatterpolargl": [
           {
            "marker": {
             "colorbar": {
              "outlinewidth": 0,
              "ticks": ""
             }
            },
            "type": "scatterpolargl"
           }
          ],
          "scatterternary": [
           {
            "marker": {
             "colorbar": {
              "outlinewidth": 0,
              "ticks": ""
             }
            },
            "type": "scatterternary"
           }
          ],
          "surface": [
           {
            "colorbar": {
             "outlinewidth": 0,
             "ticks": ""
            },
            "colorscale": [
             [
              0,
              "#0d0887"
             ],
             [
              0.1111111111111111,
              "#46039f"
             ],
             [
              0.2222222222222222,
              "#7201a8"
             ],
             [
              0.3333333333333333,
              "#9c179e"
             ],
             [
              0.4444444444444444,
              "#bd3786"
             ],
             [
              0.5555555555555556,
              "#d8576b"
             ],
             [
              0.6666666666666666,
              "#ed7953"
             ],
             [
              0.7777777777777778,
              "#fb9f3a"
             ],
             [
              0.8888888888888888,
              "#fdca26"
             ],
             [
              1,
              "#f0f921"
             ]
            ],
            "type": "surface"
           }
          ],
          "table": [
           {
            "cells": {
             "fill": {
              "color": "#EBF0F8"
             },
             "line": {
              "color": "white"
             }
            },
            "header": {
             "fill": {
              "color": "#C8D4E3"
             },
             "line": {
              "color": "white"
             }
            },
            "type": "table"
           }
          ]
         },
         "layout": {
          "annotationdefaults": {
           "arrowcolor": "#2a3f5f",
           "arrowhead": 0,
           "arrowwidth": 1
          },
          "autotypenumbers": "strict",
          "coloraxis": {
           "colorbar": {
            "outlinewidth": 0,
            "ticks": ""
           }
          },
          "colorscale": {
           "diverging": [
            [
             0,
             "#8e0152"
            ],
            [
             0.1,
             "#c51b7d"
            ],
            [
             0.2,
             "#de77ae"
            ],
            [
             0.3,
             "#f1b6da"
            ],
            [
             0.4,
             "#fde0ef"
            ],
            [
             0.5,
             "#f7f7f7"
            ],
            [
             0.6,
             "#e6f5d0"
            ],
            [
             0.7,
             "#b8e186"
            ],
            [
             0.8,
             "#7fbc41"
            ],
            [
             0.9,
             "#4d9221"
            ],
            [
             1,
             "#276419"
            ]
           ],
           "sequential": [
            [
             0,
             "#0d0887"
            ],
            [
             0.1111111111111111,
             "#46039f"
            ],
            [
             0.2222222222222222,
             "#7201a8"
            ],
            [
             0.3333333333333333,
             "#9c179e"
            ],
            [
             0.4444444444444444,
             "#bd3786"
            ],
            [
             0.5555555555555556,
             "#d8576b"
            ],
            [
             0.6666666666666666,
             "#ed7953"
            ],
            [
             0.7777777777777778,
             "#fb9f3a"
            ],
            [
             0.8888888888888888,
             "#fdca26"
            ],
            [
             1,
             "#f0f921"
            ]
           ],
           "sequentialminus": [
            [
             0,
             "#0d0887"
            ],
            [
             0.1111111111111111,
             "#46039f"
            ],
            [
             0.2222222222222222,
             "#7201a8"
            ],
            [
             0.3333333333333333,
             "#9c179e"
            ],
            [
             0.4444444444444444,
             "#bd3786"
            ],
            [
             0.5555555555555556,
             "#d8576b"
            ],
            [
             0.6666666666666666,
             "#ed7953"
            ],
            [
             0.7777777777777778,
             "#fb9f3a"
            ],
            [
             0.8888888888888888,
             "#fdca26"
            ],
            [
             1,
             "#f0f921"
            ]
           ]
          },
          "colorway": [
           "#636efa",
           "#EF553B",
           "#00cc96",
           "#ab63fa",
           "#FFA15A",
           "#19d3f3",
           "#FF6692",
           "#B6E880",
           "#FF97FF",
           "#FECB52"
          ],
          "font": {
           "color": "#2a3f5f"
          },
          "geo": {
           "bgcolor": "white",
           "lakecolor": "white",
           "landcolor": "#E5ECF6",
           "showlakes": true,
           "showland": true,
           "subunitcolor": "white"
          },
          "hoverlabel": {
           "align": "left"
          },
          "hovermode": "closest",
          "mapbox": {
           "style": "light"
          },
          "paper_bgcolor": "white",
          "plot_bgcolor": "#E5ECF6",
          "polar": {
           "angularaxis": {
            "gridcolor": "white",
            "linecolor": "white",
            "ticks": ""
           },
           "bgcolor": "#E5ECF6",
           "radialaxis": {
            "gridcolor": "white",
            "linecolor": "white",
            "ticks": ""
           }
          },
          "scene": {
           "xaxis": {
            "backgroundcolor": "#E5ECF6",
            "gridcolor": "white",
            "gridwidth": 2,
            "linecolor": "white",
            "showbackground": true,
            "ticks": "",
            "zerolinecolor": "white"
           },
           "yaxis": {
            "backgroundcolor": "#E5ECF6",
            "gridcolor": "white",
            "gridwidth": 2,
            "linecolor": "white",
            "showbackground": true,
            "ticks": "",
            "zerolinecolor": "white"
           },
           "zaxis": {
            "backgroundcolor": "#E5ECF6",
            "gridcolor": "white",
            "gridwidth": 2,
            "linecolor": "white",
            "showbackground": true,
            "ticks": "",
            "zerolinecolor": "white"
           }
          },
          "shapedefaults": {
           "line": {
            "color": "#2a3f5f"
           }
          },
          "ternary": {
           "aaxis": {
            "gridcolor": "white",
            "linecolor": "white",
            "ticks": ""
           },
           "baxis": {
            "gridcolor": "white",
            "linecolor": "white",
            "ticks": ""
           },
           "bgcolor": "#E5ECF6",
           "caxis": {
            "gridcolor": "white",
            "linecolor": "white",
            "ticks": ""
           }
          },
          "title": {
           "x": 0.05
          },
          "xaxis": {
           "automargin": true,
           "gridcolor": "white",
           "linecolor": "white",
           "ticks": "",
           "title": {
            "standoff": 15
           },
           "zerolinecolor": "white",
           "zerolinewidth": 2
          },
          "yaxis": {
           "automargin": true,
           "gridcolor": "white",
           "linecolor": "white",
           "ticks": "",
           "title": {
            "standoff": 15
           },
           "zerolinecolor": "white",
           "zerolinewidth": 2
          }
         }
        },
        "title": {
         "text": "Histórico de Aproximações - Método do Ponto Fixo"
        },
        "xaxis": {
         "anchor": "y",
         "domain": [
          0,
          1
         ],
         "title": {
          "text": "Iteração"
         }
        },
        "yaxis": {
         "anchor": "x",
         "domain": [
          0,
          1
         ],
         "title": {
          "text": "Aproximação"
         }
        }
       }
      }
     },
     "metadata": {},
     "output_type": "display_data"
    }
   ],
   "source": [
    "fpi_plot_history(history)"
   ]
  },
  {
   "cell_type": "code",
   "execution_count": 51,
   "id": "4a0c6732",
   "metadata": {},
   "outputs": [
    {
     "data": {
      "application/vnd.plotly.v1+json": {
       "config": {
        "plotlyServerURL": "https://plot.ly"
       },
       "data": [
        {
         "line": {
          "color": "darkblue",
          "width": 2
         },
         "mode": "lines",
         "name": "f(x)",
         "type": "scatter",
         "x": {
          "bdata": "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",
          "dtype": "f8"
         },
         "y": {
          "bdata": "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",
          "dtype": "f8"
         }
        },
        {
         "marker": {
          "color": "red",
          "line": {
           "color": "DarkSlateGrey",
           "width": 2
          },
          "size": 7
         },
         "mode": "markers+lines",
         "name": "g(x) = sqrt(6 - x)",
         "type": "scatter",
         "x": [
          -0.2,
          2.4899799195977463,
          1.8735047585747557,
          2.0313776708001012,
          1.9921401379420822,
          2.001964001189312,
          1.999508939417548,
          2.000122761378024,
          1.9999693094200162,
          2.0000076726302787,
          1.9999980818415104,
          2.000000479539565,
          1.999999880115105
         ],
         "y": [
          -6.16,
          2.6899799195977465,
          -0.6164751610229908,
          0.15787291222534527,
          -0.03923753285801901,
          0.009823863247230946,
          -0.002455061771764022,
          0.0006138219604752138,
          -0.00015345195800708922,
          0.00003836321026273737,
          -0.000009590788768498726,
          0.0000023976980543238824,
          -5.994244602902654e-7
         ]
        },
        {
         "marker": {
          "color": "orange",
          "line": {
           "color": "Black",
           "width": 2
          },
          "size": 10,
          "symbol": "cross"
         },
         "mode": "markers",
         "name": "Raiz Aproximada",
         "type": "scatter",
         "x": [
          1.999999880115105
         ],
         "y": [
          -5.994244602902654e-7
         ]
        }
       ],
       "layout": {
        "showlegend": true,
        "template": {
         "data": {
          "bar": [
           {
            "error_x": {
             "color": "#2a3f5f"
            },
            "error_y": {
             "color": "#2a3f5f"
            },
            "marker": {
             "line": {
              "color": "#E5ECF6",
              "width": 0.5
             },
             "pattern": {
              "fillmode": "overlay",
              "size": 10,
              "solidity": 0.2
             }
            },
            "type": "bar"
           }
          ],
          "barpolar": [
           {
            "marker": {
             "line": {
              "color": "#E5ECF6",
              "width": 0.5
             },
             "pattern": {
              "fillmode": "overlay",
              "size": 10,
              "solidity": 0.2
             }
            },
            "type": "barpolar"
           }
          ],
          "carpet": [
           {
            "aaxis": {
             "endlinecolor": "#2a3f5f",
             "gridcolor": "white",
             "linecolor": "white",
             "minorgridcolor": "white",
             "startlinecolor": "#2a3f5f"
            },
            "baxis": {
             "endlinecolor": "#2a3f5f",
             "gridcolor": "white",
             "linecolor": "white",
             "minorgridcolor": "white",
             "startlinecolor": "#2a3f5f"
            },
            "type": "carpet"
           }
          ],
          "choropleth": [
           {
            "colorbar": {
             "outlinewidth": 0,
             "ticks": ""
            },
            "type": "choropleth"
           }
          ],
          "contour": [
           {
            "colorbar": {
             "outlinewidth": 0,
             "ticks": ""
            },
            "colorscale": [
             [
              0,
              "#0d0887"
             ],
             [
              0.1111111111111111,
              "#46039f"
             ],
             [
              0.2222222222222222,
              "#7201a8"
             ],
             [
              0.3333333333333333,
              "#9c179e"
             ],
             [
              0.4444444444444444,
              "#bd3786"
             ],
             [
              0.5555555555555556,
              "#d8576b"
             ],
             [
              0.6666666666666666,
              "#ed7953"
             ],
             [
              0.7777777777777778,
              "#fb9f3a"
             ],
             [
              0.8888888888888888,
              "#fdca26"
             ],
             [
              1,
              "#f0f921"
             ]
            ],
            "type": "contour"
           }
          ],
          "contourcarpet": [
           {
            "colorbar": {
             "outlinewidth": 0,
             "ticks": ""
            },
            "type": "contourcarpet"
           }
          ],
          "heatmap": [
           {
            "colorbar": {
             "outlinewidth": 0,
             "ticks": ""
            },
            "colorscale": [
             [
              0,
              "#0d0887"
             ],
             [
              0.1111111111111111,
              "#46039f"
             ],
             [
              0.2222222222222222,
              "#7201a8"
             ],
             [
              0.3333333333333333,
              "#9c179e"
             ],
             [
              0.4444444444444444,
              "#bd3786"
             ],
             [
              0.5555555555555556,
              "#d8576b"
             ],
             [
              0.6666666666666666,
              "#ed7953"
             ],
             [
              0.7777777777777778,
              "#fb9f3a"
             ],
             [
              0.8888888888888888,
              "#fdca26"
             ],
             [
              1,
              "#f0f921"
             ]
            ],
            "type": "heatmap"
           }
          ],
          "histogram": [
           {
            "marker": {
             "pattern": {
              "fillmode": "overlay",
              "size": 10,
              "solidity": 0.2
             }
            },
            "type": "histogram"
           }
          ],
          "histogram2d": [
           {
            "colorbar": {
             "outlinewidth": 0,
             "ticks": ""
            },
            "colorscale": [
             [
              0,
              "#0d0887"
             ],
             [
              0.1111111111111111,
              "#46039f"
             ],
             [
              0.2222222222222222,
              "#7201a8"
             ],
             [
              0.3333333333333333,
              "#9c179e"
             ],
             [
              0.4444444444444444,
              "#bd3786"
             ],
             [
              0.5555555555555556,
              "#d8576b"
             ],
             [
              0.6666666666666666,
              "#ed7953"
             ],
             [
              0.7777777777777778,
              "#fb9f3a"
             ],
             [
              0.8888888888888888,
              "#fdca26"
             ],
             [
              1,
              "#f0f921"
             ]
            ],
            "type": "histogram2d"
           }
          ],
          "histogram2dcontour": [
           {
            "colorbar": {
             "outlinewidth": 0,
             "ticks": ""
            },
            "colorscale": [
             [
              0,
              "#0d0887"
             ],
             [
              0.1111111111111111,
              "#46039f"
             ],
             [
              0.2222222222222222,
              "#7201a8"
             ],
             [
              0.3333333333333333,
              "#9c179e"
             ],
             [
              0.4444444444444444,
              "#bd3786"
             ],
             [
              0.5555555555555556,
              "#d8576b"
             ],
             [
              0.6666666666666666,
              "#ed7953"
             ],
             [
              0.7777777777777778,
              "#fb9f3a"
             ],
             [
              0.8888888888888888,
              "#fdca26"
             ],
             [
              1,
              "#f0f921"
             ]
            ],
            "type": "histogram2dcontour"
           }
          ],
          "mesh3d": [
           {
            "colorbar": {
             "outlinewidth": 0,
             "ticks": ""
            },
            "type": "mesh3d"
           }
          ],
          "parcoords": [
           {
            "line": {
             "colorbar": {
              "outlinewidth": 0,
              "ticks": ""
             }
            },
            "type": "parcoords"
           }
          ],
          "pie": [
           {
            "automargin": true,
            "type": "pie"
           }
          ],
          "scatter": [
           {
            "fillpattern": {
             "fillmode": "overlay",
             "size": 10,
             "solidity": 0.2
            },
            "type": "scatter"
           }
          ],
          "scatter3d": [
           {
            "line": {
             "colorbar": {
              "outlinewidth": 0,
              "ticks": ""
             }
            },
            "marker": {
             "colorbar": {
              "outlinewidth": 0,
              "ticks": ""
             }
            },
            "type": "scatter3d"
           }
          ],
          "scattercarpet": [
           {
            "marker": {
             "colorbar": {
              "outlinewidth": 0,
              "ticks": ""
             }
            },
            "type": "scattercarpet"
           }
          ],
          "scattergeo": [
           {
            "marker": {
             "colorbar": {
              "outlinewidth": 0,
              "ticks": ""
             }
            },
            "type": "scattergeo"
           }
          ],
          "scattergl": [
           {
            "marker": {
             "colorbar": {
              "outlinewidth": 0,
              "ticks": ""
             }
            },
            "type": "scattergl"
           }
          ],
          "scattermap": [
           {
            "marker": {
             "colorbar": {
              "outlinewidth": 0,
              "ticks": ""
             }
            },
            "type": "scattermap"
           }
          ],
          "scattermapbox": [
           {
            "marker": {
             "colorbar": {
              "outlinewidth": 0,
              "ticks": ""
             }
            },
            "type": "scattermapbox"
           }
          ],
          "scatterpolar": [
           {
            "marker": {
             "colorbar": {
              "outlinewidth": 0,
              "ticks": ""
             }
            },
            "type": "scatterpolar"
           }
          ],
          "scatterpolargl": [
           {
            "marker": {
             "colorbar": {
              "outlinewidth": 0,
              "ticks": ""
             }
            },
            "type": "scatterpolargl"
           }
          ],
          "scatterternary": [
           {
            "marker": {
             "colorbar": {
              "outlinewidth": 0,
              "ticks": ""
             }
            },
            "type": "scatterternary"
           }
          ],
          "surface": [
           {
            "colorbar": {
             "outlinewidth": 0,
             "ticks": ""
            },
            "colorscale": [
             [
              0,
              "#0d0887"
             ],
             [
              0.1111111111111111,
              "#46039f"
             ],
             [
              0.2222222222222222,
              "#7201a8"
             ],
             [
              0.3333333333333333,
              "#9c179e"
             ],
             [
              0.4444444444444444,
              "#bd3786"
             ],
             [
              0.5555555555555556,
              "#d8576b"
             ],
             [
              0.6666666666666666,
              "#ed7953"
             ],
             [
              0.7777777777777778,
              "#fb9f3a"
             ],
             [
              0.8888888888888888,
              "#fdca26"
             ],
             [
              1,
              "#f0f921"
             ]
            ],
            "type": "surface"
           }
          ],
          "table": [
           {
            "cells": {
             "fill": {
              "color": "#EBF0F8"
             },
             "line": {
              "color": "white"
             }
            },
            "header": {
             "fill": {
              "color": "#C8D4E3"
             },
             "line": {
              "color": "white"
             }
            },
            "type": "table"
           }
          ]
         },
         "layout": {
          "annotationdefaults": {
           "arrowcolor": "#2a3f5f",
           "arrowhead": 0,
           "arrowwidth": 1
          },
          "autotypenumbers": "strict",
          "coloraxis": {
           "colorbar": {
            "outlinewidth": 0,
            "ticks": ""
           }
          },
          "colorscale": {
           "diverging": [
            [
             0,
             "#8e0152"
            ],
            [
             0.1,
             "#c51b7d"
            ],
            [
             0.2,
             "#de77ae"
            ],
            [
             0.3,
             "#f1b6da"
            ],
            [
             0.4,
             "#fde0ef"
            ],
            [
             0.5,
             "#f7f7f7"
            ],
            [
             0.6,
             "#e6f5d0"
            ],
            [
             0.7,
             "#b8e186"
            ],
            [
             0.8,
             "#7fbc41"
            ],
            [
             0.9,
             "#4d9221"
            ],
            [
             1,
             "#276419"
            ]
           ],
           "sequential": [
            [
             0,
             "#0d0887"
            ],
            [
             0.1111111111111111,
             "#46039f"
            ],
            [
             0.2222222222222222,
             "#7201a8"
            ],
            [
             0.3333333333333333,
             "#9c179e"
            ],
            [
             0.4444444444444444,
             "#bd3786"
            ],
            [
             0.5555555555555556,
             "#d8576b"
            ],
            [
             0.6666666666666666,
             "#ed7953"
            ],
            [
             0.7777777777777778,
             "#fb9f3a"
            ],
            [
             0.8888888888888888,
             "#fdca26"
            ],
            [
             1,
             "#f0f921"
            ]
           ],
           "sequentialminus": [
            [
             0,
             "#0d0887"
            ],
            [
             0.1111111111111111,
             "#46039f"
            ],
            [
             0.2222222222222222,
             "#7201a8"
            ],
            [
             0.3333333333333333,
             "#9c179e"
            ],
            [
             0.4444444444444444,
             "#bd3786"
            ],
            [
             0.5555555555555556,
             "#d8576b"
            ],
            [
             0.6666666666666666,
             "#ed7953"
            ],
            [
             0.7777777777777778,
             "#fb9f3a"
            ],
            [
             0.8888888888888888,
             "#fdca26"
            ],
            [
             1,
             "#f0f921"
            ]
           ]
          },
          "colorway": [
           "#636efa",
           "#EF553B",
           "#00cc96",
           "#ab63fa",
           "#FFA15A",
           "#19d3f3",
           "#FF6692",
           "#B6E880",
           "#FF97FF",
           "#FECB52"
          ],
          "font": {
           "color": "#2a3f5f"
          },
          "geo": {
           "bgcolor": "white",
           "lakecolor": "white",
           "landcolor": "#E5ECF6",
           "showlakes": true,
           "showland": true,
           "subunitcolor": "white"
          },
          "hoverlabel": {
           "align": "left"
          },
          "hovermode": "closest",
          "mapbox": {
           "style": "light"
          },
          "paper_bgcolor": "white",
          "plot_bgcolor": "#E5ECF6",
          "polar": {
           "angularaxis": {
            "gridcolor": "white",
            "linecolor": "white",
            "ticks": ""
           },
           "bgcolor": "#E5ECF6",
           "radialaxis": {
            "gridcolor": "white",
            "linecolor": "white",
            "ticks": ""
           }
          },
          "scene": {
           "xaxis": {
            "backgroundcolor": "#E5ECF6",
            "gridcolor": "white",
            "gridwidth": 2,
            "linecolor": "white",
            "showbackground": true,
            "ticks": "",
            "zerolinecolor": "white"
           },
           "yaxis": {
            "backgroundcolor": "#E5ECF6",
            "gridcolor": "white",
            "gridwidth": 2,
            "linecolor": "white",
            "showbackground": true,
            "ticks": "",
            "zerolinecolor": "white"
           },
           "zaxis": {
            "backgroundcolor": "#E5ECF6",
            "gridcolor": "white",
            "gridwidth": 2,
            "linecolor": "white",
            "showbackground": true,
            "ticks": "",
            "zerolinecolor": "white"
           }
          },
          "shapedefaults": {
           "line": {
            "color": "#2a3f5f"
           }
          },
          "ternary": {
           "aaxis": {
            "gridcolor": "white",
            "linecolor": "white",
            "ticks": ""
           },
           "baxis": {
            "gridcolor": "white",
            "linecolor": "white",
            "ticks": ""
           },
           "bgcolor": "#E5ECF6",
           "caxis": {
            "gridcolor": "white",
            "linecolor": "white",
            "ticks": ""
           }
          },
          "title": {
           "x": 0.05
          },
          "xaxis": {
           "automargin": true,
           "gridcolor": "white",
           "linecolor": "white",
           "ticks": "",
           "title": {
            "standoff": 15
           },
           "zerolinecolor": "white",
           "zerolinewidth": 2
          },
          "yaxis": {
           "automargin": true,
           "gridcolor": "white",
           "linecolor": "white",
           "ticks": "",
           "title": {
            "standoff": 15
           },
           "zerolinecolor": "white",
           "zerolinewidth": 2
          }
         }
        },
        "title": {
         "text": "f(x) e Aproximações pelo Método do Ponto Fixo"
        },
        "xaxis": {
         "title": {
          "text": "x"
         }
        },
        "yaxis": {
         "title": {
          "text": "f(x)"
         }
        }
       }
      }
     },
     "metadata": {},
     "output_type": "display_data"
    }
   ],
   "source": [
    "fpi_plot_graph(f, history, _r, g_label=\"g(x) = sqrt(6 - x)\")"
   ]
  },
  {
   "cell_type": "code",
   "execution_count": 52,
   "id": "542c518d",
   "metadata": {},
   "outputs": [
    {
     "name": "stdout",
     "output_type": "stream",
     "text": [
      "Symbolic derivative: -1/(2*sqrt(6 - x))\n"
     ]
    },
    {
     "data": {
      "text/latex": [
       "$\\displaystyle - \\frac{1}{2 \\sqrt{6 - x}}$"
      ],
      "text/plain": [
       "-1/(2*sqrt(6 - x))"
      ]
     },
     "execution_count": 52,
     "metadata": {},
     "output_type": "execute_result"
    }
   ],
   "source": [
    "symbolic_derivative(g = lambda x: sp.sqrt(6 - x))"
   ]
  },
  {
   "cell_type": "code",
   "execution_count": 101,
   "id": "163ad09f",
   "metadata": {},
   "outputs": [
    {
     "name": "stderr",
     "output_type": "stream",
     "text": [
      "C:\\Users\\maria\\AppData\\Local\\Temp\\ipykernel_35580\\3904308631.py:1: RuntimeWarning:\n",
      "\n",
      "invalid value encountered in sqrt\n",
      "\n"
     ]
    },
    {
     "data": {
      "application/vnd.plotly.v1+json": {
       "config": {
        "plotlyServerURL": "https://plot.ly"
       },
       "data": [
        {
         "line": {
          "color": "purple",
          "width": 2
         },
         "mode": "lines",
         "name": "f(x)",
         "type": "scatter",
         "x": {
          "bdata": "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",
          "dtype": "f8"
         },
         "y": {
          "bdata": "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",
          "dtype": "f8"
         }
        },
        {
         "line": {
          "color": "blue"
         },
         "mode": "lines",
         "name": "g(x)",
         "type": "scatter",
         "x": {
          "bdata": "MzMzMzMzNMC/7KuXdzA0wEumJPy7LTTA1l+dYAArNMBiGRbFRCg0wO7SjimJJTTAeowHjs0iNMAFRoDyESA0wJH/+FZWHTTAHblxu5oaNMCpcuof3xc0wDQsY4QjFTTAwOXb6GcSNMBMn1RNrA80wNhYzbHwDDTAZBJGFjUKNMDvy756eQc0wHuFN9+9BDTABz+wQwICNMCT+CioRv8zwB6yoQyL/DPAqmsacc/5M8A2JZPVE/czwMLeCzpY9DPATZiEnpzxM8DZUf0C4e4zwGULdmcl7DPA8cTuy2npM8B8fmcwruYzwAg44JTy4zPAlPFY+TbhM8Agq9Fde94zwKxkSsK/2zPANx7DJgTZM8DD1zuLSNYzwE+RtO+M0zPA20otVNHQM8BmBKa4Fc4zwPK9Hh1ayzPAfneXgZ7IM8AKMRDm4sUzwJXqiEonwzPAIaQBr2vAM8CtXXoTsL0zwDkX83f0ujPAxdBr3Di4M8BQiuRAfbUzwNxDXaXBsjPAaP3VCQawM8D0tk5uSq0zwH9wx9KOqjPACypAN9OnM8CX47ibF6UzwCOdMQBcojPArlaqZKCfM8A6ECPJ5JwzwMbJmy0pmjPAUoMUkm2XM8DePI32sZQzwGn2BVv2kTPA9a9+vzqPM8CBafcjf4wzwA0jcIjDiTPAmNzo7AeHM8AklmFRTIQzwLBP2rWQgTPAPAlTGtV+M8DHwst+GXwzwFN8RONdeTPA3zW9R6J2M8Br7zWs5nMzwPeorhArcTPAgmIndW9uM8AOHKDZs2szwJrVGD74aDPAJo+RojxmM8CxSAoHgWMzwD0Cg2vFYDPAybv7zwleM8BVdXQ0TlszwOAu7ZiSWDPAbOhl/dZVM8D4od5hG1MzwIRbV8ZfUDPAEBXQKqRNM8CbzkiP6EozwCeIwfMsSDPAs0E6WHFFM8A/+7K8tUIzwMq0KyH6PzPAVm6khT49M8DiJx3qgjozwG7hlU7HNzPA+ZoOsws1M8CFVIcXUDIzwBEOAHyULzPAncd44NgsM8AogfFEHSozwLQ6aqlhJzPAQPTiDaYkM8DMrVty6iEzwFhn1NYuHzPA4yBNO3McM8Bv2sWftxkzwPuTPgT8FjPAh023aEAUM8ASBzDNhBEzwJ7AqDHJDjPAKnohlg0MM8C2M5r6UQkzwELtEl+WBjPAzaaLw9oDM8BZYAQoHwEzwOUZfYxj/jLAcdP18Kf7MsD8jG5V7PgywIhG57kw9jLAFABgHnXzMsCgudiCufAywCtzUef97TLAtyzKS0LrMsBD5kKwhugywM+fuxTL5TLAWlk0eQ/jMsDmEq3dU+AywHLMJUKY3TLA/oWeptzaMsCKPxcLIdgywBX5j29l1TLAobII1KnSMsAtbIE47s8ywLkl+pwyzTLARN9yAXfKMsDQmOtlu8cywFxSZMr/xDLA6AvdLkTCMsBzxVWTiL8ywP9+zvfMvDLAizhHXBG6MsAX8r/AVbcywKKrOCWatDLALmWxid6xMsC6HiruIq8ywEbYolJnrDLA0pEbt6upMsBdS5Qb8KYywOkEDYA0pDLAdb6F5HihMsABeP5IvZ4ywIwxd60BnDLAGOvvEUaZMsCkpGh2ipYywDBe4drOkzLAvBdaPxORMsBH0dKjV44ywNOKSwicizLAX0TEbOCIMsDr/TzRJIYywHa3tTVpgzLAAnEumq2AMsCOKqf+8X0ywBrkH2M2ezLApZ2Yx3p4MsAxVxEsv3UywL0QipADczLAScoC9UdwMsDUg3tZjG0ywGA99L3QajLA7PZsIhVoMsB4sOWGWWUywARqXuudYjLAjyPXT+JfMsAb3U+0Jl0ywKeWyBhrWjLAM1BBfa9XMsC+Cbrh81QywErDMkY4UjLA1nyrqnxPMsBiNiQPwUwywO7vnHMFSjLAeakV2ElHMsAFY448jkQywJEcB6HSQTLAHdZ/BRc/MsCoj/hpWzwywDRJcc6fOTLAwALqMuQ2MsBMvGKXKDQywNd12/tsMTLAYy9UYLEuMsDv6MzE9SsywHuiRSk6KTLABly+jX4mMsCSFTfywiMywB7Pr1YHITLAqogou0seMsA2QqEfkBsywMH7GYTUGDLATbWS6BgWMsDZbgtNXRMywGUohLGhEDLA8OH8FeYNMsB8m3V6KgsywAhV7t5uCDLAlA5nQ7MFMsAgyN+n9wIywKuBWAw8ADLANzvRcID9McDD9EnVxPoxwE6uwjkJ+DHA2mc7nk31McBmIbQCkvIxwPLaLGfW7zHAfpSlyxrtMcAJTh4wX+oxwJUHl5Sj5zHAIcEP+efkMcCteohdLOIxwDg0AcJw3zHAxO15JrXcMcBQp/KK+dkxwNxga+891zHAaBrkU4LUMcDz01y4xtExwH+N1RwLzzHAC0dOgU/MMcCXAMflk8kxwCK6P0rYxjHArnO4rhzEMcA6LTETYcExwMbmqXelvjHAUaAi3Om7McDdWZtALrkxwGkTFKVytjHA9cyMCbezMcCAhgVu+7AxwAxAftI/rjHAmPn2NoSrMcAks2+byKgxwLBs6P8MpjHAOyZhZFGjMcDH39nIlaAxwFOZUi3anTHA31LLkR6bMcBqDET2YpgxwPbFvFqnlTHAgn81v+uSMcAOOa4jMJAxwJryJoh0jTHAJayf7LiKMcCxZRhR/YcxwD0fkbVBhTHAyNgJGoaCMcBUkoJ+yn8xwOBL++IOfTHAbAV0R1N6McD4vuyrl3cxwIN4ZRDcdDHADzLedCByMcCb61bZZG8xwCelzz2pbDHAsl5Iou1pMcA+GMEGMmcxwMrROWt2ZDHAVouyz7phMcDiRCs0/14xwG3+o5hDXDHA+bcc/YdZMcCFcZVhzFYxwBErDsYQVDHAnOSGKlVRMcAonv+OmU4xwLRXePPdSzHAQBHxVyJJMcDMymm8ZkYxwFeE4iCrQzHA4z1bhe9AMcBv99PpMz4xwPqwTE54OzHAhmrFsrw4McASJD4XATYxwJ7dtntFMzHAKpcv4IkwMcC1UKhEzi0xwEEKIakSKzHAzcOZDVcoMcBZfRJymyUxwOQ2i9bfIjHAcPADOyQgMcD8qXyfaB0xwIhj9QOtGjHAFB1uaPEXMcCf1ubMNRUxwCuQXzF6EjHAt0nYlb4PMcBDA1H6Ag0xwM68yV5HCjHAWnZCw4sHMcDmL7sn0AQxwHLpM4wUAjHA/aKs8Fj/MMCJXCVVnfwwwBUWnrnh+TDAoc8WHib3MMAsiY+CavQwwLhCCOeu8TDARPyAS/PuMMDQtfmvN+wwwFxvchR86TDA5yjreMDmMMBz4mPdBOQwwP+b3EFJ4TDAi1VVpo3eMMAWD84K0tswwKLIRm8W2TDALoK/01rWMMC6Ozg4n9MwwEb1sJzj0DDA0a4pASjOMMBdaKJlbMswwOkhG8qwyDDAdNuTLvXFMMAAlQyTOcMwwIxOhfd9wDDAGAj+W8K9MMCkwXbABrswwC977yRLuDDAuzRoiY+1MMBH7uDt07IwwNOnWVIYsDDAXmHStlytMMDqGksboaowwHbUw3/lpzDAAo485CmlMMCOR7VIbqIwwBkBLq2ynzDApbqmEfecMMAxdB92O5owwL0tmNp/lzDASOcQP8SUMMDUoImjCJIwwGBaAghNjzDA7BN7bJGMMMB4zfPQ1YkwwAOHbDUahzDAj0DlmV6EMMAb+l3+ooEwwKaz1mLnfjDAMm1Pxyt8MMC+JsgrcHkwwErgQJC0djDA1pm59PhzMMBhUzJZPXEwwO0Mq72BbjDAecYjIsZrMMAFgJyGCmkwwJA5FetOZjDAHPONT5NjMMCorAa012AwwDRmfxgcXjDAwB/4fGBbMMBL2XDhpFgwwNeS6UXpVTDAY0xiqi1TMMDvBdsOclAwwHq/U3O2TTDABnnM1/pKMMCSMkU8P0gwwB7svaCDRTDAqaU2BchCMMA1X69pDEAwwMEYKM5QPTDATdKgMpU6MMDYixmX2TcwwGRFkvsdNTDA8P4KYGIyMMB8uIPEpi8wwAhy/CjrLDDAkyt1jS8qMMAf5e3xcycwwKueZla4JDDAN1jfuvwhMMDCEVgfQR8wwE7L0IOFHDDA2oRJ6MkZMMBmPsJMDhcwwPL3OrFSFDDAfbGzFZcRMMAJayx62w4wwJUkpd4fDDDAIN4dQ2QJMMCsl5anqAYwwDhRDwztAzDAxAqIcDEBMMCfiAGq6/wvwLf78nJ09y/Azm7kO/3xL8Dm4dUEhuwvwP5Ux80O5y/AFci4lpfhL8AsO6pfINwvwESumyip1i/AXCGN8THRL8BzlH66ussvwIoHcINDxi/AonphTMzAL8C67VIVVbsvwNFgRN7dtS/A6NM1p2awL8AARydw76ovwBi6GDl4pS/AMC0KAgGgL8BHoPvKiZovwF4T7ZMSlS/AdobeXJuPL8CO+c8lJIovwKVswe6shC/AvN+ytzV/L8DUUqSAvnkvwOzFlUlHdC/AAzmHEtBuL8AarHjbWGkvwDIfaqThYy/ASpJbbWpeL8BiBU0281gvwHl4Pv97Uy/AkOsvyAROL8CoXiGRjUgvwMDREloWQy/A10QEI589L8Dut/XrJzgvwAYr57SwMi/AHp7YfTktL8A1EcpGwicvwEyEuw9LIi/AZPes2NMcL8B8ap6hXBcvwJTdj2rlES/Aq1CBM24ML8DCw3L89gYvwNo2ZMV/AS/A8qlVjgj8LsAJHUdXkfYuwCCQOCAa8S7AOAMq6aLrLsBQdhuyK+YuwGfpDHu04C7Aflz+Qz3bLsCWz+8MxtUuwK5C4dVO0C7AxrXSntfKLsDdKMRnYMUuwPSbtTDpvy7ADA+n+XG6LsAkgpjC+rQuwDv1iYuDry7AUmh7VAyqLsBq22wdlaQuwIJOXuYdny7AmcFPr6aZLsCwNEF4L5QuwMinMkG4ji7A4BokCkGJLsD3jRXTyYMuwA8BB5xSfi7AJnT4ZNt4LsA+5+ktZHMuwFZa2/bsbS7Abc3Mv3VoLsCEQL6I/mIuwJyzr1GHXS7AtCahGhBYLsDLmZLjmFIuwOIMhKwhTS7A+n91dapHLsAS82Y+M0IuwClmWAe8PC7AQNlJ0EQ3LsBYTDuZzTEuwHC/LGJWLC7AiDIeK98mLsCfpQ/0ZyEuwLYYAb3wGy7AzovyhXkWLsDm/uNOAhEuwP1x1ReLCy7AFOXG4BMGLsAsWLipnAAuwETLqXIl+y3AWz6bO671LcBysYwEN/AtwIokfs2/6i3AopdvlkjlLcC6CmFf0d8twNF9Uiha2i3A6PBD8eLULcAAZDW6a88twBjXJoP0yS3AL0oYTH3ELcBGvQkVBr8twF4w+92OuS3AdqPsphe0LcCNFt5voK4twKSJzzgpqS3AvPzAAbKjLcDUb7LKOp4twOzio5PDmC3AA1aVXEyTLcAayYYl1Y0twDI8eO5diC3ASq9pt+aCLcBhIluAb30twHiVTEn4dy3AkAg+EoFyLcCoey/bCW0twL/uIKSSZy3A1mESbRtiLcDu1AM2pFwtwAZI9f4sVy3AHrvmx7VRLcA1LtiQPkwtwEyhyVnHRi3AZBS7IlBBLcB8h6zr2DstwJP6nbRhNi3Aqm2PfeowLcDC4IBGcystwNpTcg/8JS3A8cZj2IQgLcAIOlWhDRstwCCtRmqWFS3AOCA4Mx8QLcBPkyn8pwotwGcGG8UwBS3AfnkMjrn/LMCW7P1WQvoswK5f7x/L9CzAxdLg6FPvLMDcRdKx3OkswPS4w3pl5CzADCy1Q+7eLMAjn6YMd9kswDoSmNX/0yzAUoWJnojOLMBq+HpnEckswIFrbDCawyzAmN5d+SK+LMCwUU/Cq7gswMjEQIs0syzA4DcyVL2tLMD3qiMdRqgswA4eFebOoizAJpEGr1edLMA+BPh34JcswFV36UBpkizAbOraCfKMLMCEXczSeocswJzQvZsDgizAs0OvZIx8LMDKtqAtFXcswOIpkvadcSzA+pyDvyZsLMASEHWIr2YswCmDZlE4YSzAQPZXGsFbLMBYaUnjSVYswHDcOqzSUCzAh08sdVtLLMCewh0+5EUswLY1DwdtQCzAzqgA0PU6LMDlG/KYfjUswPyO42EHMCzAFALVKpAqLMAsdcbzGCUswETot7yhHyzAW1uphSoaLMByzppOsxQswIpBjBc8DyzAorR94MQJLMC5J2+pTQQswNCaYHLW/ivA6A1SO1/5K8AAgUME6PMrwBf0NM1w7ivALmcmlvnoK8BG2hdfguMrwF5NCSgL3ivAdcD68JPYK8CNM+y5HNMrwKSm3YKlzSvAvBnPSy7IK8DUjMAUt8IrwOv/sd0/vSvAAnOjpsi3K8Aa5pRvUbIrwDJZhjjarCvAScx3AWOnK8BgP2nK66ErwHiyWpN0nCvAkCVMXP2WK8CnmD0lhpErwL8LL+4OjCvA1n4gt5eGK8Du8RGAIIErwAZlA0mpeyvAHdj0ETJ2K8A0S+baunArwEy+16NDayvAZDHJbMxlK8B7pLo1VWArwJIXrP7dWivAqoqdx2ZVK8DC/Y6Q708rwNlwgFl4SivA8ONxIgFFK8AIV2PriT8rwCDKVLQSOivAOD1GfZs0K8BPsDdGJC8rwGYjKQ+tKSvAfpYa2DUkK8CWCQyhvh4rwK18/WlHGSvAxO/uMtATK8DcYuD7WA4rwPTV0cThCCvAC0nDjWoDK8AivLRW8/0qwDovph98+CrAUqKX6ATzKsBqFYmxje0qwIGIenoW6CrAmPtrQ5/iKsCwbl0MKN0qwMjhTtWw1yrA31RAnjnSKsD2xzFnwswqwA47IzBLxyrAJq4U+dPBKsA9IQbCXLwqwFSU94rltirAbAfpU26xKsCEetoc96sqwJzty+V/pirAs2C9rgihKsDK0653kZsqwOJGoEAalirA+rmRCaOQKsARLYPSK4sqwCigdJu0hSrAQBNmZD2AKsBYhlctxnoqwG/5SPZOdSrAhmw6v9dvKsCe3yuIYGoqwLZSHVHpZCrAzcUOGnJfKsDlOADj+lkqwPyr8auDVCrAFB/jdAxPKsAsktQ9lUkqwEMFxgYeRCrAWni3z6Y+KsBy66iYLzkqwIpemmG4MyrAodGLKkEuKsC4RH3zySgqwNC3brxSIyrA6CpghdsdKsD/nVFOZBgqwBYRQxftEirALoQ04HUNKsBG9yWp/gcqwF5qF3KHAirAdd0IOxD9KcCMUPoDmfcpwKTD68wh8inAvDbdlarsKcDTqc5eM+cpwOocwCe84SnAApCx8ETcKcAaA6O5zdYpwDF2lIJW0SnASOmFS9/LKcBgXHcUaMYpwHjPaN3wwCnAkEJapnm7KcCntUtvArYpwL4oPTiLsCnA1psuARSrKcDuDiDKnKUpwAWCEZMloCnAHPUCXK6aKcA0aPQkN5UpwEzb5e2/jynAY07XtkiKKcB6wch/0YQpwJI0ukhafynAqqerEeN5KcDCGp3aa3QpwNmNjqP0binA8ACAbH1pKcAIdHE1BmQpwCDnYv6OXinAN1pUxxdZKcBOzUWQoFMpwGZAN1kpTinAfrMoIrJIKcCVJhrrOkMpwKyZC7TDPSnAxAz9fEw4KcDcf+5F1TIpwPTy3w5eLSnAC2bR1+YnKcAi2cKgbyIpwDpMtGn4HCnAUr+lMoEXKcBpMpf7CRIpwICliMSSDCnAmBh6jRsHKcCwi2tWpAEpwMf+XB8t/CjA3nFO6LX2KMD25D+xPvEowA5YMXrH6yjAJcsiQ1DmKMA9PhQM2eAowFSxBdVh2yjAbCT3nerVKMCEl+hmc9AowJsK2i/8yijAsn3L+ITFKMDK8LzBDcAowOJjroqWuijA+dafUx+1KMAQSpEcqK8owCi9guUwqijAQDB0rrmkKMBXo2V3Qp8owG4WV0DLmSjAholICVSUKMCe/DnS3I4owLZvK5tliSjAzeIcZO6DKMDkVQ4td34owPzI//X/eCjAFDzxvohzKMArr+KHEW4owEIi1FCaaCjAWpXFGSNjKMByCLfiq10owIl7qKs0WCjAoe6ZdL1SKMC4YYs9Rk0owNDUfAbPRyjA50duz1dCKMD/ul+Y4DwowBYuUWFpNyjALqFCKvIxKMBFFDTzeiwowF2HJbwDJyjAdfoWhYwhKMCMbQhOFRwowKTg+RaeFijAu1Pr3yYRKMDTxtyorwsowOo5znE4BijAAq2/OsEAKMAZILEDSvsnwDGToszS9SfASAaUlVvwJ8BgeYVe5OonwHfsdidt5SfAj19o8PXfJ8Cn0lm5ftonwL5FS4IH1SfA1rg8S5DPJ8DtKy4UGconwAWfH92hxCfAHBIRpiq/J8A0hQJvs7knwEv48zc8tCfAY2vlAMWuJ8B63tbJTaknwJJRyJLWoyfAqcS5W1+eJ8DBN6sk6JgnwNiqnO1wkyfA8B2OtvmNJ8AIkX9/gognwB8EcUgLgyfAN3diEZR9J8BO6lPaHHgnwGZdRaOlcifAfdA2bC5tJ8CVQyg1t2cnwKy2Gf4/YifAxCkLx8hcJ8DbnPyPUVcnwPMP7ljaUSfACoPfIWNMJ8Ai9tDq60YnwDppwrN0QSfAUdyzfP07J8BpT6VFhjYnwIDClg4PMSfAmDWI15crJ8CvqHmgICYnwMcba2mpICfA3o5cMjIbJ8D2AU77uhUnwA11P8RDECfAJegwjcwKJ8A8WyJWVQUnwFTOEx/e/ybAa0EF6Gb6JsCDtPaw7/QmwJsn6Hl47ybAsprZQgHqJsDKDcsLiuQmwOGAvNQS3ybA+fOtnZvZJsAQZ59mJNQmwCjakC+tzibAP02C+DXJJsBXwHPBvsMmwG4zZYpHvibAhqZWU9C4JsCdGUgcWbMmwLWMOeXhrSbAzf8qrmqoJsDkchx386ImwPzlDUB8nSbAE1n/CAWYJsArzPDRjZImwEI/4poWjSbAWrLTY5+HJsBxJcUsKIImwImYtvWwfCbAoAuovjl3JsC4fpmHwnEmwM/xilBLbCbA52R8GdRmJsD+123iXGEmwBZLX6vlWybALr5QdG5WJsBFMUI991AmwF2kMwaASybAdBclzwhGJsCMihaYkUAmwKP9B2EaOybAu3D5KaM1JsDS4+ryKzAmwOpW3Lu0KibAAcrNhD0lJsAZPb9Nxh8mwDCwsBZPGibASCOi39cUJsBglpOoYA8mwHcJhXHpCSbAj3x2OnIEJsCm72cD+/4lwL5iWcyD+SXA1dVKlQz0JcDtSDxele4lwAS8LSce6SXAHC8f8KbjJcAzohC5L94lwEsVAoK42CXAYojzSkHTJcB6++QTys0lwJJu1txSyCXAqeHHpdvCJcDBVLluZL0lwNjHqjfttyXA8DqcAHayJcAHro3J/qwlwB8hf5KHpyXANpRwWxCiJcBOB2IkmZwlwGV6U+0hlyXAfe1EtqqRJcCUYDZ/M4wlwKzTJ0i8hiXAw0YZEUWBJcDbuQrazXslwPMs/KJWdiXACqDta99wJcAiE980aGslwDmG0P3wZSXAUfnBxnlgJcBobLOPAlslwIDfpFiLVSXAl1KWIRRQJcCvxYfqnEolwMY4ebMlRSXA3qtqfK4/JcD1HlxFNzolwA2STQ7ANCXAJQU/10gvJcA8eDCg0SklwFTrIWlaJCXAa14TMuMeJcCD0QT7axklwJpE9sP0EyXAsrfnjH0OJcDJKtlVBgklwOGdyh6PAyXA+BC85xf+JMAQhK2woPgkwCf3nnkp8yTAP2qQQrLtJMBW3YELO+gkwG5Qc9TD4iTAhsNknUzdJMCdNlZm1dckwLWpRy9e0iTAzBw5+ObMJMDkjyrBb8ckwPsCHIr4wSTAE3YNU4G8JMAq6f4bCrckwEJc8OSSsSTAWc/hrRusJMBxQtN2pKYkwIi1xD8toSTAoCi2CLabJMC4m6fRPpYkwM8OmZrHkCTA54GKY1CLJMD+9Hss2YUkwBZobfVhgCTALdtevup6JMBFTlCHc3UkwFzBQVD8byTAdDQzGYVqJMCLpyTiDWUkwKMaFquWXyTAuo0HdB9aJMDSAPk8qFQkwOpz6gUxTyTAAefbzrlJJMAZWs2XQkQkwDDNvmDLPiTASECwKVQ5JMBfs6Hy3DMkwHcmk7tlLiTAjpmEhO4oJMCmDHZNdyMkwL1/ZxYAHiTA1fJY34gYJMDsZUqoERMkwATZO3GaDSTAG0wtOiMIJMAzvx4DrAIkwEsyEMw0/SPAYqUBlb33I8B6GPNdRvIjwJGL5CbP7CPAqf7V71fnI8DAcce44OEjwNjkuIFp3CPA71eqSvLWI8AHy5sTe9EjwB4+jdwDzCPANrF+pYzGI8BNJHBuFcEjwGWXYTeeuyPAfQpTACe2I8CUfUTJr7AjwKzwNZI4qyPAw2MnW8GlI8Db1hgkSqAjwPJJCu3SmiPACr37tVuVI8AhMO1+5I8jwDmj3kdtiiPAUBbQEPaEI8BoicHZfn8jwH/8sqIHeiPAl2+ka5B0I8Cu4pU0GW8jwMZVh/2haSPA3sh4xipkI8D1O2qPs14jwA2vW1g8WSPAJCJNIcVTI8A8lT7qTU4jwFMIMLPWSCPAa3shfF9DI8CC7hJF6D0jwJphBA5xOCPAsdT11vkyI8DJR+efgi0jwOC62GgLKCPA+C3KMZQiI8AQobv6HB0jwCcUrcOlFyPAP4eejC4SI8BW+o9VtwwjwG5tgR5AByPAheBy58gBI8CdU2SwUfwiwLTGVXna9iLAzDlHQmPxIsDjrDgL7OsiwPsfKtR05iLAEpMbnf3gIsAqBg1mhtsiwEF5/i4P1iLAWezv95fQIsBxX+HAIMsiwIjS0ompxSLAoEXEUjLAIsC3uLUbu7oiwM8rp+RDtSLA5p6YrcyvIsD+EYp2VaoiwBWFez/epCLALfhsCGefIsBEa17R75kiwFzeT5p4lCLAc1FBYwGPIsCLxDIsiokiwKM3JPUShCLAuqoVvpt+IsDSHQeHJHkiwOmQ+E+tcyLAAQTqGDZuIsAYd9vhvmgiwDDqzKpHYyLAR12+c9BdIsBf0K88WVgiwHZDoQXiUiLAjraSzmpNIsClKYSX80ciwL2cdWB8QiLA1Q9nKQU9IsDsgljyjTciwAT2SbsWMiLAG2k7hJ8sIsAz3CxNKCciwEpPHhaxISLAYsIP3zkcIsB5NQGowhYiwJGo8nBLESLAqBvkOdQLIsDAjtUCXQYiwNcBx8vlACLA73S4lG77IcAG6Kld9/UhwB5bmyaA8CHANs6M7wjrIcBNQX64keUhwGW0b4Ea4CHAfCdhSqPaIcCUmlITLNUhwKsNRNy0zyHAw4A1pT3KIcDa8yZuxsQhwPJmGDdPvyHACdoJANi5IcAhTfvIYLQhwDjA7JHpriHAUDPeWnKpIcBops8j+6MhwH8ZweyDniHAl4yytQyZIcCu/6N+lZMhwMZylUcejiHA3eWGEKeIIcD1WHjZL4MhwAzMaaK4fSHAJD9ba0F4IcA7skw0ynIhwFMlPv1SbSHAapgvxttnIcCCCyGPZGIhwJl+EljtXCHAsfEDIXZXIcDJZPXp/lEhwODX5rKHTCHA+ErYexBHIcAPvslEmUEhwCcxuw0iPCHAPqSs1qo2IcBWF56fMzEhwG2Kj2i8KyHAhf2AMUUmIcCccHL6zSAhwLTjY8NWGyHAy1ZVjN8VIcDjyUZVaBAhwPs8OB7xCiHAErAp53kFIcAqIxuwAgAhwEGWDHmL+iDAWQn+QRT1IMBwfO8Kne8gwIjv4NMl6iDAn2LSnK7kIMC31cNlN98gwM5ItS7A2SDA5rum90jUIMD9LpjA0c4gwBWiiYlaySDALBV7UuPDIMBEiGwbbL4gwFz7XeT0uCDAc25PrX2zIMCL4UB2Bq4gwKJUMj+PqCDAuscjCBijIMDROhXRoJ0gwOmtBpopmCDAACH4YrKSIMAYlOkrO40gwC8H2/TDhyDAR3rMvUyCIMBe7b2G1XwgwHZgr09edyDAjtOgGOdxIMClRpLhb2wgwL25g6r4ZiDA1Cx1c4FhIMDsn2Y8ClwgwAMTWAWTViDAG4ZJzhtRIMAy+TqXpEsgwEpsLGAtRiDAYd8dKbZAIMB5Ug/yPjsgwJDFALvHNSDAqDjyg1AwIMDAq+NM2SogwNce1RViJSDA75HG3uofIMAGBbincxogwB54qXD8FCDANeuaOYUPIMBNXowCDgogwGTRfcuWBCDA+IjeKD/+H8Amb8G6UPMfwFZVpExi6B/AhDuH3nPdH8C0IWpwhdIfwOIHTQKXxx/AEu4vlKi8H8BC1BImurEfwHC69bfLph/AoKDYSd2bH8DOhrvb7pAfwP5snm0Ahh/ALFOB/xF7H8BcOWSRI3AfwIofRyM1ZR/AugUqtUZaH8Do6wxHWE8fwBjS79hpRB/ARrjSans5H8B2nrX8jC4fwKaEmI6eIx/A1Gp7ILAYH8AEUV6ywQ0fwDI3QUTTAh/AYh0k1uT3HsCQAwdo9uwewMDp6fkH4h7A7s/MixnXHsAetq8dK8wewEyckq88wR7AfIJ1QU62HsCqaFjTX6sewNpOO2VxoB7ACDUe94KVHsA4GwGJlIoewGgB5Bqmfx7AlufGrLd0HsDGzak+yWkewPSzjNDaXh7AJJpvYuxTHsBSgFL0/UgewIJmNYYPPh7AsEwYGCEzHsDgMvupMigewA4Z3jtEHR7APv/AzVUSHsBs5aNfZwcewJzLhvF4/B3AzLFpg4rxHcD6l0wVnOYdwCp+L6et2x3AWGQSOb/QHcCISvXK0MUdwLYw2Fziuh3A5ha77vOvHcAU/Z2ABaUdwETjgBIXmh3AcsljpCiPHcCir0Y2OoQdwNCVKchLeR3AAHwMWl1uHcAwYu/rbmMdwF5I0n2AWB3Aji61D5JNHcC8FJiho0IdwOz6ejO1Nx3AGuFdxcYsHcBKx0BX2CEdwHitI+npFh3AqJMGe/sLHcDWeekMDQEdwAZgzJ4e9hzANEavMDDrHMBkLJLCQeAcwJISdVRT1RzAwvhX5mTKHMDy3jp4dr8cwCDFHQqItBzAUKsAnJmpHMB+keMtq54cwK53xr+8kxzA3F2pUc6IHMAMRIzj330cwDoqb3XxchzAahBSBwNoHMCY9jSZFF0cwMjcFysmUhzA9sL6vDdHHMAmqd1OSTwcwFaPwOBaMRzAhHWjcmwmHMC0W4YEfhscwOJBaZaPEBzAEihMKKEFHMBADi+6svobwHD0EUzE7xvAntr03dXkG8DOwNdv59kbwPymugH5zhvALI2dkwrEG8Bac4AlHLkbwIpZY7ctrhvAuD9GST+jG8DoJSnbUJgbwBgMDG1ijRvARvLu/nOCG8B22NGQhXcbwKS+tCKXbBvA1KSXtKhhG8ACi3pGulYbwDJxXdjLSxvAYFdAat1AG8CQPSP87jUbwL4jBo4AKxvA7gnpHxIgG8Ac8MuxIxUbwEzWrkM1ChvAfLyR1Ub/GsCqonRnWPQawNqIV/lp6RrACG86i3veGsA4VR0djdMawGY7AK+eyBrAliHjQLC9GsDEB8bSwbIawPTtqGTTpxrAItSL9uScGsBSum6I9pEawICgURoIhxrAsIY0rBl8GsDebBc+K3EawA5T+s88ZhrAPjndYU5bGsBsH8DzX1AawJwFo4VxRRrAyuuFF4M6GsD60WiplC8awCi4SzumJBrAWJ4uzbcZGsCGhBFfyQ4awLZq9PDaAxrA5FDXguz4GcAUN7oU/u0ZwEIdnaYP4xnAcgOAOCHYGcCi6WLKMs0ZwNDPRVxEwhnAALYo7lW3GcAunAuAZ6wZwF6C7hF5oRnAjGjRo4qWGcC8TrQ1nIsZwOo0l8etgBnAGht6Wb91GcBIAV3r0GoZwHjnP33iXxnAps0iD/RUGcDWswWhBUoZwAaa6DIXPxnANIDLxCg0GcBkZq5WOikZwJJMkehLHhnAwjJ0el0TGcDwGFcMbwgZwCD/OZ6A/RjATuUcMJLyGMB+y//Bo+cYwKyx4lO13BjA3JfF5cbRGMAKfqh32MYYwDpkiwnquxjAaEpum/uwGMCYMFEtDaYYwMgWNL8emxjA9vwWUTCQGMAm4/niQYUYwFTJ3HRTehjAhK+/BmVvGMCylaKYdmQYwOJ7hSqIWRjAEGJovJlOGMBASEtOq0MYwG4uLuC8OBjAnhQRcs4tGMDM+vMD4CIYwPzg1pXxFxjALMe5JwMNGMBarZy5FAIYwIqTf0sm9xfAuHli3TfsF8DoX0VvSeEXwBZGKAFb1hfARiwLk2zLF8B0Eu4kfsAXwKT40LaPtRfA0t6zSKGqF8ACxZbasp8XwDCreWzElBfAYJFc/tWJF8COdz+Q534XwL5dIiL5cxfA7kMFtAppF8AcKuhFHF4XwEwQy9ctUxfAevataT9IF8Cq3JD7UD0XwNjCc41iMhfACKlWH3QnF8A2jzmxhRwXwGZ1HEOXERfAlFv/1KgGF8DEQeJmuvsWwPInxfjL8BbAIg6oit3lFsBS9Ioc79oWwIDaba4A0BbAsMBQQBLFFsDepjPSI7oWwA6NFmQ1rxbAPHP59UakFsBsWdyHWJkWwJo/vxlqjhbAyiWiq3uDFsD4C4U9jXgWwCjyZ8+ebRbAVthKYbBiFsCGvi3zwVcWwLakEIXTTBbA5IrzFuVBFsAUcdao9jYWwEJXuToILBbAcj2czBkhFsCgI39eKxYWwNAJYvA8CxbA/u9Egk4AFsAu1icUYPUVwFy8CqZx6hXAjKLtN4PfFcC6iNDJlNQVwOpus1umyRXAGFWW7be+FcBIO3l/ybMVwHghXBHbqBXApgc/o+ydFcDW7SE1/pIVwATUBMcPiBXANLrnWCF9FcBioMrqMnIVwJKGrXxEZxXAwGyQDlZcFcDwUnOgZ1EVwB45VjJ5RhXATh85xIo7FcB8BRxWnDAVwKzr/uetJRXA3NHheb8aFcAKuMQL0Q8VwDqep53iBBXAaISKL/T5FMCYam3BBe8UwMZQUFMX5BTA9jYz5SjZFMAkHRZ3Os4UwFQD+QhMwxTAgunbml24FMCyz74sb60UwOC1ob6AohTAEJyEUJKXFMA+gmfio4wUwG5oSnS1gRTAnk4tBsd2FMDMNBCY2GsUwPwa8ynqYBTAKgHWu/tVFMBa57hNDUsUwIjNm98eQBTAuLN+cTA1FMDmmWEDQioUwBaARJVTHxTARGYnJ2UUFMB0TAq5dgkUwKIy7UqI/hPA0hjQ3JnzE8AC/7Juq+gTwDDllQC93RPAYMt4ks7SE8COsVsk4McTwL6XPrbxvBPA7H0hSAOyE8AcZATaFKcTwEpK52smnBPAejDK/TeRE8CoFq2PSYYTwNj8jyFbexPABuNys2xwE8A2yVVFfmUTwGSvONePWhPAlJUbaaFPE8DEe/76skQTwPJh4YzEORPAIkjEHtYuE8BQLqew5yMTwIAUikL5GBPArvps1AoOE8De4E9mHAMTwAzHMvgt+BLAPK0Vij/tEsBqk/gbUeISwJp5261i1xLAyF++P3TMEsD4RaHRhcESwCgshGOXthLAVhJn9airEsCG+EmHuqASwLTeLBnMlRLA5MQPq92KEsASq/I8738SwEKR1c4AdRLAcHe4YBJqEsCgXZvyI18SwM5DfoQ1VBLA/ilhFkdJEsAsEESoWD4SwFz2JjpqMxLAjNwJzHsoEsC6wuxdjR0SwOqoz++eEhLAGI+ygbAHEsBIdZUTwvwRwHZbeKXT8RHApkFbN+XmEcDUJz7J9tsRwAQOIVsI0RHAMvQD7RnGEcBi2uZ+K7sRwJDAyRA9sBHAwKasok6lEcDujI80YJoRwB5zcsZxjxHATllVWIOEEcB8PzjqlHkRwKwlG3ymbhHA2gv+DbhjEcAK8uCfyVgRwDjYwzHbTRHAaL6mw+xCEcCWpIlV/jcRwMaKbOcPLRHA9HBPeSEiEcAkVzILMxcRwFI9FZ1EDBHAgiP4LlYBEcCyCdvAZ/YQwODvvVJ56xDAENag5IrgEMA+vIN2nNUQwGyiZgiuyhDAnIhJmr+/EMDMbiws0bQQwPxUD77iqRDAKDvyT/SeEMBYIdXhBZQQwIgHuHMXiRDAuO2aBSl+EMDk032XOnMQwBS6YClMaBDARKBDu11dEMB0hiZNb1IQwKRsCd+ARxDA0FLscJI8EMAAOc8CpDEQwDAfspS1JhDAYAWVJscbEMCM63e42BAQwLzRWkrqBRDA2G97uPf1D8A4PEHcGuAPwJAIBwA+yg/A8NTMI2G0D8BQoZJHhJ4PwLBtWGuniA/AEDoej8pyD8BoBuSy7VwPwMjSqdYQRw/AKJ9v+jMxD8CIazUeVxsPwOA3+0F6BQ/AQATBZZ3vDsCg0IaJwNkOwACdTK3jww7AWGkS0QauDsC4Ndj0KZgOwBgCnhhNgg7AeM5jPHBsDsDYmilgk1YOwDBn74O2QA7AkDO1p9kqDsDw/3rL/BQOwFDMQO8f/w3AqJgGE0PpDcAIZcw2ZtMNwGgxklqJvQ3AyP1XfqynDcAgyh2iz5ENwICW48Xyew3A4GKp6RVmDcBAL28NOVANwKD7NDFcOg3A+Mf6VH8kDcBYlMB4og4NwLhghpzF+AzAGC1MwOjiDMBw+RHkC80MwNDF1wcvtwzAMJKdK1KhDMCQXmNPdYsMwOgqKXOYdQzASPfulrtfDMCow7S63kkMwAiQet4BNAzAYFxAAiUeDMDAKAYmSAgMwCD1y0lr8gvAgMGRbY7cC8DgjVeRscYLwDhaHbXUsAvAmCbj2PeaC8D48qj8GoULwFi/biA+bwvAsIs0RGFZC8AQWPpnhEMLwHAkwIunLQvA0PCFr8oXC8AovUvT7QELwIiJEfcQ7ArA6FXXGjTWCsBIIp0+V8AKwKjuYmJ6qgrAALsohp2UCsBgh+6pwH4KwMBTtM3jaArAICB68QZTCsB47D8VKj0KwNi4BTlNJwrAOIXLXHARCsCYUZGAk/sJwPAdV6S25QnAUOocyNnPCcCwtuLr/LkJwBCDqA8gpAnAcE9uM0OOCcDIGzRXZngJwCjo+XqJYgnAiLS/nqxMCcDogIXCzzYJwEBNS+byIAnAoBkRChYLCcAA5tYtOfUIwGCynFFc3wjAuH5idX/JCMAYSyiZorMIwHgX7rzFnQjA2OOz4OiHCMA4sHkEDHIIwJB8PygvXAjA8EgFTFJGCMBQFctvdTAIwLDhkJOYGgjACK5Wt7sECMBoehzb3u4HwMhG4v4B2QfAKBOoIiXDB8CA321GSK0HwOCrM2prlwfAQHj5jY6BB8CgRL+xsWsHwPgQhdXUVQfAWN1K+fc/B8C4qRAdGyoHwBh21kA+FAfAeEKcZGH+BsDQDmKIhOgGwDDbJ6yn0gbAkKftz8q8BsDwc7Pz7aYGwEhAeRcRkQbAqAw/OzR7BsAI2QRfV2UGwGilyoJ6TwbAwHGQpp05BsAgPlbKwCMGwIAKHO7jDQbA4NbhEQf4BcBAo6c1KuIFwJhvbVlNzAXA+DszfXC2BcBYCPmgk6AFwLjUvsS2igXAEKGE6Nl0BcBwbUoM/V4FwNA5EDAgSQXAMAbWU0MzBcCI0pt3Zh0FwOieYZuJBwXASGsnv6zxBMCoN+3iz9sEwAgEswbzxQTAYNB4KhawBMDAnD5OOZoEwCBpBHJchATAgDXKlX9uBMDYAZC5olgEwDjOVd3FQgTAmJobAeksBMD4ZuEkDBcEwFAzp0gvAQTAsP9sbFLrA8AQzDKQddUDwHCY+LOYvwPA0GS+17upA8AoMYT73pMDwIj9SR8CfgPA6MkPQyVoA8BIltVmSFIDwKBim4prPAPAAC9hro4mA8Bg+ybSsRADwMDH7PXU+gLAGJSyGfjkAsB4YHg9G88CwNgsPmE+uQLAOPkDhWGjAsCYxcmohI0CwPCRj8yndwLAUF5V8MphAsCwKhsU7ksCwBD34DcRNgLAaMOmWzQgAsDIj2x/VwoCwChcMqN69AHAiCj4xp3eAcDg9L3qwMgBwEDBgw7ksgHAoI1JMgedAcAAWg9WKocBwFgm1XlNcQHAuPKanXBbAcAYv2DBk0UBwHiLJuW2LwHA2FfsCNoZAcAwJLIs/QMBwJDwd1Ag7gDA8Lw9dEPYAMBQiQOYZsIAwKhVybuJrADACCKP36yWAMBo7lQD0IAAwMi6GifzagDAIIfgShZVAMCAU6ZuOT8AwOAfbJJcKQDAQOwxtn8TAMBAce+zRfv/v/AJe/uLz/+/sKIGQ9Kj/79wO5KKGHj/vzDUHdJeTP+/4GypGaUg/7+gBTVh6/T+v2CewKgxyf6/IDdM8Hed/r/Qz9c3vnH+v5BoY38ERv6/UAHvxkoa/r8QmnoOke79v9AyBlbXwv2/gMuRnR2X/b9AZB3lY2v9vwD9qCyqP/2/wJU0dPAT/b9wLsC7Nuj8vzDHSwN9vPy/8F/XSsOQ/L+w+GKSCWX8v2CR7tlPOfy/ICp6IZYN/L/gwgVp3OH7v6BbkbAitvu/YPQc+GiK+78Qjag/r177v9AlNIf1Mvu/kL6/zjsH+79QV0sWgtv6vwDw1l3Ir/q/wIhipQ6E+r+AIe7sVFj6v0C6eTSbLPq/8FIFfOEA+r+w65DDJ9X5v3CEHAtuqfm/MB2oUrR9+b/wtTOa+lH5v6BOv+FAJvm/YOdKKYf6+L8ggNZwzc74v+AYYrgTo/i/kLHt/1l3+L9QSnlHoEv4vxDjBI/mH/i/0HuQ1iz097+AFBwec8j3v0Ctp2W5nPe/AEYzrf9w97/A3r70RUX3v3B3SjyMGfe/MBDWg9Lt9r/wqGHLGML2v7BB7RJflva/cNp4WqVq9r8gcwSi6z72v+ALkOkxE/a/oKQbMXjn9b9gPad4vrv1vxDWMsAEkPW/0G6+B0tk9b+QB0pPkTj1v1Cg1ZbXDPW/ADlh3h3h9L/A0ewlZLX0v4BqeG2qifS/QAMEtfBd9L8AnI/8NjL0v7A0G0R9BvS/cM2mi8Pa878wZjLTCa/zv/D+vRpQg/O/oJdJYpZX879gMNWp3CvzvyDJYPEiAPO/4GHsOGnU8r+Q+neAr6jyv1CTA8j1fPK/ECyPDzxR8r/QxBpXgiXyv5Bdpp7I+fG/QPYx5g7O8b8Aj70tVaLxv8AnSXWbdvG/gMDUvOFK8b8wWWAEKB/xv/Dx60tu8/C/sIp3k7TH8L9wIwPb+pvwvyC8jiJBcPC/4FQaaodE8L+g7aWxzRjwv8AMY/In2u+/QD56gbSC77+gb5EQQSvvvyChqJ/N0+6/oNK/Llp87r8gBNe95iTuv4A17kxzze2/AGcF3P917b+AmBxrjB7tvwDKM/oYx+y/YPtKiaVv7L/gLGIYMhjsv2Beeae+wOu/4I+QNktp679gwafF1xHrv8DyvlRkuuq/QCTW4/Bi6r/AVe1yfQvqv0CHBAIKtOm/oLgbkZZc6b8g6jIgIwXpv6AbSq+vrei/IE1hPjxW6L+AfnjNyP7nvwCwj1xVp+e/gOGm6+FP578AE756bvjmv2BE1Qn7oOa/4HXsmIdJ5r9gpwMoFPLlv+DYGregmuW/YAoyRi1D5b/AO0nVuevkv0BtYGRGlOS/wJ5389I85L9A0I6CX+Xjv6ABphHsjeO/IDO9oHg247+gZNQvBd/ivyCW676Rh+K/gMcCTh4w4r8A+Rndqtjhv4AqMWw3geG/AFxI+8Mp4b+AjV+KUNLgv+C+dhndeuC/YPCNqGkj4L/AQ0pv7Jffv8CmeI0F6d6/gAmnqx463r+AbNXJN4vdv4DPA+hQ3Ny/gDIyBmot3L9AlWAkg37bv0D4jkKcz9q/QFu9YLUg2r9Avut+znHZv0AhGp3nwti/AIRIuwAU2L8A53bZGWXXvwBKpfcytta/AK3TFUwH1r/ADwI0ZVjVv8ByMFJ+qdS/wNVecJf607/AOI2OsEvTv4Cbu6zJnNK/gP7pyuLt0b+AYRjp+z7Rv4DERgcVkNC/AE/qSlzCz7+AFEeHjmTOv4Dao8PABs2/gKAAAPOoy7+AZl08JUvKvwAsunhX7ci/APIWtYmPx78AuHPxuzHGvwB+0C3u08S/gEMtaiB2w7+ACYqmUhjCv4DP5uKEusC/ACuHPm65vr8At0C30v27vwBC+i83Qrm/AM6zqJuGtr8AWm0hAMuzvwDmJppkD7G/AOLAJZKnrL8A+jMXWzCnvwASpwgkuaG/AFQ09NmDmL8AADWu1yqLvwCABdDtN2W/AEAyxuCOgD8A8DKA3jWTPwDETJ1MJJ4/AEozXV2JpD8AMsBrlACqPwAaTXrLd68/AAFtRIF3sj8AdrPLHDO1PwDq+VK47rc/AF5A2lOquj8A0oZh72W9P4CjZnTFEMA/gN0JOJNuwT+AF637YMzCP4BRUL8uKsQ/AIzzgvyHxT8AxpZGyuXGPwAAOgqYQ8g/ADrdzWWhyT8AdICRM//KP4CuI1UBXcw/gOjGGM+6zT+AImrcnBjPP0CuBlA1O9A/gEvYMRzq0D+A6KkTA5nRP4CFe/XpR9I/gCJN19D20j/Avx65t6XTP8Bc8JqeVNQ/wPnBfIUD1T/AlpNebLLVP8AzZUBTYdY/ANE2IjoQ1z8AbggEIb/XPwAL2uUHbtg/AKirx+4c2T9ARX2p1cvZP0DiTou8eto/QH8gbaMp2z9AHPJOitjbP4C5wzBxh9w/gFaVElg23T+A82b0PuXdP4CQONYllN4/gC0KuAxD3z/AytuZ8/HfP+Cz1j1tUOA/YIK/ruCn4D/gUKgfVP/gP4AfkZDHVuE/AO55ATuu4T+AvGJyrgXiPwCLS+MhXeI/oFk0VJW04j8gKB3FCAzjP6D2BTZ8Y+M/IMXupu+64z/Ak9cXYxLkP0BiwIjWaeQ/wDCp+UnB5D9A/5FqvRjlP8DNetswcOU/YJxjTKTH5T/gaky9Fx/mP2A5NS6LduY/4Acen/7N5j+A1gYQciXnPwCl74DlfOc/gHPY8VjU5z8AQsFizCvoP6AQqtM/g+g/IN+SRLPa6D+grXu1JjLpPyB8ZCaaiek/oEpNlw3h6T9AGTYIgTjqP8DnHnn0j+o/QLYH6mfn6j/AhPBa2z7rP2BT2ctOlus/4CHCPMLt6z9g8KqtNUXsP+C+kx6pnOw/gI18jxz07D8AXGUAkEvtP4AqTnEDo+0/APk24nb67T+Axx9T6lHuPyCWCMRdqe4/oGTxNNEA7z8gM9qlRFjvP6ABwxa4r+8/IOjVw5UD8D9gT0p8Ty/wP6C2vjQJW/A/4B0z7cKG8D8whaelfLLwP3DsG1423vA/sFOQFvAJ8T/wugTPqTXxPzAieYdjYfE/gIntPx2N8T/A8GH41rjxPwBY1rCQ5PE/QL9KaUoQ8j+QJr8hBDzyP9CNM9q9Z/I/EPWnkneT8j9QXBxLMb/yP6DDkAPr6vI/4CoFvKQW8z8gknl0XkLzP2D57SwYbvM/oGBi5dGZ8z/wx9adi8XzPzAvS1ZF8fM/cJa/Dv8c9D+w/TPHuEj0PwBlqH9ydPQ/QMwcOCyg9D+AM5Hw5cv0P8CaBamf9/Q/EAJ6YVkj9T9Qae4ZE0/1P5DQYtLMevU/0DfXioam9T8gn0tDQNL1P2AGwPv5/fU/oG00tLMp9j/g1KhsbVX2PyA8HSUngfY/cKOR3eCs9j+wCgaWmtj2P/Bxek5UBPc/MNnuBg4w9z+AQGO/x1v3P8Cn13eBh/c/AA9MMDuz9z9AdsDo9N73P5DdNKGuCvg/0ESpWWg2+D8QrB0SImL4P1ATksrbjfg/kHoGg5W5+D/g4Xo7T+X4PyBJ7/MIEfk/YLBjrMI8+T+gF9hkfGj5P/B+TB02lPk/MObA1e+/+T9wTTWOqev5P7C0qUZjF/o/ABwe/xxD+j9Ag5K31m76P4DqBnCQmvo/wFF7KErG+j8Aue/gA/L6P1AgZJm9Hfs/kIfYUXdJ+z/Q7kwKMXX7PxBWwcLqoPs/YL01e6TM+z+gJKozXvj7P+CLHuwXJPw/IPOSpNFP/D9wWgddi3v8P7DBexVFp/w/8Cjwzf7S/D8wkGSGuP78P3D32D5yKv0/wF5N9ytW/T8AxsGv5YH9P0AtNmifrf0/gJSqIFnZ/T/Q+x7ZEgX+PxBjk5HMMP4/UMoHSoZc/j+QMXwCQIj+P+CY8Lr5s/4/IABlc7Pf/j9gZ9krbQv/P6DOTeQmN/8/4DXCnOBi/z8wnTZVmo7/P3AEqw1Uuv8/sGsfxg3m/z946Um/4wgAQCAdhJvAHgBAwFC+d500AEBghPhTekoAQAC4MjBXYABAqOtsDDR2AEBIH6foEIwAQOhS4cTtoQBAiIYbocq3AEAwulV9p80AQNDtj1mE4wBAcCHKNWH5AEAQVQQSPg8BQLCIPu4aJQFAWLx4yvc6AUD477Km1FABQJgj7YKxZgFAOFcnX458AUDgimE7a5IBQIC+mxdIqAFAIPLV8yS+AUDAJRDQAdQBQGhZSqze6QFACI2EiLv/AUCowL5kmBUCQEj0+EB1KwJA6CczHVJBAkCQW235LlcCQDCPp9ULbQJA0MLhseiCAkBw9huOxZgCQBgqVmqirgJAuF2QRn/EAkBYkcoiXNoCQPjEBP848AJAoPg+2xUGA0BALHm38hsDQOBfs5PPMQNAgJPtb6xHA0AgxydMiV0DQMj6YShmcwNAaC6cBEOJA0AIYtbgH58DQKiVEL38tANAUMlKmdnKA0Dw/IR1tuADQJAwv1GT9gNAMGT5LXAMBEDYlzMKTSIEQHjLbeYpOARAGP+nwgZOBEC4MuKe42MEQFhmHHvAeQRAAJpWV52PBECgzZAzeqUEQEAByw9XuwRA4DQF7DPRBECIaD/IEOcEQCiceaTt/ARAyM+zgMoSBUBoA+5cpygFQBA3KDmEPgVAsGpiFWFUBUBQnpzxPWoFQPDR1s0agAVAkAURqveVBUA4OUuG1KsFQNhshWKxwQVAeKC/Po7XBUAY1Pkaa+0FQMAHNPdHAwZAYDtu0yQZBkAAb6ivAS8GQKCi4oveRAZASNYcaLtaBkDoCVdEmHAGQIg9kSB1hgZAKHHL/FGcBkDQpAXZLrIGQHDYP7ULyAZAEAx6kejdBkCwP7RtxfMGQFBz7kmiCQdA+KYoJn8fB0CY2mICXDUHQDgOnd44SwdA2EHXuhVhB0CAdRGX8nYHQCCpS3PPjAdAwNyFT6yiB0BgEMAribgHQAhE+gdmzgdAqHc05ELkB0BIq27AH/oHQOjeqJz8DwhAiBLjeNklCEAwRh1VtjsIQNB5VzGTUQhAcK2RDXBnCEAQ4cvpTH0IQLgUBsYpkwhAWEhAogapCED4e3p+474IQJivtFrA1AhAQOPuNp3qCEDgFikTegAJQIBKY+9WFglAIH6dyzMsCUDAsdenEEIJQGjlEYTtVwlACBlMYMptCUCoTIY8p4MJQEiAwBiEmQlA8LP69GCvCUCQ5zTRPcUJQDAbb60a2wlA0E6piffwCUB4guNl1AYKQBi2HUKxHApAuOlXHo4yCkBYHZL6akgKQPhQzNZHXgpAoIQGsyR0CkBAuECPAYoKQODremvenwpAgB+1R7u1CkAoU+8jmMsKQMiGKQB14QpAaLpj3FH3CkAI7p24Lg0LQLAh2JQLIwtAUFUSceg4C0DwiExNxU4LQJC8himiZAtAOPDABX96C0DYI/vhW5ALQHhXNb44pgtAGItvmhW8C0C4vql28tELQGDy41LP5wtAACYeL6z9C0CgWVgLiRMMQECNkudlKQxA6MDMw0I/DECI9AagH1UMQCgoQXz8agxAyFt7WNmADEBwj7U0tpYMQBDD7xCTrAxAsPYp7W/CDEBQKmTJTNgMQPBdnqUp7gxAmJHYgQYEDUA4xRJe4xkNQNj4TDrALw1AeCyHFp1FDUAgYMHyeVsNQMCT+85WcQ1AYMc1qzOHDUAA+2+HEJ0NQKguqmPtsg1ASGLkP8rIDUDolR4cp94NQIjJWPiD9A1AKP2S1GAKDkDQMM2wPSAOQHBkB40aNg5AEJhBafdLDkCwy3tF1GEOQFj/tSGxdw5A+DLw/Y2NDkCYZiraaqMOQDiaZLZHuQ5A4M2ekiTPDkCAAdluAeUOQCA1E0ve+g5AwGhNJ7sQD0BgnIcDmCYPQAjQwd90PA9AqAP8u1FSD0BINzaYLmgPQOhqcHQLfg9AkJ6qUOiTD0Aw0uQsxakPQNAFHwmivw9AcDlZ5X7VD0AYbZPBW+sPQFzQ5k6cABBALOoDvYoLEED8AyEreRYQQMwdPplnIRBAoDdbB1YsEEBwUXh1RDcQQEBrleMyQhBAEIWyUSFNEEDkns+/D1gQQLS47C3+YhBAhNIJnOxtEEBU7CYK23gQQCgGRHjJgxBA+B9h5reOEEDIOX5UppkQQJhTm8KUpBBAbG24MIOvEEA8h9WecboQQAyh8gxgxRBA3LoPe07QEECs1CzpPNsQQIDuSVcr5hBAUAhnxRnxEEAgIoQzCPwQQPA7oaH2BhFAxFW+D+UREUCUb9t90xwRQGSJ+OvBJxFANKMVWrAyEUAIvTLInj0RQNjWTzaNSBFAqPBspHtTEUB4CooSal4RQEgkp4BYaRFAHD7E7kZ0EUDsV+FcNX8RQLxx/sojihFAjIsbORKVEUBgpTinAKARQDC/VRXvqhFAANlyg921EUDQ8o/xy8ARQKQMrV+6yxFAdCbKzajWEUBEQOc7l+ERQBRaBKqF7BFA5HMhGHT3EUC4jT6GYgISQIinW/RQDRJAWMF4Yj8YEkAo25XQLSMSQPz0sj4cLhJAzA7QrAo5EkCcKO0a+UMSQGxCConnThJAQFwn99VZEkAQdkRlxGQSQOCPYdOybxJAsKl+QaF6EkCAw5uvj4USQFTduB1+kBJAJPfVi2ybEkD0EPP5WqYSQMQqEGhJsRJAmEQt1je8EkBoXkpEJscSQDh4Z7IU0hJACJKEIAPdEkDcq6GO8ecSQKzFvvzf8hJAfN/bas79EkBM+fjYvAgTQBwTFkerExNA8CwztZkeE0DARlAjiCkTQJBgbZF2NBNAYHqK/2Q/E0A0lKdtU0oTQASuxNtBVRNA1MfhSTBgE0Ck4f63HmsTQHj7GyYNdhNASBU5lPuAE0AYL1YC6osTQOhIc3DYlhNAvGKQ3sahE0CMfK1MtawTQFyWyrqjtxNALLDnKJLCE0D8yQSXgM0TQNDjIQVv2BNAoP0+c13jE0BwF1zhS+4TQEAxeU86+RNAFEuWvSgEFEDkZLMrFw8UQLR+0JkFGhRAhJjtB/QkFEBYsgp24i8UQCjMJ+TQOhRA+OVEUr9FFEDI/2HArVAUQJgZfy6cWxRAbDOcnIpmFEA8TbkKeXEUQAxn1nhnfBRA3IDz5lWHFECwmhBVRJIUQIC0LcMynRRAUM5KMSGoFEAg6GefD7MUQPQBhQ3+vRRAxBuie+zIFECUNb/p2tMUQGRP3FfJ3hRANGn5xbfpFEAIgxY0pvQUQNicM6KU/xRAqLZQEIMKFUB40G1+cRUVQEzqiuxfIBVAHASoWk4rFUDsHcXIPDYVQLw34jYrQRVAkFH/pBlMFUBgaxwTCFcVQDCFOYH2YRVAAJ9W7+RsFUDQuHNd03cVQKTSkMvBghVAdOytObCNFUBEBsunnpgVQBQg6BWNoxVA6DkFhHuuFUC4UyLyabkVQIhtP2BYxBVAWIdczkbPFUAsoXk8NdoVQPy6lqoj5RVAzNSzGBLwFUCc7tCGAPsVQGwI7vTuBRZAQCILY90QFkAQPCjRyxsWQOBVRT+6JhZAsG9iragxFkCEiX8blzwWQFSjnImFRxZAJL2593NSFkD01tZlYl0WQMjw89NQaBZAmAoRQj9zFkBoJC6wLX4WQDg+Sx4ciRZADFhojAqUFkDccYX6+J4WQKyLomjnqRZAfKW/1tW0FkBMv9xExL8WQCDZ+bKyyhZA8PIWIaHVFkDADDSPj+AWQJAmUf196xZAZEBua2z2FkA0WovZWgEXQAR0qEdJDBdA1I3FtTcXF0Cop+IjJiIXQHjB/5EULRdASNscAAM4F0AY9Tlu8UIXQOgOV9zfTRdAvCh0Ss5YF0CMQpG4vGMXQFxcriarbhdALHbLlJl5F0AAkOgCiIQXQNCpBXF2jxdAoMMi32SaF0Bw3T9NU6UXQET3XLtBsBdAFBF6KTC7F0DkKpeXHsYXQLREtAUN0RdAhF7Rc/vbF0BYeO7h6eYXQCiSC1DY8RdA+Ksovsb8F0DIxUUstQcYQJzfYpqjEhhAbPl/CJIdGEA8E512gCgYQAwtuuRuMxhA4EbXUl0+GECwYPTAS0kYQIB6ES86VBhAUJQunShfGEAgrksLF2oYQPTHaHkFdRhAxOGF5/N/GECU+6JV4ooYQGQVwMPQlRhAOC/dMb+gGEAISfqfrasYQNhiFw6cthhAqHw0fIrBGEB8llHqeMwYQEywblhn1xhAHMqLxlXiGEDs46g0RO0YQLz9xaIy+BhAkBfjECEDGUBgMQB/Dw4ZQDBLHe39GBlAAGU6W+wjGUDUflfJ2i4ZQKSYdDfJORlAdLKRpbdEGUBEzK4Tpk8ZQBjmy4GUWhlA6P/o74JlGUC4GQZecXAZQIgzI8xfexlAXE1AOk6GGUAsZ12oPJEZQPyAehYrnBlAzJqXhBmnGUCctLTyB7IZQHDO0WD2vBlAQOjuzuTHGUAQAgw909IZQOAbKavB3RlAtDVGGbDoGUCET2OHnvMZQFRpgPWM/hlAJIOdY3sJGkD4nLrRaRQaQMi21z9YHxpAmND0rUYqGkBo6hEcNTUaQDgEL4ojQBpADB5M+BFLGkDcN2lmAFYaQKxRhtTuYBpAfGujQt1rGkBQhcCwy3YaQCCf3R66gRpA8Lj6jKiMGkDA0hf7lpcaQJTsNGmFohpAZAZS13OtGkA0IG9FYrgaQAQ6jLNQwxpA1FOpIT/OGkCobcaPLdkaQHiH4/0b5BpASKEAbArvGkAYux3a+PkaQOzUOkjnBBtAvO5XttUPG0CMCHUkxBobQFwikpKyJRtAMDyvAKEwG0AAVsxujzsbQNBv6dx9RhtAoIkGS2xRG0BwoyO5WlwbQES9QCdJZxtAFNddlTdyG0Dk8HoDJn0bQLQKmHEUiBtAiCS13wKTG0BYPtJN8Z0bQChY77vfqBtA+HEMKs6zG0DMiymYvL4bQJylRgaryRtAbL9jdJnUG0A82YDih98bQBDznVB26htA4Ay7vmT1G0CwJtgsUwAcQIBA9ZpBCxxAUFoSCTAWHEAkdC93HiEcQPSNTOUMLBxAxKdpU/s2HECUwYbB6UEcQGjboy/YTBxAOPXAncZXHEAID94LtWIcQNgo+3mjbRxArEIY6JF4HEB8XDVWgIMcQEx2UsRujhxAHJBvMl2ZHEDsqYygS6QcQMDDqQ46rxxAkN3GfCi6HEBg9+PqFsUcQDARAVkF0BxABCsex/PaHEDURDs14uUcQKReWKPQ8BxAdHh1Eb/7HEBIkpJ/rQYdQBisr+2bER1A6MXMW4ocHUC43+nJeCcdQIj5BjhnMh1AXBMkplU9HUAsLUEUREgdQPxGXoIyUx1AzGB78CBeHUCgepheD2kdQHCUtcz9cx1AQK7SOux+HUAQyO+o2okdQOThDBfJlB1AtPsphbefHUCEFUfzpaodQFQvZGGUtR1AJEmBz4LAHUD4Yp49ccsdQMh8u6tf1h1AmJbYGU7hHUBosPWHPOwdQDzKEvYq9x1ADOQvZBkCHkDc/UzSBw0eQKwXakD2Fx5AgDGHruQiHkBQS6Qc0y0eQCBlwYrBOB5A8H7e+K9DHkDAmPtmnk4eQJSyGNWMWR5AZMw1Q3tkHkA05lKxaW8eQAQAcB9Yeh5A2BmNjUaFHkCoM6r7NJAeQHhNx2kjmx5ASGfk1xGmHkAcgQFGALEeQOyaHrTuux5AvLQ7It3GHkCMzliQy9EeQGDodf653B5AMAKTbKjnHkAAHLDalvIeQNA1zUiF/R5AoE/qtnMIH0B0aQclYhMfQESDJJNQHh9AFJ1BAT8pH0Dktl5vLTQfQLjQe90bPx9AiOqYSwpKH0BYBLa5+FQfQCge0yfnXx9A/DfwldVqH0DMUQ0ExHUfQJxrKnKygB9AbIVH4KCLH0A8n2ROj5YfQBC5gbx9oR9A4NKeKmysH0Cw7LuYWrcfQIAG2QZJwh9AVCD2dDfNH0AkOhPjJdgfQPRTMFEU4x9AxG1NvwLuH0CYh2ot8fgfQLTQw83vASBAnF3SBGcHIECE6uA73gwgQGx373JVEiBAVgT+qcwXIEA+kQzhQx0gQCYeGxi7IiBADqspTzIoIED4NziGqS0gQODERr0gMyBAyFFV9Jc4IECw3mMrDz4gQJprcmKGQyBAgviAmf1IIEBqhY/QdE4gQFISngfsUyBAOp+sPmNZIEAkLLt12l4gQAy5yaxRZCBA9EXY48hpIEDc0uYaQG8gQMZf9VG3dCBAruwDiS56IECWeRLApX8gQH4GIfcchSBAaJMvLpSKIEBQID5lC5AgQDitTJyClSBAIDpb0/maIEAIx2kKcaAgQPJTeEHopSBA2uCGeF+rIEDCbZWv1rAgQKr6o+ZNtiBAlIeyHcW7IEB8FMFUPMEgQGShz4uzxiBATC7ewirMIEA2u+z5odEgQB5I+zAZ1yBABtUJaJDcIEDuYRifB+IgQNjuJtZ+5yBAwHs1DfbsIECoCEREbfIgQJCVUnvk9yBAeCJhslv9IEBir2/p0gIhQEo8fiBKCCFAMsmMV8ENIUAaVpuOOBMhQATjqcWvGCFA7G+4/CYeIUDU/MYzniMhQLyJ1WoVKSFAphbkoYwuIUCOo/LYAzQhQHYwARB7OSFAXr0PR/I+IUBGSh5+aUQhQDDXLLXgSSFAGGQ77FdPIUAA8Ukjz1QhQOh9WFpGWiFA0gpnkb1fIUC6l3XINGUhQKIkhP+raiFAirGSNiNwIUB0PqFtmnUhQFzLr6QReyFARFi+24iAIUAs5cwSAIYhQBRy20l3iyFA/v7pgO6QIUDmi/i3ZZYhQM4YB+/cmyFAtqUVJlShIUCgMiRdy6YhQIi/MpRCrCFAcExBy7mxIUBY2U8CMbchQEJmXjmovCFAKvNscB/CIUASgHunlschQPoMit4NzSFA4pmYFYXSIUDMJqdM/NchQLSztYNz3SFAnEDEuuriIUCEzdLxYeghQG5a4SjZ7SFAVufvX1DzIUA+dP6Wx/ghQCYBDc4+/iFAEI4bBbYDIkD4Gio8LQkiQOCnOHOkDiJAyDRHqhsUIkCwwVXhkhkiQJpOZBgKHyJAgttyT4EkIkBqaIGG+CkiQFL1j71vLyJAPIKe9OY0IkAkD60rXjoiQAycu2LVPyJA9CjKmUxFIkDetdjQw0oiQMZC5wc7UCJArs/1PrJVIkCWXAR2KVsiQIDpEq2gYCJAaHYh5BdmIkBQAzAbj2siQDiQPlIGcSJAIB1NiX12IkAKqlvA9HsiQPI2avdrgSJA2sN4LuOGIkDCUIdlWowiQKzdlZzRkSJAlGqk00iXIkB897IKwJwiQGSEwUE3oiJAThHQeK6nIkA2nt6vJa0iQB4r7eacsiJABrj7HRS4IkDuRApVi70iQNjRGIwCwyJAwF4nw3nIIkCo6zX68M0iQJB4RDFo0yJAegVTaN/YIkBikmGfVt4iQEofcNbN4yJAMqx+DUXpIkAcOY1EvO4iQATGm3sz9CJA7FKqsqr5IkDU37jpIf8iQLxsxyCZBCNApvnVVxAKI0COhuSOhw8jQHYT88X+FCNAXqAB/XUaI0BILRA07R8jQDC6HmtkJSNAGEctotsqI0AA1DvZUjAjQOpgShDKNSNA0u1YR0E7I0C6emd+uEAjQKIHdrUvRiNAipSE7KZLI0B0IZMjHlEjQFyuoVqVViNARDuwkQxcI0AsyL7Ig2EjQBZVzf/6ZiNA/uHbNnJsI0Dmbupt6XEjQM77+KRgdyNAuIgH3Nd8I0CgFRYTT4IjQIiiJErGhyNAcC8zgT2NI0BavEG4tJIjQEJJUO8rmCNAKtZeJqOdI0ASY21dGqMjQPrve5SRqCNA5HyKywiuI0DMCZkCgLMjQLSWpzn3uCNAnCO2cG6+I0CGsMSn5cMjQG49095cySNAVsrhFdTOI0A+V/BMS9QjQCjk/oPC2SNAEHENuznfI0D4/RvysOQjQOCKKiko6iNAyBc5YJ/vI0CypEeXFvUjQJoxVs6N+iNAgr5kBQUAJEBqS3M8fAUkQFTYgXPzCiRAPGWQqmoQJEAk8p7h4RUkQAx/rRhZGyRA9gu8T9AgJEDemMqGRyYkQMYl2b2+KyRArrLn9DUxJECWP/YrrTYkQIDMBGMkPCRAaFkTmptBJEBQ5iHREkckQDhzMAiKTCRAIgA/PwFSJEAKjU12eFckQPIZXK3vXCRA2qZq5GZiJEDEM3kb3mckQKzAh1JVbSRAlE2WicxyJEB82qTAQ3gkQGRns/e6fSRATvTBLjKDJEA2gdBlqYgkQB4O35wgjiRABpvt05eTJEDwJ/wKD5kkQNi0CkKGniRAwEEZef2jJECoziewdKkkQJJbNufrriRAeuhEHmO0JEBidVNV2rkkQEoCYoxRvyRAMo9ww8jEJEAcHH/6P8okQASpjTG3zyRA7DWcaC7VJEDUwqqfpdokQL5PudYc4CRAptzHDZTlJECOadZEC+skQHb25HuC8CRAYIPzsvn1JEBIEALqcPskQDCdECHoACVAGCofWF8GJUACty2P1gslQOpDPMZNESVA0tBK/cQWJUC6XVk0PBwlQKLqZ2uzISVAjHd2oionJUB0BIXZoSwlQFyRkxAZMiVARB6iR5A3JUAuq7B+Bz0lQBY4v7V+QiVA/sTN7PVHJUDmUdwjbU0lQNDe6lrkUiVAuGv5kVtYJUCg+AfJ0l0lQIiFFgBKYyVAcBIlN8FoJUBanzNuOG4lQEIsQqWvcyVAKrlQ3CZ5JUASRl8Tnn4lQPzSbUoVhCVA5F98gYyJJUDM7Iq4A48lQLR5me96lCVAngaoJvKZJUCGk7ZdaZ8lQG4gxZTgpCVAVq3Ty1eqJUA+OuICz68lQCjH8DlGtSVAEFT/cL26JUD44A2oNMAlQOBtHN+rxSVAyvoqFiPLJUCyhzlNmtAlQJoUSIQR1iVAgqFWu4jbJUBsLmXy/+AlQFS7cyl35iVAPEiCYO7rJUAk1ZCXZfElQAxin87c9iVA9u6tBVT8JUDee7w8ywEmQMYIy3NCByZArpXZqrkMJkCYIujhMBImQICv9hioFyZAaDwFUB8dJkBQyROHliImQDpWIr4NKCZAIuMw9YQtJkAKcD8s/DImQPL8TWNzOCZA2olcmuo9JkDEFmvRYUMmQKyjeQjZSCZAlDCIP1BOJkB8vZZ2x1MmQGZKpa0+WSZATtez5LVeJkA2ZMIbLWQmQB7x0FKkaSZACH7fiRtvJkDwCu7AknQmQNiX/PcJeiZAwCQLL4F/JkCqsRlm+IQmQJI+KJ1viiZAess21OaPJkBiWEULXpUmQErlU0LVmiZANHJieUygJkAc/3Cww6UmQASMf+c6qyZA7BiOHrKwJkDWpZxVKbYmQL4yq4yguyZApr+5wxfBJkCOTMj6jsYmQHjZ1jEGzCZAYGblaH3RJkBI8/Of9NYmQDCAAtdr3CZAGA0RDuPhJkACmh9FWucmQOomLnzR7CZA0rM8s0jyJkC6QEvqv/cmQKTNWSE3/SZAjFpoWK4CJ0B053aPJQgnQFx0hcacDSdARgGU/RMTJ0AujqI0ixgnQBYbsWsCHidA/qe/onkjJ0DmNM7Z8CgnQNDB3BBoLidAuE7rR98zJ0Cg2/l+VjknQIhoCLbNPidAcvUW7UREJ0BagiUkvEknQEIPNFszTydAKpxCkqpUJ0AUKVHJIVonQPy1XwCZXydA5EJuNxBlJ0DMz3xuh2onQLRci6X+bydAnumZ3HV1J0CGdqgT7XonQG4Dt0pkgCdAVpDFgduFJ0BAHdS4UosnQCiq4u/JkCdAEDfxJkGWJ0D6w/9duJsnQOJQDpUvoSdAyt0czKamJ0CyaisDHqwnQJr3OTqVsSdAgoRIcQy3J0BqEVeog7wnQFKeZd/6wSdAPit0FnLHJ0AmuIJN6cwnQA5FkYRg0idA9tGfu9fXJ0DeXq7yTt0nQMbrvCnG4idArnjLYD3oJ0CWBdqXtO0nQIKS6M4r8ydAah/3BaP4J0BSrAU9Gv4nQDo5FHSRAyhAIsYiqwgJKEAKUzHifw4oQPLfPxn3EyhA2mxOUG4ZKEDC+VyH5R4oQK6Ga75cJChAlhN69dMpKEB+oIgsSy8oQGYtl2PCNChATrqlmjk6KEA2R7TRsD8oQB7UwggoRShABmHRP59KKEDu7d92FlAoQNp67q2NVShAwgf95ARbKECqlAscfGAoQJIhGlPzZShAeq4oimprKEBiOzfB4XAoQErIRfhYdihAMlVUL9B7KEAe4mJmR4EoQAZvcZ2+hihA7vt/1DWMKEDWiI4LrZEoQL4VnUIklyhApqKreZucKECOL7qwEqIoQHa8yOeJpyhAXknXHgGtKEBK1uVVeLIoQDJj9IzvtyhAGvACxGa9KEACfRH73cIoQOoJIDJVyChA0pYuaczNKEC6Iz2gQ9MoQKKwS9e62ChAjj1aDjLeKEB2ymhFqeMoQF5Xd3wg6ShARuSFs5fuKEAucZTqDvQoQBb+oiGG+ShA/oqxWP3+KEDmF8CPdAQpQM6kzsbrCSlAujHd/WIPKUCivus02hQpQIpL+mtRGilActgIo8gfKUBaZRfaPyUpQELyJRG3KilAKn80SC4wKUASDEN/pTUpQPqYUbYcOylA5iVg7ZNAKUDOsm4kC0YpQLY/fVuCSylAnsyLkvlQKUCGWZrJcFYpQG7mqADoWylAVnO3N19hKUA+AMZu1mYpQCqN1KVNbClAEhrj3MRxKUD6pvETPHcpQOIzAEuzfClAysAOgiqCKUCyTR25oYcpQJraK/AYjSlAgmc6J5CSKUBq9EheB5gpQFaBV5V+nSlAPg5mzPWiKUAmm3QDbagpQA4ogzrkrSlA9rSRcVuzKUDeQaCo0rgpQMbOrt9JvilArlu9FsHDKUCW6MtNOMkpQIJ12oSvzilAagLpuybUKUBSj/fyndkpQDocBioV3ylAIqkUYYzkKUAKNiOYA+opQPLCMc967ylA2k9ABvL0KUDG3E49afopQK5pXXTg/ylAlvZrq1cFKkB+g3rizgoqQGYQiRlGECpATp2XUL0VKkA2KqaHNBsqQB63tL6rICpABkTD9SImKkDy0NEsmisqQNpd4GMRMSpAwurumog2KkCqd/3R/zsqQJIEDAl3QSpAepEaQO5GKkBiHil3ZUwqQEqrN67cUSpANjhG5VNXKkAexVQcy1wqQAZSY1NCYipA7t5xirlnKkDWa4DBMG0qQL74jvincipApoWdLx94KkCOEqxmln0qQHafup0NgypAYizJ1ISIKkBKudcL/I0qQDJG5kJzkypAGtP0eeqYKkACYAOxYZ4qQOrsEejYoypA0nkgH1CpKkC6Bi9Wx64qQKKTPY0+tCpAjiBMxLW5KkB2rVr7LL8qQF46aTKkxCpARsd3aRvKKkAuVIagks8qQBbhlNcJ1SpA/m2jDoHaKkDm+rFF+N8qQNKHwHxv5SpAuhTPs+bqKkCiod3qXfAqQIou7CHV9SpAcrv6WEz7KkBaSAmQwwArQELVF8c6BitAKmIm/rELK0AS7zQ1KRErQP57Q2ygFitA5ghSoxccK0DOlWDajiErQLYibxEGJytAnq99SH0sK0CGPIx/9DErQG7JmrZrNytAVlap7eI8K0A+47ckWkIrQCpwxlvRRytAEv3UkkhNK0D6iePJv1IrQOIW8gA3WCtAyqMAOK5dK0CyMA9vJWMrQJq9HaacaCtAgkos3RNuK0Bu1zoUi3MrQFZkSUsCeStAPvFXgnl+K0Amfma58IMrQA4LdfBniStA9peDJ9+OK0DeJJJeVpQrQMaxoJXNmStArj6vzESfK0Cay70DvKQrQIJYzDozqitAauXacaqvK0BScumoIbUrQDr/99+YuitAIowGFxDAK0AKGRVOh8UrQPKlI4X+yitA3jIyvHXQK0DGv0Dz7NUrQK5MTypk2ytAltldYdvgK0B+ZmyYUuYrQGbzes/J6ytAToCJBkHxK0A2DZg9uPYrQB6apnQv/CtACie1q6YBLEDys8PiHQcsQNpA0hmVDCxAws3gUAwSLECqWu+HgxcsQJLn/b76HCxAenQM9nEiLEBiARst6ScsQEqOKWRgLSxANhs4m9cyLEAeqEbSTjgsQAY1VQnGPSxA7sFjQD1DLEDWTnJ3tEgsQL7bgK4rTixApmiP5aJTLECO9Z0cGlksQHqCrFORXixAYg+7ighkLEBKnMnBf2ksQDIp2Pj2bixAGrbmL250LEACQ/Vm5XksQOrPA55cfyxA0lwS1dOELEC66SAMS4osQKZ2L0PCjyxAjgM+ejmVLEB2kEyxsJosQF4dW+gnoCxARqppH5+lLEAuN3hWFqssQBbEho2NsCxA/lCVxAS2LEDq3aP7e7ssQNJqsjLzwCxAuvfAaWrGLECihM+g4cssQIoR3tdY0SxAcp7sDtDWLEBaK/tFR9wsQEK4CX2+4SxAKkUYtDXnLEAW0ibrrOwsQP5eNSIk8ixA5utDWZv3LEDOeFKQEv0sQLYFYceJAi1AnpJv/gAILUCGH341eA0tQG6sjGzvEi1AVjmbo2YYLUBCxqna3R0tQCpTuBFVIy1AEuDGSMwoLUD6bNV/Qy4tQOL547a6My1Ayoby7TE5LUCyEwElqT4tQJqgD1wgRC1Ahi0ek5dJLUBuuizKDk8tQFZHOwGGVC1APtRJOP1ZLUAmYVhvdF8tQA7uZqbrZC1A9np13WJqLUDeB4QU2m8tQMaUkktRdS1AsiGhgsh6LUCarq+5P4AtQII7vvC2hS1AasjMJy6LLUBSVdtepZAtQDri6ZUcli1AIm/4zJObLUAK/AYEC6EtQPKIFTuCpi1A3hUkcvmrLUDGojKpcLEtQK4vQeDnti1AlrxPF1+8LUB+SV5O1sEtQGbWbIVNxy1ATmN7vMTMLUA28InzO9ItQCJ9mCqz1y1ACgqnYSrdLUDylrWYoeItQNojxM8Y6C1AwrDSBpDtLUCqPeE9B/MtQJLK73R++C1Aelf+q/X9LUBi5AzjbAMuQE5xGxrkCC5ANv4pUVsOLkAeiziI0hMuQAYYR79JGS5A7qRV9sAeLkDWMWQtOCQuQL6+cmSvKS5ApkuBmyYvLkCS2I/SnTQuQHplngkVOi5AYvKsQIw/LkBKf7t3A0UuQDIMyq56Si5AGpnY5fFPLkACJuccaVUuQOqy9VPgWi5A0j8Ei1dgLkC+zBLCzmUuQKZZIflFay5AjuYvML1wLkB2cz5nNHYuQF4ATZ6rey5ARo1b1SKBLkAuGmoMmoYuQBaneEMRjC5A/jOHeoiRLkDqwJWx/5YuQNJNpOh2nC5AutqyH+6hLkCiZ8FWZacuQIr0z43crC5AcoHexFOyLkBaDu37yrcuQEKb+zJCvS5ALigKarnCLkAWtRihMMguQP5BJ9inzS5A5s41Dx/TLkDOW0RGltguQLboUn0N3i5AnnVhtITjLkCGAnDr++guQG6PfiJz7i5AWhyNWerzLkBCqZuQYfkuQCo2qsfY/i5AEsO4/k8EL0D6T8c1xwkvQOLc1Ww+Dy9Aymnko7UUL0Cy9vLaLBovQJqDARKkHy9AhhAQSRslL0BunR6AkiovQFYqLbcJMC9APrc77oA1L0AmREol+DovQA7RWFxvQC9A9l1nk+ZFL0De6nXKXUsvQMp3hAHVUC9AsgSTOExWL0CakaFvw1svQIIesKY6YS9Aaqu+3bFmL0BSOM0UKWwvQDrF20ugcS9AIlLqghd3L0AK3/i5jnwvQPZrB/EFgi9A3vgVKH2HL0DGhSRf9IwvQK4SM5Zrki9Alp9BzeKXL0B+LFAEWp0vQGa5XjvRoi9ATkZtckioL0A603upv60vQCJgiuA2sy9ACu2YF664L0DyeadOJb4vQNoGtoWcwy9AwpPEvBPJL0CqINPzis4vQJKt4SoC1C9AejrwYXnZL0Bmx/6Y8N4vQE5UDdBn5C9ANuEbB9/pL0Aebio+Vu8vQAb7OHXN9C9A7odHrET6L0DWFFbju/8vQN9QMo2ZAjBAU5e5KFUFMEDJ3UDEEAgwQD0kyF/MCjBAsWpP+4cNMEAlsdaWQxAwQJn3XTL/EjBADT7lzboVMECBhGxpdhgwQPXK8wQyGzBAaxF7oO0dMEDfVwI8qSAwQFOeiddkIzBAx+QQcyAmMEA7K5gO3CgwQK9xH6qXKzBAI7imRVMuMECX/i3hDjEwQAtFtXzKMzBAgYs8GIY2MED10cOzQTkwQGkYS0/9OzBA3V7S6rg+MEBRpVmGdEEwQMXr4CEwRDBAOTJovetGMECteO9Yp0kwQCG/dvRiTDBAlwX+jx5PMEALTIUr2lEwQH+SDMeVVDBA89iTYlFXMEBnHxv+DFowQNtlopnIXDBAT6wpNYRfMEDD8rDQP2IwQDk5OGz7ZDBArX+/B7dnMEAhxkajcmowQJUMzj4ubTBACVNV2ulvMEB9mdx1pXIwQPHfYxFhdTBAZSbrrBx4MEDZbHJI2HowQE+z+eOTfTBAw/mAf0+AMEA3QAgbC4MwQKuGj7bGhTBAH80WUoKIMECTE57tPYswQAdaJYn5jTBAe6CsJLWQMEDx5jPAcJMwQGUtu1ssljBA2XNC9+eYMEBNusmSo5swQMEAUS5fnjBANUfYyRqhMECpjV9l1qMwQB3U5gCSpjBAkRpunE2pMEAHYfU3CawwQHunfNPErjBA7+0Db4CxMEBjNIsKPLQwQNd6Eqb3tjBAS8GZQbO5MEC/ByHdbrwwQDNOqHgqvzBAp5QvFObBMEAd27avocQwQJEhPktdxzBABWjF5hjKMEB5rkyC1MwwQO300x2QzzBAYTtbuUvSMEDVgeJUB9UwQEnIafDC1zBAvw7xi37aMEAzVXgnOt0wQKeb/8L13zBAG+KGXrHiMECPKA76bOUwQANvlZUo6DBAd7UcMeTqMEDr+6PMn+0wQF9CK2hb8DBA1YiyAxfzMEBJzzmf0vUwQL0VwTqO+DBAMVxI1kn7MEClos9xBf4wQBnpVg3BADFAjS/eqHwDMUABdmVEOAYxQHW87N/zCDFA6wJ0e68LMUBfSfsWaw4xQNOPgrImETFAR9YJTuITMUC7HJHpnRYxQC9jGIVZGTFAo6mfIBUcMUAX8Ca80B4xQI02rleMITFAAX0180ckMUB1w7yOAycxQOkJRCq/KTFAXVDLxXosMUDRllJhNi8xQEXd2fzxMTFAuSNhmK00MUAtaugzaTcxQKOwb88kOjFAF/f2auA8MUCLPX4GnD8xQP+DBaJXQjFAc8qMPRNFMUDnEBTZzkcxQFtXm3SKSjFAz50iEEZNMUBF5KmrAVAxQLkqMUe9UjFALXG44nhVMUChtz9+NFgxQBX+xhnwWjFAiUROtatdMUD9itVQZ2AxQHHRXOwiYzFA5Rfkh95lMUBbXmsjmmgxQM+k8r5VazFAQ+t5WhFuMUC3MQH2zHAxQCt4iJGIczFAn74PLUR2MUATBZfI/3gxQIdLHmS7ezFA+5Gl/3Z+MUBx2CybMoExQOUetDbugzFAWWU70qmGMUDNq8JtZYkxQEHySQkhjDFAtTjRpNyOMUApf1hAmJExQJ3F39tTlDFAEwxndw+XMUCHUu4Sy5kxQPuYda6GnDFAb9/8SUKfMUDjJYTl/aExQFdsC4G5pDFAy7KSHHWnMUA/+Rm4MKoxQLM/oVPsrDFAKYYo76evMUCdzK+KY7IxQBETNyYftTFAhVm+wdq3MUD5n0VdlroxQG3mzPhRvTFA4SxUlA3AMUBVc9svycIxQMm5YsuExTFAPwDqZkDIMUCzRnEC/MoxQCeN+J23zTFAm9N/OXPQMUAPGgfVLtMxQINgjnDq1TFA96YVDKbYMUBr7ZynYdsxQOEzJEMd3jFAVXqr3tjgMUDJwDJ6lOMxQD0HuhVQ5jFAsU1BsQvpMUAllMhMx+sxQJnaT+iC7jFADSHXgz7xMUCBZ14f+vMxQPet5bq19jFAa/RsVnH5MUDfOvTxLPwxQFOBe43o/jFAx8cCKaQBMkA7DorEXwQyQK9UEWAbBzJAI5uY+9YJMkCZ4R+XkgwyQA0opzJODzJAgW4uzgkSMkD1tLVpxRQyQGn7PAWBFzJA3UHEoDwaMkBRiEs8+BwyQMXO0tezHzJAORVac28iMkCvW+EOKyUyQCOiaKrmJzJAl+jvRaIqMkALL3fhXS0yQH91/nwZMDJA87uFGNUyMkBnAg20kDUyQNtIlE9MODJAT48b6wc7MkDF1aKGwz0yQDkcKiJ/QDJArWKxvTpDMkAhqThZ9kUyQJXvv/SxSDJACTZHkG1LMkB9fM4rKU4yQPHCVcfkUDJAZwndYqBTMkDbT2T+W1YyQE+W65kXWTJAw9xyNdNbMkA3I/rQjl4yQKtpgWxKYTJAH7AICAZkMkCT9o+jwWYyQAc9Fz99aTJAfYOe2jhsMkDxySV29G4yQGUQrRGwcTJA2VY0rWt0MkBNnbtIJ3cyQMHjQuTieTJANSrKf558MkCpcFEbWn8yQB232LYVgjJAk/1fUtGEMkAHROftjIcyQHuKbolIijJA79D1JASNMkBjF33Av48yQNddBFx7kjJAS6SL9zaVMkC/6hKT8pcyQDUxmi6umjJAqXchymmdMkAdvqhlJaAyQJEEMAHhojJABUu3nJylMkB5kT44WKgyQO3XxdMTqzJAYR5Nb8+tMkDVZNQKi7AyQEurW6ZGszJAv/HiQQK2MkAzOGrdvbgyQKd+8Xh5uzJAG8V4FDW+MkCPCwCw8MAyQANSh0uswzJAd5gO52fGMkDt3pWCI8kyQGElHR7fyzJA1WukuZrOMkBJsitVVtEyQL34svAR1DJAMT86jM3WMkClhcEnidkyQBnMSMNE3DJAjRLQXgDfMkADWVf6u+EyQHef3pV35DJA6+VlMTPnMkBfLO3M7ukyQNNydGiq7DJAR7n7A2bvMkC7/4KfIfIyQC9GCjvd9DJAo4yR1pj3MkAZ0xhyVPoyQI0ZoA0Q/TJAAWAnqcv/MkB1pq5EhwIzQOnsNeBCBTNAXTO9e/4HM0DReUQXugozQEXAy7J1DTNAuwZTTjEQM0AvTdrp7BIzQKOTYYWoFTNAF9roIGQYM0CLIHC8HxszQP9m91fbHTNAc61+85YgM0Dn8wWPUiMzQFs6jSoOJjNA0YAUxskoM0BFx5thhSszQLkNI/1ALjNALVSqmPwwM0ChmjE0uDMzQBXhuM9zNjNAiSdAay85M0D9bccG6zszQHG0TqKmPjNA5/rVPWJBM0BbQV3ZHUQzQM+H5HTZRjNAQ85rEJVJM0C3FPOrUEwzQCtbekcMTzNAn6EB48dRM0AT6Ih+g1QzQIkuEBo/VzNA/XSXtfpZM0Bxux5RtlwzQOUBpuxxXzNAWUgtiC1iM0DNjrQj6WQzQEHVO7+kZzNAtRvDWmBqM0ApYkr2G20zQJ+o0ZHXbzNAE+9YLZNyM0CHNeDITnUzQPt7Z2QKeDNAb8Lu/8V6M0DjCHabgX0zQFdP/TY9gDNAy5WE0viCM0BB3AtutIUzQLUikwlwiDNAKWkapSuLM0Cdr6FA540zQBH2KNyikDNAhTywd16TM0D5gjcTGpYzQG3Jvq7VmDNA4Q9GSpGbM0BXVs3lTJ4zQMucVIEIoTNAP+PbHMSjM0CzKWO4f6YzQCdw6lM7qTNAm7Zx7/arM0AP/fiKsq4zQINDgCZusTNA94kHwim0M0Bt0I5d5bYzQOEWFvmguTNAVV2dlFy8M0DJoyQwGL8zQD3qq8vTwTNAsTAzZ4/EM0Ald7oCS8czQJm9QZ4GyjNADwTJOcLMM0CDSlDVfc8zQPeQ13A50jNAa9deDPXUM0DfHeansNczQFNkbUNs2jNAx6r03ifdM0A78Xt6498zQK83Axaf4jNAJX6KsVrlM0CZxBFNFugzQA0LmejR6jNAgVEghI3tM0D1l6cfSfAzQGneLrsE8zNA3SS2VsD1M0BRaz3ye/gzQMWxxI03+zNAO/hLKfP9M0CvPtPErgA0QCOFWmBqAzRAl8vh+yUGNEALEmmX4Qg0QH9Y8DKdCzRA8553zlgONEBn5f5pFBE0QN0rhgXQEzRAUXINoYsWNEDFuJQ8Rxk0QDn/G9gCHDRArUWjc74eNEAhjCoPeiE0QJXSsao1JDRACRk5RvEmNEB9X8DhrCk0QPOlR31oLDRAZ+zOGCQvNEDbMla03zE0QE953U+bNDRAw79k61Y3NEA3BuyGEjo0QKtMcyLOPDRAH5P6vYk/NECV2YFZRUI0QAkgCfUARTRAfWaQkLxHNEDxrBcseEo0QGXznsczTTRA2TkmY+9PNEBNgK3+qlI0QMHGNJpmVTRANQ28NSJYNECrU0PR3Vo0QB+aymyZXTRAk+BRCFVgNEAHJ9mjEGM0QHttYD/MZTRA77Pn2odoNEBj+m52Q2s0QNdA9hH/bTRAS4d9rbpwNEDBzQRJdnM0QDUUjOQxdjRAqVoTgO14NEAdoZobqXs0QJHnIbdkfjRABS6pUiCBNEB5dDDu24M0QO26t4mXhjRAYwE/JVOJNEDXR8bADow0QEuOTVzKjjRAv9TU94WRNEAzG1yTQZQ0QKdh4y79ljRAG6hqyriZNECP7vFldJw0QAM1eQEwnzRAeXsAneuhNEDtwYc4p6Q0QGEID9RipzRA1U6Wbx6qNEBJlR0L2qw0QL3bpKaVrzRAMSIsQlGyNEClaLPdDLU0QBuvOnnItzRAj/XBFIS6NEADPEmwP700QHeC0Ev7vzRA68hX57bCNEBfD9+CcsU0QNNVZh4uyDRAR5ztuenKNEC74nRVpc00QDEp/PBg0DRApW+DjBzTNEAZtgoo2NU0QI38kcOT2DRAAUMZX0/bNEB1iaD6Ct40QOnPJ5bG4DRAXRavMYLjNEDRXDbNPeY0QEejvWj56DRAu+lEBLXrNEAvMMyfcO40QKN2Uzss8TRAF73a1ufzNECLA2Jyo/Y0QP9J6Q1f+TRAc5BwqRr8NEDp1vdE1v40QF0df+CRATVA0WMGfE0ENUBFqo0XCQc1QLnwFLPECTVALTecToAMNUChfSPqOw81QBXEqoX3ETVAiQoyIbMUNUD/ULm8bhc1QHOXQFgqGjVA593H8+UcNUBbJE+PoR81QM9q1ipdIjVAQ7FdxhglNUC39+Rh1Cc1QCs+bP2PKjVAn4TzmEstNUAVy3o0BzA1QIkRAtDCMjVA/VeJa341NUBxnhAHOjg1QOXkl6L1OjVAWSsfPrE9NUDNcabZbEA1QEG4LXUoQzVAt/60EORFNUArRTysn0g1QJ+Lw0dbSzVAE9JK4xZONUCHGNJ+0lA1QPteWRqOUzVAb6XgtUlWNUDj62dRBVk1QFcy7+zAWzVAzXh2iHxeNUBBv/0jOGE1QLUFhb/zYzVAKUwMW69mNUCdkpP2amk1QBHZGpImbDVAhR+iLeJuNUD5ZSnJnXE1QG+ssGRZdDVA4/I3ABV3NUBXOb+b0Hk1QMt/RjeMfDVAP8bN0kd/NUCzDFVuA4I1QCdT3Am/hDVAm5ljpXqHNUAP4OpANoo1QIUmctzxjDVA+Wz5d62PNUBts4ATaZI1QOH5B68klTVAVUCPSuCXNUDJhhbmm5o1QD3NnYFXnTVAsRMlHROgNUAlWqy4zqI1QJugM1SKpTVAD+e670WoNUCDLUKLAas1QPdzySa9rTVAa7pQwniwNUDfANhdNLM1QFNHX/nvtTVAx43mlKu4NUA91G0wZ7s1QLEa9csivjVAJWF8Z97ANUCZpwMDmsM1QA3uip5VxjVAgTQSOhHJNUD1epnVzMs1QGnBIHGIzjVA3QeoDETRNUBTTi+o/9M1QMeUtkO71jVAO9s933bZNUCvIcV6Mtw1QCNoTBbu3jVAl67TsanhNUAL9VpNZeQ1QH874ugg5zVA84FphNzpNUBpyPAfmOw1QN0OeLtT7zVAUVX/Vg/yNUDFm4byyvQ1QDniDY6G9zVArSiVKUL6NUAhbxzF/fw1QJW1o2C5/zVAC/wq/HQCNkB/QrKXMAU2QPOIOTPsBzZAZ8/AzqcKNkDbFUhqYw02QE9czwUfEDZAw6JWodoSNkA36d08lhU2QKsvZdhRGDZAIXbscw0bNkCVvHMPyR02QAkD+6qEIDZAfUmCRkAjNkDxjwni+yU2QGXWkH23KDZA2RwYGXMrNkBNY5+0Li42QMOpJlDqMDZAN/Ct66UzNkCrNjWHYTY2QB99vCIdOTZAk8NDvtg7NkAHCstZlD42QHtQUvVPQTZA75bZkAtENkBj3WAsx0Y2QNkj6MeCSTZATWpvYz5MNkDBsPb++U42QDX3fZq1UTZAqT0FNnFUNkAdhIzRLFc2QJHKE23oWTZABRGbCKRcNkB5VyKkX182QO+dqT8bYjZAY+Qw29ZkNkDXKrh2kmc2QEtxPxJOajZAv7fGrQltNkAz/k1JxW82QKdE1eSAcjZAG4tcgDx1NkCR0eMb+Hc2QAUYa7ezejZAeV7yUm99NkA=",
          "dtype": "f8"
         },
         "y": {
          "bdata": "Ul7glnB5FECOKcUzX3gUQIoGZsJNdxRAXrnAQjx2FECNBdO0KnUUQASumhgZdBRAGXUVbgdzFECOHEG19XEUQI5lG+7jcBRArRCiGNJvFEDr3dI0wG4UQKyMq0KubRRAw9spQpxsFEBoiUszimsUQDtTDhZ4ahRASPZv6mVpFED+Lm6wU2gUQDm5BmhBZxRAOlA3ES9mFECorv2rHGUUQJWOVzgKZBRAdqlCtvdiFEAquLwl5WEUQPVyw4bSYBRAgZFU2b9fFEDfym0drV4UQIXVDFOaXRRAUGcveodcFECBNdOSdFsUQL/09ZxhWhRAFVmVmE5ZFED2Fa+FO1gUQDTeQGQoVxRAC2RINBVWFEAXWcP1AVUUQFpur6juUxRAOVQKTdtSFEB8utHix1EUQE9QA2q0UBRAQcSc4qBPFEBDxJtMjU4UQKn9/ad5TRRAKR3B9GVMFEDbzuIyUksUQDm+YGI+ShRAH5Y4gypJFEDKAGiVFkgUQNen7JgCRxRARjTEje5FFEB3Tuxz2kQUQCmeYkvGQxRAfcokFLJCFEDzeTDOnUEUQGtSg3mJQBRAJPkaFnU/FEC+EvWjYD4UQDZDDyNMPRRA6S1nkzc8FECRdfr0IjsUQEm8xkcOOhRAiKPJi/k4FEAjzADB5DcUQE3WaefPNhRAl2EC/7o1FEDvDMgHpjQUQJ52uAGRMxRATTzR7HsyFED++g/JZjEUQBJPcpZRMBRARNT1VDwvFECrJZgEJy4UQLvdVqURLRRAQJYvN/wrFEBm6B+65ioUQK9sJS7RKRRA+ro9k7soFEB/ambppScUQNERnTCQJhRA3EbfaHolFEDmniqSZCQUQI2ufKxOIxRAzAnTtzgiFEDxQyu0IiEUQKfvgqEMIBRA8J7Xf/YeFEAk4yZP4B0UQPdMbg/KHBRAcWyrwLMbFEDx0NtinRoUQDAJ/fWGGRRAPaMMenAYFEB7LAjvWRcUQKYx7VRDFhRAzz65qywVFEBd32nzFRQUQA2e/Cv/EhRA8ARvVegRFEBsnb5v0RAUQD3w6Hq6DxRAdYXrdqMOFEB25MNjjA0UQPmTb0F1DBRAChrsD14LFEAJ/DbPRgoUQKm+TX8vCRRA7+UtIBgIFEA09dSxAAcUQCRvQDTpBRRAutVtp9EEFEBHqloLugMUQGxtBGCiAhRAGZ9opYoBFECUvoTbcgAUQHBKVgJb/xNAk8DaGUP+E0Axng8iK/0TQNFf8hoT/BNASIGABPv6E0C6fbfe4vkTQJ3PlKnK+BNAs/AVZbL3E0APWjgRmvYTQBGE+a2B9RNAaOZWO2n0E0AR+E25UPMTQFgv3Cc48hNA1AH/hh/xE0Br5LPWBvATQE5L+Bbu7hNA/anJR9XtE0BEcyVpvOwTQDkZCXuj6xNAQQ1yfYrqE0AJwF1wcekTQI2hyVNY6BNAESGzJz/nE0AlrRfsJeYTQKSz9KAM5RNAs6FHRvPjE0DB4w3c2eITQITlRGLA4RNAABLq2KbgE0B/0/o/jd8TQJWTdJdz3hNAHbtU31ndE0A8spgXQNwTQGDgPUAm2xNAO6xBWQzaE0DJe6Fi8tgTQE60WlzY1xNAUrpqRr7WE0Cn8c4gpNUTQGK9hOuJ1BNA4X+Jpm/TE0DFmtpRVdITQPZude060RNAolxXeSDQE0A6w331Bc8TQHUB5mHrzRNATXWNvtDME0ACfHELtssTQBZyj0ibyhNAT7PkdYDJE0C3mm6TZcgTQJmCKqFKxxNAhcQVny/GE0BLuS2NFMUTQP64b2v5wxNA9BrZOd7CE0DDNWf4wsETQEJfF6enwBNAiezmRYy/E0DxMdPUcL4TQBSD2VNVvRNAyjL3wjm8E0AskykiHrsTQJP1bXECuhNAlarBsOa4E0AJAiLgyrcTQANLjP+uthNA1dP9DpO1E0AR6nMOd7QTQIXa6/1asxNAPPFi3T6yE0B/edasIrETQNO9Q2wGsBNA+QeoG+quE0DwoAC7za0TQPDQSkqxrBNAcN+DyZSrE0AeE6k4eKoTQOext5dbqRNA7wCt5j6oE0CXRIYlIqcTQHnAQFQFphNAaLfZcuikE0Bya06By6MTQNsdnH+uohNAIw/AbZGhE0ABf7dLdKATQGSsfxlXnxNAc9UV1zmeE0CNN3eEHJ0TQEgPoSH/mxNAcJiQruGaE0AIDkMrxJkTQEqqtZemmBNApabl84iXE0C+O9A/a5YTQG+hcntNlRNAyA7Kpi+UE0AMutPBEZMTQLXYjMzzkRNAbZ/yxtWQE0AVQgKxt48TQMHzuIqZjhNAt+YTVHuNE0BwTBANXYwTQJlVq7U+ixNADjLiTSCKE0DfELLVAYkTQE8gGE3jhxNAzo0RtMSGE0D/hZsKpoUTQLc0s1CHhBNA+cRVhmiDE0D4YICrSYITQBgyMMAqgRNA62BixAuAE0AyFRS47H4TQNx1QpvNfRNACKnqba58E0AB1Akwj3sTQEAbneFvehNAbKKhglB5E0BZjBQTMXgTQAX78pIRdxNAng86AvJ1E0B76uZg0nQTQB+r9q6ycxNAOnBm7JJyE0ClVzMZc3ETQGR+WjVTcBNApQDZQDNvE0DA+as7E24TQDiE0CXzbBNAt7lD/9JrE0ARswLIsmoTQEKICoCSaRNAblBYJ3JoE0DhIem9UWcTQA8SukMxZhNAkzXIuBBlE0AuoBAd8GMTQMlkkHDPYhNAcZVEs65hE0BaQyrljWATQNx+PgZtXxNAd1d+FkxeE0DO2+YVK10TQKcZdQQKXBNA7R0m4uhaE0Cx9Paux1kTQCOp5GqmWBNAmUXsFYVXE0CL0wqwY1YTQJFbPTlCVRNAauWAsSBUE0Dxd9IY/1ITQCUZL2/dURNAJs6TtLtQE0Azm/3omU8TQKyDaQx4ThNAEIrUHlZNE0AAsDsgNEwTQDf2mxASSxNAlFzy7+9JE0AR4ju+zUgTQMaEdXurRxNA60GcJ4lGE0DTFa3CZkUTQO/7pExERBNAyu6AxSFDE0AO6D0t/0ETQIHg2IPcQBNAAtBOybk/E0CLrZz9lj4TQDNvvyB0PRNAKgq0MlE8E0C6cnczLjsTQEacBiMLOhNASnleAeg4E0Bb+3vOxDcTQCkTXIqhNhNAd7D7NH41E0AkwlfOWjQTQCM2bVY3MxNAgfk4zRMyE0Bg+Lcy8DATQPcd54bMLxNAlFTDyaguE0CchUn7hC0TQIWZdhthLBNA3XdHKj0rE0BEB7knGSoTQHAtyBP1KBNAKc9x7tAnE0BL0LK3rCYTQMITiG+IJRNAkXvuFWQkE0DJ6OKqPyMTQI07Yi4bIhNAFFNpoPYgE0CiDfUA0h8TQI5IAlCtHhNAPeCNjYgdE0AlsJS5YxwTQMySE9Q+GxNAw2EH3RkaE0Cu9WzU9BgTQDsmQbrPFxNAKcqAjqoWE0BDtyhRhRUTQF/CNQJgFBNAYb+koToTE0A5gXIvFRITQOPZm6vvEBNAZZodFsoPE0DQkvRupA4TQEGSHbZ+DRNA3GaV61gME0DS3VgPMwsTQFvDZCENChNAuOK1IecIE0AyBkkQwQcTQBr3Gu2aBhNAzH0ouHQFE0ClYW5xTgQTQA1p6RgoAxNAclmWrgECE0BG93Ey2wATQAEGeaS0/xJAIkioBI7+EkArf/xSZ/0SQKFrco9A/BJAEM0Guhn7EkAFYrbS8vkSQBDofdnL+BJAxRtazqT3EkC5uEexffYSQIN5Q4JW9RJAuxdKQS/0EkD6S1juB/MSQNnNaong8RJA81N+ErnwEkDhk4+Jke8SQDpCm+5p7hJAlRKeQULtEkCJt5SCGuwSQKjie7Hy6hJAgkRQzsrpEkCmjA7ZougSQJ1ps9F65xJA7og7uFLmEkAal6OMKuUSQJ8/6E4C5BJA9SwG/9niEkCPCPqcseESQNh6wCiJ4BJANytWomDfEkALwLcJON4SQKve4V4P3RJAZyvRoebbEkCGSYLSvdoSQEjb8fCU2RJA4oEc/WvYEkCA3f72QtcSQESNld4Z1hJARi/ds/DUEkCSYNJ2x9MSQCq9cSee0hJAAuC3xXTREkAEY6FRS9ASQA3fKsshzxJA6+tQMvjNEkBgIBCHzswSQCASZcmkyxJAzVVM+XrKEkAAf8IWUckSQD4gxCEnyBJA/cpNGv3GEkCjD1wA08USQIZ969OoxBJA6KL4lH7DEkD8DIBDVMISQOJHft8pwRJApt7vaP+/EkBCW9Hf1L4SQJ1GH0SqvRJAhyjWlX+8EkC+h/LUVLsSQOzpcAEquhJAodNNG/+4EkBcyIUi1LcSQIFKFRepthJAYdv4+H21EkAz+yzIUrQSQBcproQnsxJAFON4LvyxEkAZponF0LASQPvt3EmlrxJAdTVvu3muEkAp9jwaTq0SQJuoQmYirBJAOMR8n/aqEkBPv+fFyqkSQBIPgNmeqBJAlydC2nKnEkDXeyrIRqYSQK59NaMapRJA151fa+6jEkDyS6UgwqISQH32AsOVoRJA1wp1UmmgEkA/9ffOPJ8SQNMgiDgQnhJAkvchj+OcEkBV4sHStpsSQNdIZAOKmhJArZEFIV2ZEkBLIqIrMJgSQABfNiMDlxJA+Kq+B9aVEkA5aDfZqJQSQKb3nJd7kxJA+bjrQk6SEkDICiDbIJESQIFKNmDzjxJAbdQq0sWOEkCpA/owmI0SQC8yoHxqjBJAzLgZtTyLEkAm72LaDooSQLgreOzgiBJA08NV67KHEkCdC/jWhIYSQBFWW69WhRJA/fR7dCiEEkAFOVYm+oISQJ1x5sTLgRJADe0oUJ2AEkBv+BnIbn8SQLDftSxAfhJAiu34fRF9EkCKa9+74nsSQA6iZeazehJAQNiH/YR5EkAcVEIBVngSQGpakfEmdxJAwS5xzvd1EkCFE96XyHQSQOdJ1E2ZcxJA4hFQ8GlyEkBAqk1/OnESQJJQyfoKcBJAOEG/YttuEkBYtyu3q20SQOPsCvh7bBJAlBpZJUxrEkDsdxI/HGoSQDY7M0XsaBJAgpm3N7xnEkCoxpsWjGYSQEb12+FbZRJAwFZ0mStkEkA9G2E9+2ISQKpxns3KYRJAuYcoSppgEkDcifuyaV8SQEujEwg5XhJA//1sSQhdEkCxwgN311sSQN4Y1JCmWhJAwSbalnVZEkBXERKJRFgSQFr8d2cTVxJARgoIMuJVEkBRXL7osFQSQHMSl4t/UxJAXUuOGk5SEkCAJKCVHFESQAe6yPzqTxJA2CYEULlOEkCVhE6Ph00SQJrro7pVTBJA/HIA0iNLEkCKMGDV8UkSQMk4v8S/SBJA+Z4ZoI1HEkAOdWtnW0YSQLfLsBopRRJAVbLlufZDEkD/NgZFxEISQIRmDryRQRJAZUz6Hl9AEkDV8sVtLD8SQL5ibaj5PRJAuaPszsY8EkATvD/hkzsSQMuwYt9gOhJAjYVRyS05EkC5PAif+jcSQF3XgmDHNhJANlW9DZQ1EkCutLOmYDQSQODyYSstMxJAjwvEm/kxEkAw+dX3xTASQOC0kz+SLxJAaTb5cl4uEkA+dAKSKi0SQH5jq5z2KxJA8PfvksIqEkAEJMx0jikSQNPYO0JaKBJAGwY7+yUnEkBFmsWf8SUSQFyC1y+9JBJAFKpsq4gjEkDD+4ASVCISQGZgEGUfIRJAm78Wo+ofEkCn/4/MtR4SQG4FeOGAHRJAdrTK4UscEkDo7oPNFhsSQI2Vn6ThGRJAzYcZZ6wYEkCxo+0UdxcSQN7FF65BFhJAmcmTMgwVEkDDiF2i1hMSQNzbcP2gEhJA/ZnJQ2sREkDdmGN1NRASQMysOpL/DhJAtahKmskNEkAbXo+NkwwSQBudBGxdCxJAazSmNScKEkBW8W/q8AgSQL+fXYq6BxJAIAprFYQGEkCI+ZOLTQUSQJg11OwWBBJAioQnOeACEkAnq4lwqQESQM5s9pJyABJAb4tpoDv/EUCIx96YBP4RQC/gUXzN/BFAA5O+Spb7EUA2nCAEX/oRQIi2c6gn+RFAR5uzN/D3EUBPAtyxuPYRQAei6BaB9RFAYi/VZkn0EUDgXZ2hEfMRQIzfPMfZ8RFA92Sv16HwEUA/nfDSae8RQAk2/Lgx7hFAgtvNifnsEUBeOGFFwesRQNf1seuI6hFArru7fFDpEUAnMHr4F+gRQAz46F7f5hFAqbYDsKblEUDODcbrbeQRQM6dKxI14xFAegUwI/zhEUAo4s4ew+ARQKvPAwWK3xFAVmjK1VDeEUD7RB6RF90RQOr8+jbe2xFA7yVcx6TaEUBTVD1Ca9kRQNsamqcx2BFAxwpu9/fWEUDPs7QxvtURQCikaVaE1BFAfmiIZUrTEUD0iwxfENIRQCWY8ULW0BFAIxUzEZzPEUB2iczJYc4RQBp6uWwnzRFAgGr1+ezLEUCM3HtxssoRQJVQSNN3yRFAZEVWHz3IEUA0OKFVAscRQK+kJHbHxRFA8ATcgIzEEUCA0cJ1UcMRQFiB1FQWwhFA3YkMHtvAEUDhXmbRn78RQKFy3W5kvhFAyDVt9ii9EUBpFxFo7bsRQACFxMOxuhFAdeqCCXa5EUAWskc5OrgRQJhEDlP+thFAFwnSVsK1EUAWZY5EhrQRQHq8PhxKsxFAkHHe3Q2yEUAG5WiJ0bARQOx12R6VrxFAtoErnliuEUA4ZFoHHK0RQKZ3YVrfqxFAlBQ8l6KqEUD0keW9ZakRQBZFWc4oqBFAqIGSyOumEUCzmYysrqURQJvdQnpxpBFAIpywMTSjEUBgItHS9qERQMe7n125oBFAIrIX0nufEUCTTTQwPp4RQJPU8HcAnRFA8ItIqcKbEUDMtjbEhJoRQKGWtshGmRFAN2vDtgiYEUCtcliOypYRQHHpcE+MlRFAQgoI+k2UEUAvDhmOD5MRQJcsnwvRkRFAKJuVcpKQEUDajffCU48RQPY2wPwUjhFADcfqH9aMEUD+bHIsl4sRQO5VUiJYihFAUK2FARmJEUDcnAfK2YcRQJJM03uahhFAuuLjFluFEUDhgzSbG4QRQNlSwAjcghFAuHCCX5yBEUDW/HWfXIARQM8UlsgcfxFAf9Td2tx9EUAFVkjWnHwRQL6x0LpcexFARP5xiBx6EUByUCc/3HgRQGC7696bdxFAX1C6Z1t2EUD/Ho7ZGnURQAg1YjTacxFAfZ4xeJlyEUCXZfekWHERQMuSrroXcBFAwSxSudZuEUBZON2glW0RQKe4SnFUbBFA866VKhNrEUC6GrnM0WkRQKn5r1eQaBFAoEd1y05nEUCv/gMoDWYRQBQXV23LZBFAP4dpm4ljEUDLQzayR2IRQIA/uLEFYRFAVGvqmcNfEUBmtsdqgV4RQP4NSyQ/XRFAkF1vxvxbEUC3ji9RuloRQDOJhsR3WRFA7zJvIDVYEUD3b+Rk8lYRQH0i4ZGvVRFA1ipgp2xUEUB7Z1ylKVMRQAW10IvmURFALu63WqNQEUDQ6wwSYE8RQOKEyrEcThFAfI7rOdlMEUDQ22qqlUsRQC0+QwNSShFA/IRvRA5JEUDAfeptykcRQBb0rn+GRhFAsbG3eUJFEUBefv9b/kMRQPwfgSa6QhFAglo32XVBEUD67xx0MUARQICgLPfsPhFAQyphYqg9EUCDSbW1YzwRQJG4I/EeOxFAyi+nFNo5EUCcZToglTgRQIEO2BNQNxFA/9x67wo2EUCmgR2zxTQRQBKrul6AMxFA5QVN8joyEUDMPM9t9TARQHr4O9GvLxFApt+NHGouEUAPl79PJC0RQHbBy2reKxFAn/+sbZgqEUBP8F1YUikRQE0w2SoMKBFAYFoZ5cUmEUBMBxmHfyURQNTN0hA5JBFAt0JBgvIiEUCx+F7bqyERQHaAJhxlIBFAtGiSRB4fEUAUPp1U1x0RQDGLQUyQHBFAo9h5K0kbEUDxrEDyARoRQJuMkKC6GBFAEPpjNnMXEUCzdbWzKxYRQNl9fxjkFBFAxI68ZJwTEUCmImeYVBIRQKCxebMMERFAvrHutcQPEUD3lsCffA4RQC3T6XA0DRFALdZkKewLEUCpDSzJowoRQD3lOVBbCRFAaMaIvhIIEUCQGBMUygYRQP5A01CBBRFA3qLDdDgEEUA9n95/7wIRQAmVHnKmARFADuF9S10AEUD43fYLFP8QQE/kg7PK/RBAdUofQoH8EECrZMO3N/sQQAeFahTu+RBAe/sOWKT4EEDNFauCWvcQQJ4fOZQQ9hBAX2KzjMb0EEBYJRRsfPMQQKGtVTIy8hBAJj5y3+fwEECjF2Rzne8QQKF4Je5S7hBAep2wTwjtEEBTwP+XvesQQB4ZDcdy6hBAlt3S3CfpEEBBQUvZ3OcQQGp1cLyR5hBAJ6k8hkblEEBRCao2++MQQIjAss2v4hBAK/dQS2ThEEBg036vGOAQQAx5NvrM3hBA0glyK4HdEEAWpStDNdwQQPpnXUHp2hBAWG0BJp3ZEEDIzRHxUNgQQJ2fiKIE1xBA3vZfOrjVEEBO5ZG4a9QQQGN6GB0f0xBASMPtZ9LREEDcyguZhdAQQLCZbLA4zxBABjYKruvNEEDQo96RnswQQK/k41tRyxBA8PcTDATKEECN2miitsgQQCqH3B5pxxBAFPZogRvGEEBCHQjKzcQQQFDws/h/wxBAgGBmDTLCEEC5XBkI5MAQQIXRxuiVvxBAD6lor0e+EEAky/hb+bwQQC0dce6quxBANYLLZly6EEDg2gHFDbkQQG8FDgm/txBAvN3pMnC2EEA8PY9CIbUQQPj69zfSsxBAkesdE4OyEEA84frTM7EQQMOriHrkrxBAfhjBBpWuEEBa8p14Ra0QQNABGdD1qxBA6gwsDaaqEEA819AvVqkQQOchATgGqBBAlau2JbamEEB4MOv4ZaUQQExqmLEVpBBATxC4T8WiEEBG10PTdKEQQHhxNTwkoBBAr46GitOeEEA03DC+gp0QQM8ELtcxnBBAx7B31eCaEEDdhQe5j5kQQE4n14E+mBBA0TXgL+2WEECTTxzDm5UQQDkQhTtKlBBA3hAUmfiSEEAP6MLbppEQQMspiwNVkBBAhGdmEAOPEEAaME4CsY0QQNsPPNlejBBAgZAplQyLEEAzORA2uokQQICO6btniBBAYBKvJhWHEEAzRFp2woUQQLug5KpvhBBAIaJHxByDEEDvv3zCyYEQQBFvfaV2gBBA0CFDbSN/EEDVR8cZ0H0QQCZOA6t8fBBAI5/wICl7EECGooh71XkQQGC9xLqBeBBAGlKe3i13EEBxwA7n2XUQQHZlD9SFdBBAi5uZpTFzEEBluqZb3XEQQAUXMPaIcBBAugMvdTRvEEAi0JzY320QQCLJciCLbBBA6TiqTDZrEEDtZjxd4WkQQOuXIlKMaBBA4g1WKzdnEEAVCNDo4WUQQAnDiYqMZBBAgXh8EDdjEEB/X6F64WEQQECs8ciLYBBAPpBm+zVfEEAqOvkR4F0QQO3VogyKXBBAqIxc6zNbEECwhB+u3VkQQInh5FSHWBBA7sOl3zBXEEDGSVtO2lUQQCiO/qCDVBBAVKmI1yxTEEC5sPLx1VEQQO22NfB+UBBArstK0idPEEDe+yqY0E0QQIlRz0F5TBBA1tMwzyFLEEASh0hAykkQQKhsD5VySBBAIIN+zRpHEEAfxo7pwkUQQGMuOelqRBBAxLF2zBJDEEAwQ0CTukEQQKzSjj1iQBBATk1bywk/EEA/nZ48sT0QQLipUZFYPBBAAldtyf86EEBwhurkpjkQQGIWwuNNOBBAQeLsxfQ2EEB9wmOLmzUQQI2MHzRCNBBA6xIZwOgyEEAUJUkvjzEQQIWPqIE1MBBAuhswt9suEEAtkNjPgS0QQFOwmssnLBBAmjxvqs0qEEBp8k5scykQQByMMhEZKBBAA8ESmb4mEEBhRegDZCUQQGvKq1EJJBBARP5Vgq4iEED5i9+VUyEQQIgbQYz4HxBA1FFzZZ0eEECr0G4hQh0QQL02LMDmGxBAoR+kQYsaEEDPI8+lLxkQQKDYpezTFxBAS9AgFngWEEDjmTgiHBUQQFfB5RDAExBAbs8g4mMSEEDHSeKVBxEQQNWyIiyrDxBA34napE4OEED9SgIA8gwQQBdvkj2VCxBA42uDXTgKEEDhs81f2wgQQFy2aUR+BxBAaN9PCyEGEEDdl3i0wwQQQFhF3D9mAxBAOEpzrQgCEECbBTb9qgAQQMCmOV6a/g9APxhAht77D0BcCnByIvkPQC8huiJm9g9AP/oOl6nzD0B4LF/P7PAPQDFIm8sv7g9AG9ezi3LrD0BJXJkPtegPQCVUPFf35Q9AbzSNYjnjD0A2bHwxe+APQNlj+sO83Q9A/Hz3Gf7aD0CLEmQzP9gPQLJ4MBCA1Q9A2fxMsMDSD0Cj5akTAdAPQONyNzpBzQ9AoN3lI4HKD0ANWKXQwMcPQIUNZkAAxQ9AhCIYcz/CD0CstKtofr8PQLTaECG9vA9Ab6Q3nPu5D0DAGhDaObcPQJ4/itp3tA9ABQ6WnbWxD0D6eSMj864PQIdwImswrA9Ar9eCdW2pD0BzjjRCqqYPQMdsJ9Hmow9AkUNLIiOhD0Cl3I81X54PQL365Aqbmw9Aelk6otaYD0BbrX/7EZYPQLqjpBZNkw9AyuKY84eQD0CPCUySwo0PQNyvrfL8ig9ATmatFDeID0BHtjr4cIUPQOshRZ2qgg9AFyS8A+R/D0BlMI8rHX0PQB+zrRRWeg9APhEHv453D0BoqIoqx3QPQObOJ1f/cQ9ApNPNRDdvD0Ar/mvzbmwPQJuO8WKmaQ9Aqb1Nk91mD0CYvG+EFGQPQDW1RjZLYQ9A1MnBqIFeD0BIFdDbt1sPQOWqYM/tWA9AcZZigyNWD0Ap3MT3WFMPQLZ4diyOUA9ALWFmIcNND0AFg4PW90oPQBjEvEssSA9AmgIBgWBFD0AUFT92lEIPQGXKZSvIPw9As+ljoPs8D0BxMijVLjoPQFRcoclhNw9ATxe+fZQ0D0CNC23xxjEPQHLZnCT5Lg9AjBk8FyssD0CYXDnJXCkPQHgrgzqOJg9ALgcIa78jD0DYaLZa8CAPQKzBfAkhHg9A8npJd1EbD0D99QqkgRgPQCqMr4+xFQ9A144lOuESD0BiR1ujEBAPQCD3Pss/DQ9AW9e+sW4KD0BJGclWnQcPQAzmS7rLBA9AqV413PkBD0AFnHO8J/8OQN2u9FpV/A5AxZ+mt4L5DkAdb3fSr/YOQBUVVavc8w5Am4EtQgnxDkBinO6WNe4OQNZEhqlh6w5AF1LieY3oDkD2kvAHueUOQO3NnlPk4g5AHsHaXA/gDkBIIpIjOt0OQMaesqdk2g5Ah9sp6Y7XDkAKdeXnuNQOQFj/0qPi0Q5AAAbgHAzPDkAODPpSNcwOQAmMDkZeyQ5A7PcK9obGDkAhudxir8MOQHswcYzXwA5AMLa1cv+9DkDVmZcVJ7sOQFYiBHVOuA5A9I3okHW1DkA7EjJpnLIOQADczf3Crw5AWA+pTumsDkCYx7BbD6oOQEYX0iQ1pw5AHgj6qVqkDkAEmxXrf6EOQADIEeikng5APX7boMmbDkD+o18V7pgOQJkWi0USlg5Ac6pKMTaTDkD5KovYWZAOQJpaOTt9jQ5AwfJBWaCKDkDQo5Eyw4cOQBoVFcflhA5A2+S4FgiCDkA1qGkhKn8OQCjrE+dLfA5AizCkZ215DkAL8gajjnYOQB6gKJmvcw5ABKL1SdBwDkC4VVq18G0OQPUPQ9sQaw5AJhycuzBoDkBnvFFWUGUOQHcpUKtvYg5AvJKDuo5fDkAzHtiDrVwOQHHoOQfMWQ5AmASVROpWDkBUfNU7CFQOQNFP5+wlUQ5AuHW2V0NODkAp2y58YEsOQLFjPFp9SA5AR+nK8ZlFDkBDPMZCtkIOQFwjGk3SPw5Am1uyEO48DkBamHqNCToOQDuDXsMkNw5AIrxJsj80DkAu2SdaWjEOQLVm5Lp0Lg5AOOdq1I4rDkBj06amqCgOQACagzHCJQ5A9p/sdNsiDkBAQM1w9B8OQOPLECUNHQ5A7YmikSUaDkBrt222PRcOQGOHXZNVFA5AzCJdKG0RDkCLqFd1hA4OQGUtOHqbCw5AArzpNrIIDkDcVFeryAUOQD/ua9feAg5AQHQSu/T/DUC0yDVWCv0NQC/DwKgf+g1A9DCesjT3DUD31LhzSfQNQM9n++td8Q1AtJdQG3LuDUB0CKMBhusNQG5T3Z6Z6A1AjAfq8qzlDUA5qbP9v+INQFqyJL/S3w1AS5InN+XcDUDRraZl99kNQBlfjEoJ1w1ArfXC5RrUDUButjQ3LNENQI3byz49zg1AgpRy/E3LDUAGBhNwXsgNQAtKl5luxQ1At2/peH7CDUBWe/MNjr8NQF1mn1idvA1AVR/XWKy5DUDhiYQOu7YNQKx+kXnJsw1AacvnmdewDUDFMnFv5a0NQGRsF/ryqg1A1yTEOQCoDUCV/WAuDaUNQPWM19cZog1AIV4RNiafDUAT8fdIMpwNQI66dBA+mQ1AESRxjEmWDUDUi9a8VJMNQL1EjqFfkA1AWZaBOmqNDUDXvJmHdIoNQPvov4h+hw1AF0DdPYiEDUAJ3NqmkYENQCjLocOafg1ASRAblKN7DUCpoi8YrHgNQPJtyE+0dQ1AKVLOOrxyDUCrIyrZw28NQCGrxCrLbA1AfaWGL9JpDUDtw1jn2GYNQNWrI1LfYw1AxvbPb+VgDUBzMkZA610NQK/gbsPwWg1AXncy+fVXDUBxYHnh+lQNQNr5K3z/UQ1AiJUyyQNPDUBXeXXIB0wNQBLf3HkLSQ1AXvRQ3Q5GDUC92rnyEUMNQHyn/7kUQA1As2MKMxc9DUAyDMJdGToNQIGRDjobNw1A1NfXxxw0DUABtwUHHjENQHn6f/ceLg1APmEumR8rDUDbnfjrHygNQFhWxu8fJQ1ANyR/pB8iDUBjlAoKHx8NQDAnUCAeHA1ASVA35xwZDUCudqdeGxYNQKb0h4YZEw1AuBfAXhcQDUChIDfnFA0NQEtD1B8SCg1AxqZ+CA8HDUA4ZR2hCwQNQN6Ll+kHAQ1A9xrU4QP+DEDEBbqJ//oMQHcyMOH69wxAMXod6PX0DEDzqGie8PEMQJZ9+APr7gxAwKmzGOXrDEDe0YDc3ugMQBiNRk/Y5QxARmXrcNHiDEDo1lVByt8MQBtRbMDC3AxAkzUV7rrZDECJ2DbKstYMQLyAt1Sq0wxAW2d9jaHQDEAIuG50mM0MQMCQcQmPygxA3wFsTIXHDEAJDkQ9e8QMQCuq39twwQxAaL0kKGa+DEAVIfkhW7sMQKqgQslPuAxAvPnmHUS1DEDv28sfOLIMQPDo1s4rrwxAZbTtKh+sDEDmw/UzEqkMQPWO1OkEpgxA635vTPeiDED47qtb6Z8MQBEsbxfbnAxA6XSef8yZDEDi+R6UvZYMQAnd1VSukwxABjKowZ6QDEAS/nrajo0MQO03M59+igxA1ce1D26HDEB3h+crXYQMQOdBrfNLgQxAlLPrZjp+DEA9ioeFKHsMQOdkZU8WeAxAz9NpxAN1DEBjWHnk8HEMQDJleK/dbgxA5V1LJcprDEAyl9ZFtmgMQM9W/hCiZQxAa9Omho1iDECcNLSmeF8MQNySCnFjXAxAdPeN5U1ZDEB5XCIEOFYMQLqsq8whUwxAucMNPwtQDECcbSxb9EwMQCRn6yDdSQxAnl0ukMVGDEDa7tiorUMMQB2pzmqVQAxAGgvz1Xw9DEDcgynqYzoMQMRyVadKNwxAeidaDTE0DEDe4RocFzEMQP7RetP8LQxAChhdM+IqDEBJxKQ7xycMQAfXNOyrJAxAk0DwRJAhDEAm4blFdB4MQOGIdO5XGwxAvPcCPzsYDEB43Uc3HhUMQJfZJdcAEgxASXt/HuMODEBpQTcNxQsMQGOaL6OmCAxANuRK4IcFDEBYbGvEaAIMQLlvc09J/wtAphpFgSn8C0DKiMJZCfkLQBfFzdjo9QtAwMlI/sfyC0AmgBXKpu8LQM7AFTyF7AtAVFMrVGPpC0Bc7jcSQeYLQIg3HXYe4wtAZMO8f/vfC0BhFfgu2NwLQL+fsIO02QtAicPHfZDWC0B80B4dbNMLQAUFl2FH0AtAKY4RSyLNC0CAh2/Z/MkLQB/7kQzXxgtAk+FZ5LDDC0DJIahgisALQAmRXYFjvQtA4/JaRjy6C0Ah+YCvFLcLQL1DsLzsswtAzGDJbcSwC0B2zKzCm60LQOTwOrtyqgtAMyZUV0mnC0BlstiWH6QLQFTJqHn1oAtAoIyk/8qdC0CkC6wooJoLQGZDn/R0lwtAhx5eY0mUC0A2dch0HZELQCINvijxjQtAZpkef8SKC0CAusl3l4cLQED+nhJqhAtAtt99TzyBC0Apx0UuDn4LQP4J1q7fegtAtuoN0bB3C0DSmMyUgXQLQMow8flRcQtA/rtaACJuC0CkMOin8WoLQLlxePDAZwtA807q2Y9kC0CthBxkXmELQN277Y4sXgtAAIo8WvpaC0ALcefFx1cLQFzfzNGUVAtAqi/LfWFRC0DyqMDJLU4LQGp+i7X5SgtAcc8JQcVHC0B7pxlskEQLQAX+mDZbQQtAgLZloCU+C0BHoF2p7zoLQIV2XlG5NwtALuBFmII0C0Dob/F9SzELQP2jPgIULgtASeYKJdwqC0ApjDPmoycLQGvWlUVrJAtAOvEOQzIhC0AT9Hve+B0LQKzhuRe/GgtA6qel7oQXC0DHHxxjShQLQEwN+nQPEQtAdR8cJNQNC0Ak8F5wmAoLQBEEn1lcBwtAs8q43x8EC0A0nogC4wALQFzD6sGl/QpAfWm7HWj6CkBnqtYVKvcKQFGKGKrr8wpAxvdc2qzwCkCYy3+mbe0KQMjIXA4u6gpAeJzPEe7mCkDV3bOwreMKQAcO5eps4ApAHJg+wCvdCkD40Jsw6tkKQD/31zuo1gpARTPO4WXTCkD7llkiI9AKQNgdVf3fzApAyqybcpzJCkAhEgiCWMYKQHwFdSsUwwpAtie9bs+/CkDTArtLirwKQOkJScJEuQpAEplB0v61CkBS9X57uLIKQIlM271xrwpAW7UwmSqsCkAeL1kN46gKQMWhLhqbpQpAzd2Kv1KiCkAonEf9CZ8KQCZ+PtPAmwpAZw1JQXeYCkDBu0BHLZUKQC3j/uTikQpAscVcGpiOCkBRjTPnTIsKQO9LXEsBiApAQ/uvRrWECkC9fAfZaIEKQHGZOwIcfgpABgIlws56CkCdTpwYgXcKQL3+eQUzdApAOnmWiORwCkAnDMqhlW0KQLjs7FBGagpAMzfXlfZmCkDS7mBwpmMKQLj9YeBVYApA0DSy5QRdCkC/SymAs1kKQMfgnq9hVgpAtnjqcw9TCkDOfuPMvE8KQKxEYbppTApANAI7PBZJCkB51UdSwkUKQKjCXvxtQgpA7bNWOhk/CkBgeQYMxDsKQOrIRHFuOApAND7oaRg1CkCHWsf1wTEKQLuEuBRrLgpAHAmSxhMrCkBWGSoLvCcKQFjMVuJjJApAPh7uSwshCkA+8MVHsh0KQIcItNVYGgpAMBKO9f4WCkAanSmnpBMKQN8dXOpJEApAsO36vu4MCkBDStskkwkKQLhV0hs3BgpAgha1o9oCCkBId1i8ff8JQNVGkWUg/AlA9zc0n8L4CUBm4RVpZPUJQLO9CsMF8glAIivnrKbuCUCca38mR+sJQIqkpy/n5wlAxt4zyIbkCUB3BvjvJeEJQP/qx6bE3QlA2T537GLaCUCHl9nAANcJQG9twiOe0wlAxxsFFTvQCUB04HSU18wJQPjb5KFzyQlATBEoPQ/GCUDLZRFmqsIJQBmhcxxFvwlAAG0hYN+7CUBdVe0webgJQP3HqY4StQlAhRQpeauxCUBVbD3wQ64JQG3iuPPbqglAT2ttg3OnCUDl3CyfCqQJQGHuyEahoAlAIzgTejedCUCcM904zZkJQDE7+IJilglAHYo1WPeSCUBVPGa4i48JQGpOW6MfjAlAa53lGLOICUDL5tUYRoUJQDvI/KLYgQlAl78qt2p+CUDAKjBV/HoJQIJH3XyNdwlAcTMCLh50CUDQ625ornAJQHBN8ys+bQlAkhRfeM1pCUDF3IFNXGYJQMwgK6vqYglAeToqkXhfCUCXYk7/BVwJQL6wZvWSWAlAPRtCcx9VCUD3dq94q1EJQEN3fQU3TglAzK16GcJKCUBwinW0TEcJQCJbPNbWQwlAyEudfmBACUAZZmat6TwJQH2RZWJyOQlA75Jonfo1CUDVDD1egjIJQOh+sKQJLwlACkaQcJArCUAonKnBFigJQBeYyZecJAlAeC298iEhCUCJLFHSph0JQBJCUjYrGglAM/eMHq8WCUBRsc2KMhMJQOex4Hq1DwlAaRaS7jcMCUAe2K3luQgJQP7L/187BQlAkaJTXbwBCUDG53TdPP4IQNMCL+C8+ghADjZNZTz3CEDPnppsu/MIQEM14vU58AhATMzuALjsCEBeEYuNNekIQFeMgZuy5QhAW5+cKi/iCECthqY6q94IQI5Yacsm2whADwWv3KHXCED4VUFuHNQIQJXu6X+W0AhAlktyERDNCEDowqMiickIQI+DR7MBxghAfpUmw3nCCEBw2QlS8b4IQL4Iul9ouwhAQLX/6963CEAeSaP2VLQIQKkGbX/KsAhAMgglhj+tCEDrP5MKtKkIQLJ3fwwopghA7lCxi5uiCEBoRPCHDp8IQB+iAwGBmwhAIZGy9vKXCEBgD8RoZJQIQIfx/lbVkAhA0uIpwUWNCEDnZAuntYkIQKfPaQglhghAAlEL5ZOCCEDQ7LU8An8IQKt8Lw9wewhAtq89XN13CEB/CqYjSnQIQMvmLWW2cAhAbXOaICJtCEAgtLBVjWkIQEyBNQT4ZQhA6IftK2JiCEBFSZ3My14IQOcaCeY0WwhATyb1d51XCEDXaCWCBVQIQH2zXQRtUAhAvaph/tNMCEBYxvRvOkkIQDBR2ligRQhAE2nVuAVCCECN/qiPaj4IQL7UF93OOghAIoHkoDI3CEBpa9HalTMIQEDNoIr4LwhAK7IUsFosCEBK9+5KvCgIQCxL8VodJQhAoS3d330hCECJ73PZ3R0IQJqydkc9GghAO2mmKZwWCEBH1sN/+hIIQOGMj0lYDwhAQvDJhrULCECBMzM3EggIQGVZi1puBAhALjSS8MkACEBnZQf5JP0HQKtdqnN/+QdAdlw6YNn1B0Dsb3a+MvIHQK10HY6L7gdAlhXuzuPqB0CRy6aAO+cHQF3dBaOS4wdAXV/JNenfB0BdM684P9wHQFwIdauU2AdAV1rYjenUB0AScpbfPdEHQOJkbKCRzQdAcBQX0OTJB0CHLlNuN8YHQNcs3XqJwgdAw1Rx9dq+B0Ait8vdK7sHQAcwqDN8twdAiGbC9suzB0CKzNUmG7AHQHyencNprAdAJePUzLeoB0BmazZCBaUHQP/RfCNSoQdAV3ticJ6dB0A7laEo6pkHQKUW9Es1lgdAfr8T2n+SB0BoGLrSyY4HQHZyoDUTiwdA9eZ/AlyHB0AtVxE5pIMHQChsDdnrfwdAa5Ys4jJ8B0C8DSdUeXgHQOLQtC6/dAdAZaWNcQRxB0BUF2kcSW0HQPl4/i6NaQdApeIEqdBlB0BkMjOKE2IHQMgLQNJVXgdAm9fhgJdaB0Clw86V2FYHQGfCvBAZUwdA2oph8VhPB0AomHI3mEsHQG4ppeLWRwdAckGu8hREB0BjpkJnUkAHQJbhFkCPPAdAOz/ffMs4B0Adzk8dBzUHQFdfHCFCMQdAFob4h3wtB0BIl5dRtikHQF6prH3vJQdA/pPqCygiB0DA7wP8Xx4HQOQVq02XGgdABiCSAM4WB0Db52oUBBMHQOIG54g5DwdAINa3XW4LB0DQbY6SogcHQBmlGyfWAwdAxBEQGwkAB0D2BxxuO/wGQNiZ7x9t+AZAVJc6MJ70BkDBjayezvAGQKDH9Gr+7AZAQ0zClC3pBkCC38MbXOUGQG8BqP+J4QZACO4cQLfdBkDfnNDc49kGQNPAcNUP1gZAuMeqKTvSBkAK2ivZZc4GQJ/aoOOPygZATGa2SLnGBkCW0xgI4sIGQGEydCEKvwZAnkt0lDG7BkDxoMRgWLcGQF9sEIZ+swZA+Z8CBKSvBkCM5UXayKsGQD6ehAjtpwZAROJojhCkBkCEgJxrM6AGQD7+yJ9VnAZAuZaXKneYBkDhOrELmJQGQPaQvkK4kAZALfRnz9eMBkBcdFWx9ogGQJXVLugUhQZA1Y+bczKBBkCezkJTT30GQKdwy4ZreQZAcgfcDYd1BkD21hrooXEGQD7VLRW8bQZACaq6lNVpBkBxrmZm7mUGQITs1okGYgZA4x6w/h1eBkBmsJbENFoGQLq7LttKVgZA+AocQmBSBkBIFwL5dE4GQHwIhP+ISgZArLREVZxGBkDPn+b5rkIGQFn7C+3APgZA0KVWLtI6BkBqKmi94jYGQKfA4ZnyMgZA4EtkwwEvBkDnWpA5ECsGQJonBvwdJwZAfJZlCisjBkBGNk5kNx8GQH0/XwlDGwZABpQ3+U0XBkDBvnUzWBMGQAzzt7dhDwZAYQychWoLBkDljb+ccgcGQPShv/x5AwZAuhk5pYD/BUC2bMiVhvsFQFK4Cc6L9wVAa7+YTZDzBUDk6RAUlO8FQCxEDSGX6wVAy34odJnnBUDu7fwMm+MFQPWIJOub3wVA8ek4DpzbBUA4TdN1m9cFQOSQjCGa0wVAYzT9EJjPBUDzV71DlcsFQDC8ZLmRxwVAkMGKcY3DBUDvZ8ZriL8FQBBOrqeCuwVAGbHYJHy3BUAbbNvidLMFQI/3S+FsrwVA2mi/H2SrBUDEccqdWqcFQP9fAVtQowVAmRz4VkWfBUCJK0KROZsFQBWrcgktlwVAYFMcvx+TBUDVddGxEY8FQKr8I+ECiwVAUmqlTPOGBUD22Obz4oIFQOv5eNbRfgVAIxXs8796BUCqCNBLrXYFQBFItN2ZcgVA5NsnqYVuBUAXYbmtcGoFQIEI9+paZgVAPpZuYERiBUAmYa0NLV4FQDhSQPIUWgVABOSzDfxVBUAgIpRf4lEFQIOobOfHTQVA/KLIpKxJBUCSzDKXkEUFQPRuNb5zQQVA1WFaGVY9BUBWCiuoNzkFQG1aMGoYNQVAR9DyXvgwBUCmdfqF1ywFQEXfzt61KAVAOCz3aJMkBUBKBfojcCAFQF+cXQ9MHAVAyKunKicYBUCndV11ARQFQEDDA+/aDwVAYeQel7MLBUCqrjJtiwcFQOt8wnBiAwVAei5RoTj/BECKJmH+DfsEQHhLdIfi9gRAIAYMPLbyBEAvQakbie4EQHFozCVb6gRAI2j1WSzmBEA4rKO3/OEEQK8fVj7M3QRA1CuL7ZrZBECTt8DEaNUEQLgmdMM10QRAOFki6QHNBEB4qkc1zcgEQJPwX6eXxARAlnvmPmHABEDHFFb7KbwEQOL9KNzxtwRAW/DY4LizBECZHN8If68EQDEptFNEqwRAITLQwAinBEAJyKpPzKIEQGfvuv+OngRAxx930FCaBED4QlXBEZYEQEG0ytHRkQRAmD9MAZGNBEDJIE5PT4kEQKcCRLsMhQRAPf6gRMmABED6mdfqhHwEQNTIWa0/eARAd+mYi/lzBEBrxQWFsm8EQDOQEJlqawRAf+YoxyFnBEA9zb0O2GIEQMSwPW+NXgRA8GMW6EFaBEBBH7V49VUEQPJ/hiCoUQRAF4f23llNBECxmHCzCkkEQMp6X526RARAg1QtnGlABEAsrUOvFzwEQFFrC9bENwRAytPsD3EzBEDNiE9cHC8EQPOImrrGKgRARC40KnAmBEA+LYKqGCIEQOKT6TrAHQRAq8jO2mYZBECbiZWJDBUEQDTroEaxEARAf1dTEVUMBED9jA7p9wcEQKqdM82ZAwRA8u0ivTr/A0CkMzy42voDQO903r159gNASgdozRfyA0BrjjbmtO0DQC77pgdR6QNAjooVMezkA0B9xN1hhuADQNh6Wpkf3ANARsjl1rfXA0AjD9kZT9MDQFb4jGHlzgNANXJZrXrKA0Bkr5X8DsYDQKklmE6iwQNAyoy2ojS9A0Be3UX4xbgDQKBPmk5WtANAP1oHpeWvA0A0sd/6c6sDQIJEdU8BpwNABz8Zoo2iA0A/BRzyGJ4DQA40zT6jmQNAep97hyyVA0BxUXXLtJADQH2IBwo8jANAjbZ+QsKHA0CcfyZ0R4MDQG+4SZ7LfgNARWUywE56A0CGuCnZ0HUDQHMReOhRcQNAyfpk7dFsA0BvKTfnUGgDQBR7NNXOYwNA2vShtktfA0DnwcOKx1oDQA4y3VBCVgNAW7gwCLxRA0C56f+vNE0DQHN7i0esSANA0UETziJEA0CdLtZCmD8DQK5PEqUMOwNAd80E9H82A0B96eku8jEDQN78/FRjLQNAznZ4ZdMoA0AU25VfQiQDQHfAjUKwHwNAOs+XDR0bA0CHv+q/iBYDQOBXvFjzEQNAgmtB11wNA0DP2K06xQgDQK2HNIIsBANA6GcHrZL/AkCNb1e69/oCQDuZVKlb9gJAgOIteb7xAkAhShEpIO0CQG3OK7iA6AJAgWupJeDjAkCNGbVwPt8CQBnLeJib2gJAQGsdnPfVAkDo28p6UtECQPbzpzOszAJAhX3axQTIAkALNIcwXMMCQJDC0XKyvgJAwsHciwe6AkAftsl6W7UCQBMOuT6usAJAECDK1v+rAkCcKBtCUKcCQGdIyX+fogJAVILwju2dAkCCuatuOpkCQE2vFB6GlAJASgFEnNCPAkBBJ1HoGYsCQCpxUgFihgJADgVd5qiBAkD/3ISW7nwCQPfE3BAzeAJAvVh2VHZzAkDEAWJguG4CQPz0rjP5aQJArDBrzThlAkA2eqMsd2ACQO9bY1C0WwJA1CK1N/BWAkBN3KHhKlICQOdTMU1kTQJACRFqeZxIAkCfVFFl00MCQMAW6w8JPwJAWgQ6eD06AkDFfD+dcDUCQGaP+32iMAJANvlsGdMrAkBVIpFuAicCQI4bZHwwIgJA25vgQV0dAkDa/f+9iBgCQEU9uu+yEwJAXvQF1tsOAkBdWdhvAwoCQMo7JbwpBQJA3gHfuU4AAkDSpfZncvsBQDazW8WU9gFANUT80LXxAUDT/sSJ1ewBQCsSoe7z5wFAozN6/hDjAUAcnDi4LN4BQA8FwxpH2QFAs6X+JGDUAUARMM/Vd88BQB/OFiyOygFAth62JqPFAUCmMozEtsABQKWJdgTJuwFARw9R5dm2AUDsF/Zl6bEBQJtdPoX3rAFA4vwAQgSoAUCscRObD6MBQAuUSY8ZngFA+ZR1HSKZAUAV+2dEKZQBQFaf7wIvjwFAuqnZVzOKAUDcjfFBNoUBQJoHAcA3gAFAnxfQ0Dd7AUDp/yRzNnYBQFJAxKUzcQFA+ZJwZy9sAUC16Oq2KWcBQHVl8pIiYgFAo1xE+hldAUBnTZzrD1gBQPTes2UEUwFAxtxCZ/dNAUDWMv/u6EgBQL/pnPvYQwFA2yLOi8c+AUBcFEOetDkBQFwFqjGgNAFAy0mvRIovAUB1Pv3VcioBQONEPORZJQFAO78Sbj8gAUAcDCVyIxsBQFiCFe8FFgFAwGyE4+YQAUDLBRBOxgsBQEdzVC2kBgFA6MHrf4ABAUDf4G1EW/wAQFadcHk09wBA8J2HHQzyAEAmXkQv4uwAQKspNq225wBAvBfqlYniAEBhBuvnWt0AQKqVwaEq2ABAzCL0wfjSAEBFwwZHxc0AQOc/ey+QyABA3g/ReVnDAECVU4UkIb4AQKTPEi7nuABAoufxlKuzAEDwmJhXbq4AQGh1enQvqQBADp4I6u6jAEClvbG2rJ4AQDwD4thomQBAqxwDTyOUAED3MHwX3I4AQLHasTCTiQBAQiIGmUiEAEAmeNhO/H4AQBCvhVCueQBABfZnnF50AEBl0tYwDW8AQOUZJwy6aQBAZ+yqLGVkAEDYrbGQDl8AQOv/hza2WQBAxLt3HFxUAECh68dAAE8AQFDEvKGiSQBArJ6XPUNEAEAB8ZYS4j4AQFtI9h5/OQBAuEHuYBo0AEAxg7TWsy4AQAy1e35LKQBAvnpzVuEjAEDDa8hcdR4AQHwMpI8HGQBA48Ys7ZcTAEA044VzJg4AQH+AzyCzCABAFY0m8z0DAEDnfUnRjfv/Pw8Ywf6b8P8/y0Taaqbl/z+3wLQRrdr/P+mYae+vz/8/wRoLAK/E/z+Tw6Q/qrn/P/gvO6qhrv8/FgvMO5Wj/z+Y/U3whJj/P4qcsMNwjf8/1lfcsViC/z+waLK2PHf/P7y/DM4cbP8/8vK98/hg/z9kK5Ej0VX/P5sSSlmlSv8/6L+kkHU//z9YpVXFQTT/P4d8CfMJKf8/EDNlFc4d/z/b1gUojhL/PyCCgCZKB/8/NkdiDAL8/j/8GzDVtfD+PyXFZnxl5f4/MsF6/RDa/j8YM9hTuM7+P8TM4npbw/4/I7n1bfq3/j8PhmMolaz+P9oNdqUrof4/nWBu4L2V/j8jrYTUS4r+P50p6HzVfv4/+vu+1Fpz/j8CIibX22f+P/tYMX9YXP4/HQXrx9BQ/j+iGFSsREX+P4P6Yye0Of4/7GwINB8u/j8vcyXNhSL+P5A3le3nFv4/i/AnkEUL/j/qxaOvnv/9P0K1xEbz8/0/QnY8UEPo/T+GXrLGjtz9PyJFw6TV0P0/lGUB5RfF/T+HQvSBVbn9Pw+IGHaOrf0/fO3fu8Kh/T/YFrFN8pX9P8915yUdiv0/SSrTPkN+/T9/4riSZHL9P7m60RuBZv0/YBxL1Jha/T/RnEa2q079P47b2bu5Qv0/F2AO38I2/T8Zd+EZxyr9Pz8PRGbGHv0/cpUavsAS/T+V0Dwbtgb9P8i8dXem+vw//GWDzJHu/D8hwhYUeOL8P7KK00dZ1vw/vhVQYTXK/D8+LhVaDL78P/nrnSvesfw/ropXz6ql/D/MQKE+cpn8P04VzHI0jfw/LLUaZfGA/D8DSMEOqXT8PzpE5WhbaPw/QkKdbAhc/D9iz/ASsE/8P64/2FRSQ/w/Tn88K+82/D8l4/aOhir8P4z40HgYHvw/dVSE4aQR/D+7YbrBKwX8P7wuDBKt+Ps//TkCyyjs+z8uPhTlnt/7Pz79qFgP0/s/tAoWHnrG+z/+lJ8t37n7Pw8ueH8+rfs/AJPAC5ig+z/NcofK65P7PzU0ybM5h/s/frpvv4F6+z9yKVLlw237P0OoNB0AYfs/hiPIXjZU+z/+DaqhZkf7P48gZN2QOvs/9xhsCbUt+z+ZdyMd0yD7P/s71w/rE/s/SqC/2PwG+z+q0/9uCPr6P0yzpckN7fo/c4Kp3wzg+j8Koe2nBdP6PyZBPhn4xfo/JRtRKuS4+j+iIMXRyav6P9ktIgapnvo/5LnYvYGR+j9zhUHvU4T6PztInZAfd/o/vVwUmORp+j+7arb7olz6Px4QerFaT/o/SIg8rwtC+j/jUcHqtTT6P/DSsVlZJ/o/Ufuc8fUZ+j+Q5faniwz6PwF2GHIa//k/9Pc+RaLx+T9MuYsWI+T5PxSkA9uc1vk/YNaOhw/J+T8DOPgQe7v5P3sO7Wvfrfk/xY78jDyg+T84bZdokpL5Pw9rD/PghPk//uGWICh3+T99TUDlZ2n5P8bR/TSgW/k/osCgA9FN+T+jG9lE+j/5PyQUNewbMvk/q4gg7TUk+T/mf+Q6SBb5P9KgpshSCPk/b6hoiVX6+D+c3AdwUOz4P0N8PG9D3vg/cCyZeS7Q+D+4YoqBEcL4P3fMVXnss/g/BbMZU7+l+D/RXMwAipf4PxdrO3RMifg/cTQLnwZ7+D/nG7ZyuGz4P5vki+BhXvg/uwGx2QJQ+D/r4h1Pm0H4P+A8njErM/g/L07QcbIk+D/+HyQAMRb4P9nC2symB/g/PIcFyBP59z/gMYXhd+r3P7wrCQnT2/c/Ta0OLiXN9z+A5d8/br73P60bky2ur/c/48wJ5uSg9z/zw+9XEpL3P5IsunE2g/c/F6GmIVF09z/iMrpVYmX3PwdtwPtpVvc/clFKAWhH9z8GUK1TXDj3P703AuBGKfc/nyEkkyca9z8nVa9Z/gr3P0QmACDL+/Y/fcwx0o3s9j89Mx1cRt32P7/CV6n0zfY/2yEypZi+9j8W8LY6Mq/2Pw54qVTBn/Y/nlmE3UWQ9j8DLHi/v4D2P1QXauQucfY/Q2XyNZNh9j/oCFud7FH2PwwdngM7QvY/GllkUX4y9j8GfANvtiL2PyqtfETjEvY/c9J6uQQD9j/s21C1GvP1P/0D+B4l4/U/VgQO3SPT9T+0PtPVFsP1P6bZKO/9svU/h9CODtmi9T+X9iEZqJL1P1TsmfNqgvU/MQdHgiFy9T/LKhCpy2H1P0qTcEtpUfU/jpB1TPpA9T9BMbyOfjD1P9PdbvT1H/U/W+JCX2AP9T8e53Wwvf70P8pWy8gN7vQ/KrKJiFDd9D9i0HfPhcz0P0AL2nytu/Q/llZvb8eq9D9WQm6F05n0P1bmgZzRiPQ/DrfGkcF39D+VQsdBo2b0P7HUeIh2VfQ/fwE4QTtE9D9tFcVG8TL0P89pQHOYIfQ/pZwmoDAQ9D//qkymuf7zP4Ds210z7fM/Hu9Nnp3b8z97MWg++MnzPyO7NxRDuPM/55AM9X2m8z8VBHW1qJTzP0TbOCnDgvM/u1JUI81w8z9m8/J1xl7zP0Q+avKuTPM/1io0aYY68z9VdumpTCjzP0LCO4MBFvM/43/vwqQD8z/YptU1NvHyPzA0xae13vI/GnCU4yLM8j9v9xGzfbnyP4+G/d7FpvI/BoMAL/uT8j+8QKZpHYHyPywAVFQsbvI/GaJAsydb8j+9DWxJD0jyP3pFltjiNPI/+iY2IaIh8j9Q0m/iTA7yP3i0Ctri+vE/RzBnxGPn8T/v4XNcz9PxP8F3olslwPE/OhvceWWs8T8sZXVtj5jxP9DWIeuihPE/WNLmpZ9w8T8oDA5PhVzxP0puF5ZTSPE/hGaqKAo08T8ImIayqB/xPzPoc90uC/E/Q94xUZz28D9STGaz8OHwP7Y4i6crzfA/3vzbzky48D9Lj0HIU6PwP3XsPTBAjvA/5ZLWoBF58D/iBH6xx2PwP9NB/PZhTvA/fChWA+A48D+esbNlQSPwP5TyRKqFDfA/FqpLtFjv7z+S4YD2acPvP/LjWyA+l+8/juwrMNRq7z9lkBgdKz7vP2u+2dZBEe8/BhFsRRfk7j+NNsFIqrbuP7MvbLj5iO4/UR9JYwRb7j+dYSAPySzuP72ZRHhG/u0/oGArUXvP7T+qNgBCZqDtPyBUMegFce0//en11VhB7T8yXs2RXRHtP+4B95US4ew/erfhT3aw7D8t75Ifh3/sPzlYBFdDTuw//pB3Oakc7D/AE7/6turrP8CKe75quOs/daFMl8KF6z9EVfSFvFLrPwWta3hWH+s/nqXnSI7r6j/JAc28YbfqPwCMkYPOguo/YzGJNdJN6j9VNJ1SahjqP1qE60CU4uk/ZhZMS02s6T/F2rmfknXpP9qrnE1hPuk/b0XxQ7YG6T+t/EtPjs7oP3iSshfmleg/bAhJHrpc6D8o5cy6BiPoP3TC2RjI6Oc/hV7xNPqt5z/nqUDZmHLnPz11GpqfNuc/cGUf0gn65j8Ktwme0rzmPzAHEtj0fuY/pdTgEmtA5j9+pP6TLwHmPyygsk08weU/pBQ92IqA5T+nVlhqFD/lP3Yr59DR/OQ/McizZbu55D8arB0FyXXkPxTSjgLyMOQ/cMiJGy3r4z/f2RlpcKTjP+dIZE+xXOM/EjANa+QT4z82XhN8/cniP52zs03vfuI/FizNmqsy4j/PiyHuIuXhP6rnqX1EluE/LawHAP5F4T+XPt96O/TgP5KonAjnoOA/Wgy/k+hL4D+pnokKS+rfP5XYScYAOd8/YY+ytbCD3j9ZYIRlEcrdPx5Y8jbQC90/LpKXr49I3D9l4Hpd5X/bPzjmNSxXsdo/5tUk+lfc2T/LFTonQwDZP488XLZWHNg/NEWaZqsv1z9VHZbVKTnWP7KWOy97N9U/oiw69/Io1D+K1suxbQvTP4YlSL0c3NE/2ODHfjCX0D/eG/l8g27OP/BvMepjaMs/yZ5KA4QByD/L48Df1gjEP0jJB505Gb4/Of3CrS+6rD8AAAAAAAD4/wAAAAAAAPj/AAAAAAAA+P8AAAAAAAD4/wAAAAAAAPj/AAAAAAAA+P8AAAAAAAD4/wAAAAAAAPj/AAAAAAAA+P8AAAAAAAD4/wAAAAAAAPj/AAAAAAAA+P8AAAAAAAD4/wAAAAAAAPj/AAAAAAAA+P8AAAAAAAD4/wAAAAAAAPj/AAAAAAAA+P8AAAAAAAD4/wAAAAAAAPj/AAAAAAAA+P8AAAAAAAD4/wAAAAAAAPj/AAAAAAAA+P8AAAAAAAD4/wAAAAAAAPj/AAAAAAAA+P8AAAAAAAD4/wAAAAAAAPj/AAAAAAAA+P8AAAAAAAD4/wAAAAAAAPj/AAAAAAAA+P8AAAAAAAD4/wAAAAAAAPj/AAAAAAAA+P8AAAAAAAD4/wAAAAAAAPj/AAAAAAAA+P8AAAAAAAD4/wAAAAAAAPj/AAAAAAAA+P8AAAAAAAD4/wAAAAAAAPj/AAAAAAAA+P8AAAAAAAD4/wAAAAAAAPj/AAAAAAAA+P8AAAAAAAD4/wAAAAAAAPj/AAAAAAAA+P8AAAAAAAD4/wAAAAAAAPj/AAAAAAAA+P8AAAAAAAD4/wAAAAAAAPj/AAAAAAAA+P8AAAAAAAD4/wAAAAAAAPj/AAAAAAAA+P8AAAAAAAD4/wAAAAAAAPj/AAAAAAAA+P8AAAAAAAD4/wAAAAAAAPj/AAAAAAAA+P8AAAAAAAD4/wAAAAAAAPj/AAAAAAAA+P8AAAAAAAD4/wAAAAAAAPj/AAAAAAAA+P8AAAAAAAD4/wAAAAAAAPj/AAAAAAAA+P8AAAAAAAD4/wAAAAAAAPj/AAAAAAAA+P8AAAAAAAD4/wAAAAAAAPj/AAAAAAAA+P8AAAAAAAD4/wAAAAAAAPj/AAAAAAAA+P8AAAAAAAD4/wAAAAAAAPj/AAAAAAAA+P8AAAAAAAD4/wAAAAAAAPj/AAAAAAAA+P8AAAAAAAD4/wAAAAAAAPj/AAAAAAAA+P8AAAAAAAD4/wAAAAAAAPj/AAAAAAAA+P8AAAAAAAD4/wAAAAAAAPj/AAAAAAAA+P8AAAAAAAD4/wAAAAAAAPj/AAAAAAAA+P8AAAAAAAD4/wAAAAAAAPj/AAAAAAAA+P8AAAAAAAD4/wAAAAAAAPj/AAAAAAAA+P8AAAAAAAD4/wAAAAAAAPj/AAAAAAAA+P8AAAAAAAD4/wAAAAAAAPj/AAAAAAAA+P8AAAAAAAD4/wAAAAAAAPj/AAAAAAAA+P8AAAAAAAD4/wAAAAAAAPj/AAAAAAAA+P8AAAAAAAD4/wAAAAAAAPj/AAAAAAAA+P8AAAAAAAD4/wAAAAAAAPj/AAAAAAAA+P8AAAAAAAD4/wAAAAAAAPj/AAAAAAAA+P8AAAAAAAD4/wAAAAAAAPj/AAAAAAAA+P8AAAAAAAD4/wAAAAAAAPj/AAAAAAAA+P8AAAAAAAD4/wAAAAAAAPj/AAAAAAAA+P8AAAAAAAD4/wAAAAAAAPj/AAAAAAAA+P8AAAAAAAD4/wAAAAAAAPj/AAAAAAAA+P8AAAAAAAD4/wAAAAAAAPj/AAAAAAAA+P8AAAAAAAD4/wAAAAAAAPj/AAAAAAAA+P8AAAAAAAD4/wAAAAAAAPj/AAAAAAAA+P8AAAAAAAD4/wAAAAAAAPj/AAAAAAAA+P8AAAAAAAD4/wAAAAAAAPj/AAAAAAAA+P8AAAAAAAD4/wAAAAAAAPj/AAAAAAAA+P8AAAAAAAD4/wAAAAAAAPj/AAAAAAAA+P8AAAAAAAD4/wAAAAAAAPj/AAAAAAAA+P8AAAAAAAD4/wAAAAAAAPj/AAAAAAAA+P8AAAAAAAD4/wAAAAAAAPj/AAAAAAAA+P8AAAAAAAD4/wAAAAAAAPj/AAAAAAAA+P8AAAAAAAD4/wAAAAAAAPj/AAAAAAAA+P8AAAAAAAD4/wAAAAAAAPj/AAAAAAAA+P8AAAAAAAD4/wAAAAAAAPj/AAAAAAAA+P8AAAAAAAD4/wAAAAAAAPj/AAAAAAAA+P8AAAAAAAD4/wAAAAAAAPj/AAAAAAAA+P8AAAAAAAD4/wAAAAAAAPj/AAAAAAAA+P8AAAAAAAD4/wAAAAAAAPj/AAAAAAAA+P8AAAAAAAD4/wAAAAAAAPj/AAAAAAAA+P8AAAAAAAD4/wAAAAAAAPj/AAAAAAAA+P8AAAAAAAD4/wAAAAAAAPj/AAAAAAAA+P8AAAAAAAD4/wAAAAAAAPj/AAAAAAAA+P8AAAAAAAD4/wAAAAAAAPj/AAAAAAAA+P8AAAAAAAD4/wAAAAAAAPj/AAAAAAAA+P8AAAAAAAD4/wAAAAAAAPj/AAAAAAAA+P8AAAAAAAD4/wAAAAAAAPj/AAAAAAAA+P8AAAAAAAD4/wAAAAAAAPj/AAAAAAAA+P8AAAAAAAD4/wAAAAAAAPj/AAAAAAAA+P8AAAAAAAD4/wAAAAAAAPj/AAAAAAAA+P8AAAAAAAD4/wAAAAAAAPj/AAAAAAAA+P8AAAAAAAD4/wAAAAAAAPj/AAAAAAAA+P8AAAAAAAD4/wAAAAAAAPj/AAAAAAAA+P8AAAAAAAD4/wAAAAAAAPj/AAAAAAAA+P8AAAAAAAD4/wAAAAAAAPj/AAAAAAAA+P8AAAAAAAD4/wAAAAAAAPj/AAAAAAAA+P8AAAAAAAD4/wAAAAAAAPj/AAAAAAAA+P8AAAAAAAD4/wAAAAAAAPj/AAAAAAAA+P8AAAAAAAD4/wAAAAAAAPj/AAAAAAAA+P8AAAAAAAD4/wAAAAAAAPj/AAAAAAAA+P8AAAAAAAD4/wAAAAAAAPj/AAAAAAAA+P8AAAAAAAD4/wAAAAAAAPj/AAAAAAAA+P8AAAAAAAD4/wAAAAAAAPj/AAAAAAAA+P8AAAAAAAD4/wAAAAAAAPj/AAAAAAAA+P8AAAAAAAD4/wAAAAAAAPj/AAAAAAAA+P8AAAAAAAD4/wAAAAAAAPj/AAAAAAAA+P8AAAAAAAD4/wAAAAAAAPj/AAAAAAAA+P8AAAAAAAD4/wAAAAAAAPj/AAAAAAAA+P8AAAAAAAD4/wAAAAAAAPj/AAAAAAAA+P8AAAAAAAD4/wAAAAAAAPj/AAAAAAAA+P8AAAAAAAD4/wAAAAAAAPj/AAAAAAAA+P8AAAAAAAD4/wAAAAAAAPj/AAAAAAAA+P8AAAAAAAD4/wAAAAAAAPj/AAAAAAAA+P8AAAAAAAD4/wAAAAAAAPj/AAAAAAAA+P8AAAAAAAD4/wAAAAAAAPj/AAAAAAAA+P8AAAAAAAD4/wAAAAAAAPj/AAAAAAAA+P8AAAAAAAD4/wAAAAAAAPj/AAAAAAAA+P8AAAAAAAD4/wAAAAAAAPj/AAAAAAAA+P8AAAAAAAD4/wAAAAAAAPj/AAAAAAAA+P8AAAAAAAD4/wAAAAAAAPj/AAAAAAAA+P8AAAAAAAD4/wAAAAAAAPj/AAAAAAAA+P8AAAAAAAD4/wAAAAAAAPj/AAAAAAAA+P8AAAAAAAD4/wAAAAAAAPj/AAAAAAAA+P8AAAAAAAD4/wAAAAAAAPj/AAAAAAAA+P8AAAAAAAD4/wAAAAAAAPj/AAAAAAAA+P8AAAAAAAD4/wAAAAAAAPj/AAAAAAAA+P8AAAAAAAD4/wAAAAAAAPj/AAAAAAAA+P8AAAAAAAD4/wAAAAAAAPj/AAAAAAAA+P8AAAAAAAD4/wAAAAAAAPj/AAAAAAAA+P8AAAAAAAD4/wAAAAAAAPj/AAAAAAAA+P8AAAAAAAD4/wAAAAAAAPj/AAAAAAAA+P8AAAAAAAD4/wAAAAAAAPj/AAAAAAAA+P8AAAAAAAD4/wAAAAAAAPj/AAAAAAAA+P8AAAAAAAD4/wAAAAAAAPj/AAAAAAAA+P8AAAAAAAD4/wAAAAAAAPj/AAAAAAAA+P8AAAAAAAD4/wAAAAAAAPj/AAAAAAAA+P8AAAAAAAD4/wAAAAAAAPj/AAAAAAAA+P8AAAAAAAD4/wAAAAAAAPj/AAAAAAAA+P8AAAAAAAD4/wAAAAAAAPj/AAAAAAAA+P8AAAAAAAD4/wAAAAAAAPj/AAAAAAAA+P8AAAAAAAD4/wAAAAAAAPj/AAAAAAAA+P8AAAAAAAD4/wAAAAAAAPj/AAAAAAAA+P8AAAAAAAD4/wAAAAAAAPj/AAAAAAAA+P8AAAAAAAD4/wAAAAAAAPj/AAAAAAAA+P8AAAAAAAD4/wAAAAAAAPj/AAAAAAAA+P8AAAAAAAD4/wAAAAAAAPj/AAAAAAAA+P8AAAAAAAD4/wAAAAAAAPj/AAAAAAAA+P8AAAAAAAD4/wAAAAAAAPj/AAAAAAAA+P8AAAAAAAD4/wAAAAAAAPj/AAAAAAAA+P8AAAAAAAD4/wAAAAAAAPj/AAAAAAAA+P8AAAAAAAD4/wAAAAAAAPj/AAAAAAAA+P8AAAAAAAD4/wAAAAAAAPj/AAAAAAAA+P8AAAAAAAD4/wAAAAAAAPj/AAAAAAAA+P8AAAAAAAD4/wAAAAAAAPj/AAAAAAAA+P8AAAAAAAD4/wAAAAAAAPj/AAAAAAAA+P8AAAAAAAD4/wAAAAAAAPj/AAAAAAAA+P8AAAAAAAD4/wAAAAAAAPj/AAAAAAAA+P8AAAAAAAD4/wAAAAAAAPj/AAAAAAAA+P8AAAAAAAD4/wAAAAAAAPj/AAAAAAAA+P8AAAAAAAD4/wAAAAAAAPj/AAAAAAAA+P8AAAAAAAD4/wAAAAAAAPj/AAAAAAAA+P8AAAAAAAD4/wAAAAAAAPj/AAAAAAAA+P8AAAAAAAD4/wAAAAAAAPj/AAAAAAAA+P8AAAAAAAD4/wAAAAAAAPj/AAAAAAAA+P8AAAAAAAD4/wAAAAAAAPj/AAAAAAAA+P8AAAAAAAD4/wAAAAAAAPj/AAAAAAAA+P8AAAAAAAD4/wAAAAAAAPj/AAAAAAAA+P8AAAAAAAD4/wAAAAAAAPj/AAAAAAAA+P8AAAAAAAD4/wAAAAAAAPj/AAAAAAAA+P8AAAAAAAD4/wAAAAAAAPj/AAAAAAAA+P8AAAAAAAD4/wAAAAAAAPj/AAAAAAAA+P8AAAAAAAD4/wAAAAAAAPj/AAAAAAAA+P8AAAAAAAD4/wAAAAAAAPj/AAAAAAAA+P8AAAAAAAD4/wAAAAAAAPj/AAAAAAAA+P8AAAAAAAD4/wAAAAAAAPj/AAAAAAAA+P8AAAAAAAD4/wAAAAAAAPj/AAAAAAAA+P8AAAAAAAD4/wAAAAAAAPj/AAAAAAAA+P8AAAAAAAD4/wAAAAAAAPj/AAAAAAAA+P8AAAAAAAD4/wAAAAAAAPj/AAAAAAAA+P8AAAAAAAD4/wAAAAAAAPj/AAAAAAAA+P8AAAAAAAD4/wAAAAAAAPj/AAAAAAAA+P8AAAAAAAD4/wAAAAAAAPj/AAAAAAAA+P8AAAAAAAD4/wAAAAAAAPj/AAAAAAAA+P8AAAAAAAD4/wAAAAAAAPj/AAAAAAAA+P8AAAAAAAD4/wAAAAAAAPj/AAAAAAAA+P8AAAAAAAD4/wAAAAAAAPj/AAAAAAAA+P8AAAAAAAD4/wAAAAAAAPj/AAAAAAAA+P8AAAAAAAD4/wAAAAAAAPj/AAAAAAAA+P8AAAAAAAD4/wAAAAAAAPj/AAAAAAAA+P8AAAAAAAD4/wAAAAAAAPj/AAAAAAAA+P8AAAAAAAD4/wAAAAAAAPj/AAAAAAAA+P8AAAAAAAD4/wAAAAAAAPj/AAAAAAAA+P8AAAAAAAD4/wAAAAAAAPj/AAAAAAAA+P8AAAAAAAD4/wAAAAAAAPj/AAAAAAAA+P8AAAAAAAD4/wAAAAAAAPj/AAAAAAAA+P8AAAAAAAD4/wAAAAAAAPj/AAAAAAAA+P8AAAAAAAD4/wAAAAAAAPj/AAAAAAAA+P8AAAAAAAD4/wAAAAAAAPj/AAAAAAAA+P8AAAAAAAD4/wAAAAAAAPj/AAAAAAAA+P8AAAAAAAD4/wAAAAAAAPj/AAAAAAAA+P8AAAAAAAD4/wAAAAAAAPj/AAAAAAAA+P8AAAAAAAD4/wAAAAAAAPj/AAAAAAAA+P8AAAAAAAD4/wAAAAAAAPj/AAAAAAAA+P8AAAAAAAD4/wAAAAAAAPj/AAAAAAAA+P8AAAAAAAD4/wAAAAAAAPj/AAAAAAAA+P8AAAAAAAD4/wAAAAAAAPj/AAAAAAAA+P8AAAAAAAD4/wAAAAAAAPj/AAAAAAAA+P8AAAAAAAD4/wAAAAAAAPj/AAAAAAAA+P8AAAAAAAD4/wAAAAAAAPj/AAAAAAAA+P8AAAAAAAD4/wAAAAAAAPj/AAAAAAAA+P8AAAAAAAD4/wAAAAAAAPj/AAAAAAAA+P8AAAAAAAD4/wAAAAAAAPj/AAAAAAAA+P8AAAAAAAD4/wAAAAAAAPj/AAAAAAAA+P8AAAAAAAD4/wAAAAAAAPj/AAAAAAAA+P8AAAAAAAD4/wAAAAAAAPj/AAAAAAAA+P8AAAAAAAD4/wAAAAAAAPj/AAAAAAAA+P8AAAAAAAD4/wAAAAAAAPj/AAAAAAAA+P8AAAAAAAD4/wAAAAAAAPj/AAAAAAAA+P8AAAAAAAD4/wAAAAAAAPj/AAAAAAAA+P8AAAAAAAD4/wAAAAAAAPj/AAAAAAAA+P8AAAAAAAD4/wAAAAAAAPj/AAAAAAAA+P8AAAAAAAD4/wAAAAAAAPj/AAAAAAAA+P8AAAAAAAD4/wAAAAAAAPj/AAAAAAAA+P8AAAAAAAD4/wAAAAAAAPj/AAAAAAAA+P8AAAAAAAD4/wAAAAAAAPj/AAAAAAAA+P8AAAAAAAD4/wAAAAAAAPj/AAAAAAAA+P8AAAAAAAD4/wAAAAAAAPj/AAAAAAAA+P8AAAAAAAD4/wAAAAAAAPj/AAAAAAAA+P8AAAAAAAD4/wAAAAAAAPj/AAAAAAAA+P8AAAAAAAD4/wAAAAAAAPj/AAAAAAAA+P8AAAAAAAD4/wAAAAAAAPj/AAAAAAAA+P8AAAAAAAD4/wAAAAAAAPj/AAAAAAAA+P8AAAAAAAD4/wAAAAAAAPj/AAAAAAAA+P8AAAAAAAD4/wAAAAAAAPj/AAAAAAAA+P8AAAAAAAD4/wAAAAAAAPj/AAAAAAAA+P8AAAAAAAD4/wAAAAAAAPj/AAAAAAAA+P8AAAAAAAD4/wAAAAAAAPj/AAAAAAAA+P8AAAAAAAD4/wAAAAAAAPj/AAAAAAAA+P8AAAAAAAD4/wAAAAAAAPj/AAAAAAAA+P8AAAAAAAD4/wAAAAAAAPj/AAAAAAAA+P8AAAAAAAD4/wAAAAAAAPj/AAAAAAAA+P8AAAAAAAD4/wAAAAAAAPj/AAAAAAAA+P8AAAAAAAD4/wAAAAAAAPj/AAAAAAAA+P8AAAAAAAD4/wAAAAAAAPj/AAAAAAAA+P8AAAAAAAD4/wAAAAAAAPj/AAAAAAAA+P8AAAAAAAD4/wAAAAAAAPj/AAAAAAAA+P8AAAAAAAD4/wAAAAAAAPj/AAAAAAAA+P8AAAAAAAD4/wAAAAAAAPj/AAAAAAAA+P8AAAAAAAD4/wAAAAAAAPj/AAAAAAAA+P8AAAAAAAD4/wAAAAAAAPj/AAAAAAAA+P8AAAAAAAD4/wAAAAAAAPj/AAAAAAAA+P8AAAAAAAD4/wAAAAAAAPj/AAAAAAAA+P8AAAAAAAD4/wAAAAAAAPj/AAAAAAAA+P8AAAAAAAD4/wAAAAAAAPj/AAAAAAAA+P8AAAAAAAD4/wAAAAAAAPj/AAAAAAAA+P8AAAAAAAD4/wAAAAAAAPj/AAAAAAAA+P8AAAAAAAD4/wAAAAAAAPj/AAAAAAAA+P8AAAAAAAD4/wAAAAAAAPj/AAAAAAAA+P8AAAAAAAD4/wAAAAAAAPj/AAAAAAAA+P8AAAAAAAD4/wAAAAAAAPj/AAAAAAAA+P8AAAAAAAD4/wAAAAAAAPj/AAAAAAAA+P8AAAAAAAD4/wAAAAAAAPj/AAAAAAAA+P8AAAAAAAD4/wAAAAAAAPj/AAAAAAAA+P8AAAAAAAD4/wAAAAAAAPj/AAAAAAAA+P8AAAAAAAD4/wAAAAAAAPj/AAAAAAAA+P8AAAAAAAD4/wAAAAAAAPj/AAAAAAAA+P8AAAAAAAD4/wAAAAAAAPj/AAAAAAAA+P8AAAAAAAD4/wAAAAAAAPj/AAAAAAAA+P8AAAAAAAD4/wAAAAAAAPj/AAAAAAAA+P8AAAAAAAD4/wAAAAAAAPj/AAAAAAAA+P8AAAAAAAD4/wAAAAAAAPj/AAAAAAAA+P8AAAAAAAD4/wAAAAAAAPj/AAAAAAAA+P8AAAAAAAD4/wAAAAAAAPj/AAAAAAAA+P8AAAAAAAD4/wAAAAAAAPj/AAAAAAAA+P8AAAAAAAD4/wAAAAAAAPj/AAAAAAAA+P8AAAAAAAD4/wAAAAAAAPj/AAAAAAAA+P8AAAAAAAD4/wAAAAAAAPj/AAAAAAAA+P8AAAAAAAD4/wAAAAAAAPj/AAAAAAAA+P8AAAAAAAD4/wAAAAAAAPj/AAAAAAAA+P8AAAAAAAD4/wAAAAAAAPj/AAAAAAAA+P8AAAAAAAD4/wAAAAAAAPj/AAAAAAAA+P8AAAAAAAD4/wAAAAAAAPj/AAAAAAAA+P8AAAAAAAD4/wAAAAAAAPj/AAAAAAAA+P8AAAAAAAD4/wAAAAAAAPj/AAAAAAAA+P8AAAAAAAD4/wAAAAAAAPj/AAAAAAAA+P8AAAAAAAD4/wAAAAAAAPj/AAAAAAAA+P8AAAAAAAD4/wAAAAAAAPj/AAAAAAAA+P8AAAAAAAD4/wAAAAAAAPj/AAAAAAAA+P8AAAAAAAD4/wAAAAAAAPj/AAAAAAAA+P8AAAAAAAD4/wAAAAAAAPj/AAAAAAAA+P8AAAAAAAD4/wAAAAAAAPj/AAAAAAAA+P8AAAAAAAD4/wAAAAAAAPj/AAAAAAAA+P8AAAAAAAD4/wAAAAAAAPj/AAAAAAAA+P8AAAAAAAD4/wAAAAAAAPj/AAAAAAAA+P8AAAAAAAD4/wAAAAAAAPj/AAAAAAAA+P8AAAAAAAD4/wAAAAAAAPj/AAAAAAAA+P8AAAAAAAD4/wAAAAAAAPj/AAAAAAAA+P8AAAAAAAD4/wAAAAAAAPj/AAAAAAAA+P8AAAAAAAD4/wAAAAAAAPj/AAAAAAAA+P8AAAAAAAD4/wAAAAAAAPj/AAAAAAAA+P8AAAAAAAD4/wAAAAAAAPj/AAAAAAAA+P8AAAAAAAD4/wAAAAAAAPj/AAAAAAAA+P8AAAAAAAD4/wAAAAAAAPj/AAAAAAAA+P8AAAAAAAD4/wAAAAAAAPj/AAAAAAAA+P8AAAAAAAD4/wAAAAAAAPj/AAAAAAAA+P8AAAAAAAD4/wAAAAAAAPj/AAAAAAAA+P8AAAAAAAD4/wAAAAAAAPj/AAAAAAAA+P8AAAAAAAD4/wAAAAAAAPj/AAAAAAAA+P8AAAAAAAD4/wAAAAAAAPj/AAAAAAAA+P8AAAAAAAD4/wAAAAAAAPj/AAAAAAAA+P8AAAAAAAD4/wAAAAAAAPj/AAAAAAAA+P8AAAAAAAD4/wAAAAAAAPj/AAAAAAAA+P8AAAAAAAD4/wAAAAAAAPj/AAAAAAAA+P8AAAAAAAD4/wAAAAAAAPj/AAAAAAAA+P8AAAAAAAD4/wAAAAAAAPj/AAAAAAAA+P8AAAAAAAD4/wAAAAAAAPj/AAAAAAAA+P8AAAAAAAD4/wAAAAAAAPj/AAAAAAAA+P8AAAAAAAD4/wAAAAAAAPj/AAAAAAAA+P8AAAAAAAD4/wAAAAAAAPj/AAAAAAAA+P8AAAAAAAD4/wAAAAAAAPj/AAAAAAAA+P8AAAAAAAD4/wAAAAAAAPj/AAAAAAAA+P8AAAAAAAD4/wAAAAAAAPj/AAAAAAAA+P8AAAAAAAD4/wAAAAAAAPj/AAAAAAAA+P8AAAAAAAD4/wAAAAAAAPj/AAAAAAAA+P8AAAAAAAD4/wAAAAAAAPj/AAAAAAAA+P8AAAAAAAD4/wAAAAAAAPj/AAAAAAAA+P8AAAAAAAD4/wAAAAAAAPj/AAAAAAAA+P8AAAAAAAD4/wAAAAAAAPj/AAAAAAAA+P8AAAAAAAD4/wAAAAAAAPj/AAAAAAAA+P8AAAAAAAD4/wAAAAAAAPj/AAAAAAAA+P8AAAAAAAD4/wAAAAAAAPj/AAAAAAAA+P8AAAAAAAD4/wAAAAAAAPj/AAAAAAAA+P8AAAAAAAD4/wAAAAAAAPj/AAAAAAAA+P8AAAAAAAD4/wAAAAAAAPj/AAAAAAAA+P8AAAAAAAD4/wAAAAAAAPj/AAAAAAAA+P8AAAAAAAD4/wAAAAAAAPj/AAAAAAAA+P8AAAAAAAD4/wAAAAAAAPj/AAAAAAAA+P8AAAAAAAD4/wAAAAAAAPj/AAAAAAAA+P8AAAAAAAD4/wAAAAAAAPj/AAAAAAAA+P8AAAAAAAD4/wAAAAAAAPj/AAAAAAAA+P8AAAAAAAD4/wAAAAAAAPj/AAAAAAAA+P8AAAAAAAD4/wAAAAAAAPj/AAAAAAAA+P8AAAAAAAD4/wAAAAAAAPj/AAAAAAAA+P8AAAAAAAD4/wAAAAAAAPj/AAAAAAAA+P8AAAAAAAD4/wAAAAAAAPj/AAAAAAAA+P8AAAAAAAD4/wAAAAAAAPj/AAAAAAAA+P8AAAAAAAD4/wAAAAAAAPj/AAAAAAAA+P8AAAAAAAD4/wAAAAAAAPj/AAAAAAAA+P8AAAAAAAD4/wAAAAAAAPj/AAAAAAAA+P8AAAAAAAD4/wAAAAAAAPj/AAAAAAAA+P8AAAAAAAD4/wAAAAAAAPj/AAAAAAAA+P8AAAAAAAD4/wAAAAAAAPj/AAAAAAAA+P8AAAAAAAD4/wAAAAAAAPj/AAAAAAAA+P8AAAAAAAD4/wAAAAAAAPj/AAAAAAAA+P8AAAAAAAD4/wAAAAAAAPj/AAAAAAAA+P8AAAAAAAD4/wAAAAAAAPj/AAAAAAAA+P8AAAAAAAD4/wAAAAAAAPj/AAAAAAAA+P8AAAAAAAD4/wAAAAAAAPj/AAAAAAAA+P8AAAAAAAD4/wAAAAAAAPj/AAAAAAAA+P8AAAAAAAD4/wAAAAAAAPj/AAAAAAAA+P8AAAAAAAD4/wAAAAAAAPj/AAAAAAAA+P8AAAAAAAD4/wAAAAAAAPj/AAAAAAAA+P8AAAAAAAD4/wAAAAAAAPj/AAAAAAAA+P8AAAAAAAD4/wAAAAAAAPj/AAAAAAAA+P8AAAAAAAD4/wAAAAAAAPj/AAAAAAAA+P8AAAAAAAD4/wAAAAAAAPj/AAAAAAAA+P8AAAAAAAD4/wAAAAAAAPj/AAAAAAAA+P8AAAAAAAD4/wAAAAAAAPj/AAAAAAAA+P8AAAAAAAD4/wAAAAAAAPj/AAAAAAAA+P8AAAAAAAD4/wAAAAAAAPj/AAAAAAAA+P8AAAAAAAD4/wAAAAAAAPj/AAAAAAAA+P8AAAAAAAD4/wAAAAAAAPj/AAAAAAAA+P8AAAAAAAD4/wAAAAAAAPj/AAAAAAAA+P8AAAAAAAD4/wAAAAAAAPj/AAAAAAAA+P8AAAAAAAD4/wAAAAAAAPj/AAAAAAAA+P8AAAAAAAD4/wAAAAAAAPj/AAAAAAAA+P8AAAAAAAD4/wAAAAAAAPj/AAAAAAAA+P8AAAAAAAD4/wAAAAAAAPj/AAAAAAAA+P8AAAAAAAD4/wAAAAAAAPj/AAAAAAAA+P8AAAAAAAD4/wAAAAAAAPj/AAAAAAAA+P8AAAAAAAD4/wAAAAAAAPj/AAAAAAAA+P8AAAAAAAD4/wAAAAAAAPj/AAAAAAAA+P8AAAAAAAD4/wAAAAAAAPj/AAAAAAAA+P8AAAAAAAD4/wAAAAAAAPj/AAAAAAAA+P8AAAAAAAD4/wAAAAAAAPj/AAAAAAAA+P8AAAAAAAD4/wAAAAAAAPj/AAAAAAAA+P8AAAAAAAD4/wAAAAAAAPj/AAAAAAAA+P8AAAAAAAD4/wAAAAAAAPj/AAAAAAAA+P8AAAAAAAD4/wAAAAAAAPj/AAAAAAAA+P8AAAAAAAD4/wAAAAAAAPj/AAAAAAAA+P8AAAAAAAD4/wAAAAAAAPj/AAAAAAAA+P8AAAAAAAD4/wAAAAAAAPj/AAAAAAAA+P8AAAAAAAD4/wAAAAAAAPj/AAAAAAAA+P8AAAAAAAD4/wAAAAAAAPj/AAAAAAAA+P8AAAAAAAD4/wAAAAAAAPj/AAAAAAAA+P8AAAAAAAD4/wAAAAAAAPj/AAAAAAAA+P8AAAAAAAD4/wAAAAAAAPj/AAAAAAAA+P8AAAAAAAD4/wAAAAAAAPj/AAAAAAAA+P8AAAAAAAD4/wAAAAAAAPj/AAAAAAAA+P8AAAAAAAD4/wAAAAAAAPj/AAAAAAAA+P8AAAAAAAD4/wAAAAAAAPj/AAAAAAAA+P8AAAAAAAD4/wAAAAAAAPj/AAAAAAAA+P8AAAAAAAD4/wAAAAAAAPj/AAAAAAAA+P8AAAAAAAD4/wAAAAAAAPj/AAAAAAAA+P8AAAAAAAD4/wAAAAAAAPj/AAAAAAAA+P8AAAAAAAD4/wAAAAAAAPj/AAAAAAAA+P8AAAAAAAD4/wAAAAAAAPj/AAAAAAAA+P8AAAAAAAD4/wAAAAAAAPj/AAAAAAAA+P8AAAAAAAD4/wAAAAAAAPj/AAAAAAAA+P8AAAAAAAD4/wAAAAAAAPj/AAAAAAAA+P8AAAAAAAD4/wAAAAAAAPj/AAAAAAAA+P8AAAAAAAD4/wAAAAAAAPj/AAAAAAAA+P8AAAAAAAD4/wAAAAAAAPj/AAAAAAAA+P8AAAAAAAD4/wAAAAAAAPj/AAAAAAAA+P8AAAAAAAD4/wAAAAAAAPj/AAAAAAAA+P8AAAAAAAD4/wAAAAAAAPj/AAAAAAAA+P8AAAAAAAD4/wAAAAAAAPj/AAAAAAAA+P8AAAAAAAD4/wAAAAAAAPj/AAAAAAAA+P8AAAAAAAD4/wAAAAAAAPj/AAAAAAAA+P8AAAAAAAD4/wAAAAAAAPj/AAAAAAAA+P8AAAAAAAD4/wAAAAAAAPj/AAAAAAAA+P8AAAAAAAD4/wAAAAAAAPj/AAAAAAAA+P8AAAAAAAD4/wAAAAAAAPj/AAAAAAAA+P8AAAAAAAD4/wAAAAAAAPj/AAAAAAAA+P8AAAAAAAD4/wAAAAAAAPj/AAAAAAAA+P8AAAAAAAD4/wAAAAAAAPj/AAAAAAAA+P8AAAAAAAD4/wAAAAAAAPj/AAAAAAAA+P8AAAAAAAD4/wAAAAAAAPj/AAAAAAAA+P8AAAAAAAD4/wAAAAAAAPj/AAAAAAAA+P8AAAAAAAD4/wAAAAAAAPj/AAAAAAAA+P8AAAAAAAD4/wAAAAAAAPj/AAAAAAAA+P8AAAAAAAD4/wAAAAAAAPj/AAAAAAAA+P8AAAAAAAD4/wAAAAAAAPj/AAAAAAAA+P8AAAAAAAD4/wAAAAAAAPj/AAAAAAAA+P8AAAAAAAD4/wAAAAAAAPj/AAAAAAAA+P8AAAAAAAD4/wAAAAAAAPj/AAAAAAAA+P8AAAAAAAD4/wAAAAAAAPj/AAAAAAAA+P8AAAAAAAD4/wAAAAAAAPj/AAAAAAAA+P8AAAAAAAD4/wAAAAAAAPj/AAAAAAAA+P8AAAAAAAD4/wAAAAAAAPj/AAAAAAAA+P8AAAAAAAD4/wAAAAAAAPj/AAAAAAAA+P8AAAAAAAD4/wAAAAAAAPj/AAAAAAAA+P8AAAAAAAD4/wAAAAAAAPj/AAAAAAAA+P8AAAAAAAD4/wAAAAAAAPj/AAAAAAAA+P8AAAAAAAD4/wAAAAAAAPj/AAAAAAAA+P8AAAAAAAD4/wAAAAAAAPj/AAAAAAAA+P8AAAAAAAD4/wAAAAAAAPj/AAAAAAAA+P8AAAAAAAD4/wAAAAAAAPj/AAAAAAAA+P8AAAAAAAD4/wAAAAAAAPj/AAAAAAAA+P8AAAAAAAD4/wAAAAAAAPj/AAAAAAAA+P8AAAAAAAD4/wAAAAAAAPj/AAAAAAAA+P8AAAAAAAD4/wAAAAAAAPj/AAAAAAAA+P8AAAAAAAD4/wAAAAAAAPj/AAAAAAAA+P8AAAAAAAD4/wAAAAAAAPj/AAAAAAAA+P8AAAAAAAD4/wAAAAAAAPj/AAAAAAAA+P8AAAAAAAD4/wAAAAAAAPj/AAAAAAAA+P8AAAAAAAD4/wAAAAAAAPj/AAAAAAAA+P8AAAAAAAD4/wAAAAAAAPj/AAAAAAAA+P8AAAAAAAD4/wAAAAAAAPj/AAAAAAAA+P8AAAAAAAD4/wAAAAAAAPj/AAAAAAAA+P8AAAAAAAD4/wAAAAAAAPj/AAAAAAAA+P8AAAAAAAD4/wAAAAAAAPj/AAAAAAAA+P8AAAAAAAD4/wAAAAAAAPj/AAAAAAAA+P8AAAAAAAD4/wAAAAAAAPj/AAAAAAAA+P8AAAAAAAD4/wAAAAAAAPj/AAAAAAAA+P8AAAAAAAD4/wAAAAAAAPj/AAAAAAAA+P8AAAAAAAD4/wAAAAAAAPj/AAAAAAAA+P8AAAAAAAD4/wAAAAAAAPj/AAAAAAAA+P8AAAAAAAD4/wAAAAAAAPj/AAAAAAAA+P8AAAAAAAD4/wAAAAAAAPj/AAAAAAAA+P8AAAAAAAD4/wAAAAAAAPj/AAAAAAAA+P8AAAAAAAD4/wAAAAAAAPj/AAAAAAAA+P8AAAAAAAD4/wAAAAAAAPj/AAAAAAAA+P8AAAAAAAD4/wAAAAAAAPj/AAAAAAAA+P8AAAAAAAD4/wAAAAAAAPj/AAAAAAAA+P8AAAAAAAD4/wAAAAAAAPj/AAAAAAAA+P8AAAAAAAD4/wAAAAAAAPj/AAAAAAAA+P8AAAAAAAD4/wAAAAAAAPj/AAAAAAAA+P8AAAAAAAD4/wAAAAAAAPj/AAAAAAAA+P8AAAAAAAD4/wAAAAAAAPj/AAAAAAAA+P8AAAAAAAD4/wAAAAAAAPj/AAAAAAAA+P8AAAAAAAD4/wAAAAAAAPj/AAAAAAAA+P8AAAAAAAD4/wAAAAAAAPj/AAAAAAAA+P8AAAAAAAD4/wAAAAAAAPj/AAAAAAAA+P8AAAAAAAD4/wAAAAAAAPj/AAAAAAAA+P8AAAAAAAD4/wAAAAAAAPj/AAAAAAAA+P8AAAAAAAD4/wAAAAAAAPj/AAAAAAAA+P8AAAAAAAD4/wAAAAAAAPj/AAAAAAAA+P8AAAAAAAD4/wAAAAAAAPj/AAAAAAAA+P8AAAAAAAD4/wAAAAAAAPj/AAAAAAAA+P8AAAAAAAD4/wAAAAAAAPj/AAAAAAAA+P8AAAAAAAD4/wAAAAAAAPj/AAAAAAAA+P8AAAAAAAD4/wAAAAAAAPj/AAAAAAAA+P8AAAAAAAD4/wAAAAAAAPj/AAAAAAAA+P8AAAAAAAD4/wAAAAAAAPj/AAAAAAAA+P8AAAAAAAD4/wAAAAAAAPj/AAAAAAAA+P8AAAAAAAD4/wAAAAAAAPj/AAAAAAAA+P8AAAAAAAD4/wAAAAAAAPj/AAAAAAAA+P8AAAAAAAD4/wAAAAAAAPj/AAAAAAAA+P8AAAAAAAD4/wAAAAAAAPj/AAAAAAAA+P8AAAAAAAD4/wAAAAAAAPj/AAAAAAAA+P8AAAAAAAD4/wAAAAAAAPj/AAAAAAAA+P8AAAAAAAD4/wAAAAAAAPj/AAAAAAAA+P8AAAAAAAD4/wAAAAAAAPj/AAAAAAAA+P8AAAAAAAD4/wAAAAAAAPj/AAAAAAAA+P8AAAAAAAD4/wAAAAAAAPj/AAAAAAAA+P8AAAAAAAD4/wAAAAAAAPj/AAAAAAAA+P8AAAAAAAD4/wAAAAAAAPj/AAAAAAAA+P8AAAAAAAD4/wAAAAAAAPj/AAAAAAAA+P8AAAAAAAD4/wAAAAAAAPj/AAAAAAAA+P8AAAAAAAD4/wAAAAAAAPj/AAAAAAAA+P8AAAAAAAD4/wAAAAAAAPj/AAAAAAAA+P8AAAAAAAD4/wAAAAAAAPj/AAAAAAAA+P8AAAAAAAD4/wAAAAAAAPj/AAAAAAAA+P8AAAAAAAD4/wAAAAAAAPj/AAAAAAAA+P8AAAAAAAD4/wAAAAAAAPj/AAAAAAAA+P8AAAAAAAD4/wAAAAAAAPj/AAAAAAAA+P8AAAAAAAD4/wAAAAAAAPj/AAAAAAAA+P8AAAAAAAD4/wAAAAAAAPj/AAAAAAAA+P8AAAAAAAD4/wAAAAAAAPj/AAAAAAAA+P8AAAAAAAD4/wAAAAAAAPj/AAAAAAAA+P8AAAAAAAD4/wAAAAAAAPj/AAAAAAAA+P8AAAAAAAD4/wAAAAAAAPj/AAAAAAAA+P8AAAAAAAD4/wAAAAAAAPj/AAAAAAAA+P8AAAAAAAD4/wAAAAAAAPj/AAAAAAAA+P8AAAAAAAD4/wAAAAAAAPj/AAAAAAAA+P8AAAAAAAD4/wAAAAAAAPj/AAAAAAAA+P8AAAAAAAD4/wAAAAAAAPj/AAAAAAAA+P8=",
          "dtype": "f8"
         }
        },
        {
         "line": {
          "color": "black",
          "dash": "dash"
         },
         "mode": "lines",
         "name": "y = x",
         "type": "scatter",
         "x": {
          "bdata": "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",
          "dtype": "f8"
         },
         "y": {
          "bdata": "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",
          "dtype": "f8"
         }
        },
        {
         "line": {
          "color": "green",
          "dash": "dot"
         },
         "mode": "lines",
         "name": "g'(x)",
         "type": "scatter",
         "x": {
          "bdata": "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",
          "dtype": "f8"
         },
         "y": {
          "bdata": "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",
          "dtype": "f8"
         }
        },
        {
         "line": {
          "color": "gray",
          "dash": "dot"
         },
         "mode": "lines",
         "name": "y = -1",
         "type": "scatter",
         "x": [
          -20.2,
          22.489979919597747
         ],
         "y": [
          -1,
          -1
         ]
        },
        {
         "line": {
          "color": "gray",
          "dash": "dot"
         },
         "mode": "lines",
         "name": "y = 1",
         "type": "scatter",
         "x": [
          -20.2,
          22.489979919597747
         ],
         "y": [
          1,
          1
         ]
        },
        {
         "line": {
          "color": "gray"
         },
         "mode": "lines",
         "name": "y = 0",
         "type": "scatter",
         "x": [
          -20.2,
          22.489979919597747
         ],
         "y": [
          0,
          0
         ]
        }
       ],
       "layout": {
        "legend": {
         "title": {
          "text": "Functions"
         }
        },
        "showlegend": true,
        "template": {
         "data": {
          "bar": [
           {
            "error_x": {
             "color": "#2a3f5f"
            },
            "error_y": {
             "color": "#2a3f5f"
            },
            "marker": {
             "line": {
              "color": "#E5ECF6",
              "width": 0.5
             },
             "pattern": {
              "fillmode": "overlay",
              "size": 10,
              "solidity": 0.2
             }
            },
            "type": "bar"
           }
          ],
          "barpolar": [
           {
            "marker": {
             "line": {
              "color": "#E5ECF6",
              "width": 0.5
             },
             "pattern": {
              "fillmode": "overlay",
              "size": 10,
              "solidity": 0.2
             }
            },
            "type": "barpolar"
           }
          ],
          "carpet": [
           {
            "aaxis": {
             "endlinecolor": "#2a3f5f",
             "gridcolor": "white",
             "linecolor": "white",
             "minorgridcolor": "white",
             "startlinecolor": "#2a3f5f"
            },
            "baxis": {
             "endlinecolor": "#2a3f5f",
             "gridcolor": "white",
             "linecolor": "white",
             "minorgridcolor": "white",
             "startlinecolor": "#2a3f5f"
            },
            "type": "carpet"
           }
          ],
          "choropleth": [
           {
            "colorbar": {
             "outlinewidth": 0,
             "ticks": ""
            },
            "type": "choropleth"
           }
          ],
          "contour": [
           {
            "colorbar": {
             "outlinewidth": 0,
             "ticks": ""
            },
            "colorscale": [
             [
              0,
              "#0d0887"
             ],
             [
              0.1111111111111111,
              "#46039f"
             ],
             [
              0.2222222222222222,
              "#7201a8"
             ],
             [
              0.3333333333333333,
              "#9c179e"
             ],
             [
              0.4444444444444444,
              "#bd3786"
             ],
             [
              0.5555555555555556,
              "#d8576b"
             ],
             [
              0.6666666666666666,
              "#ed7953"
             ],
             [
              0.7777777777777778,
              "#fb9f3a"
             ],
             [
              0.8888888888888888,
              "#fdca26"
             ],
             [
              1,
              "#f0f921"
             ]
            ],
            "type": "contour"
           }
          ],
          "contourcarpet": [
           {
            "colorbar": {
             "outlinewidth": 0,
             "ticks": ""
            },
            "type": "contourcarpet"
           }
          ],
          "heatmap": [
           {
            "colorbar": {
             "outlinewidth": 0,
             "ticks": ""
            },
            "colorscale": [
             [
              0,
              "#0d0887"
             ],
             [
              0.1111111111111111,
              "#46039f"
             ],
             [
              0.2222222222222222,
              "#7201a8"
             ],
             [
              0.3333333333333333,
              "#9c179e"
             ],
             [
              0.4444444444444444,
              "#bd3786"
             ],
             [
              0.5555555555555556,
              "#d8576b"
             ],
             [
              0.6666666666666666,
              "#ed7953"
             ],
             [
              0.7777777777777778,
              "#fb9f3a"
             ],
             [
              0.8888888888888888,
              "#fdca26"
             ],
             [
              1,
              "#f0f921"
             ]
            ],
            "type": "heatmap"
           }
          ],
          "histogram": [
           {
            "marker": {
             "pattern": {
              "fillmode": "overlay",
              "size": 10,
              "solidity": 0.2
             }
            },
            "type": "histogram"
           }
          ],
          "histogram2d": [
           {
            "colorbar": {
             "outlinewidth": 0,
             "ticks": ""
            },
            "colorscale": [
             [
              0,
              "#0d0887"
             ],
             [
              0.1111111111111111,
              "#46039f"
             ],
             [
              0.2222222222222222,
              "#7201a8"
             ],
             [
              0.3333333333333333,
              "#9c179e"
             ],
             [
              0.4444444444444444,
              "#bd3786"
             ],
             [
              0.5555555555555556,
              "#d8576b"
             ],
             [
              0.6666666666666666,
              "#ed7953"
             ],
             [
              0.7777777777777778,
              "#fb9f3a"
             ],
             [
              0.8888888888888888,
              "#fdca26"
             ],
             [
              1,
              "#f0f921"
             ]
            ],
            "type": "histogram2d"
           }
          ],
          "histogram2dcontour": [
           {
            "colorbar": {
             "outlinewidth": 0,
             "ticks": ""
            },
            "colorscale": [
             [
              0,
              "#0d0887"
             ],
             [
              0.1111111111111111,
              "#46039f"
             ],
             [
              0.2222222222222222,
              "#7201a8"
             ],
             [
              0.3333333333333333,
              "#9c179e"
             ],
             [
              0.4444444444444444,
              "#bd3786"
             ],
             [
              0.5555555555555556,
              "#d8576b"
             ],
             [
              0.6666666666666666,
              "#ed7953"
             ],
             [
              0.7777777777777778,
              "#fb9f3a"
             ],
             [
              0.8888888888888888,
              "#fdca26"
             ],
             [
              1,
              "#f0f921"
             ]
            ],
            "type": "histogram2dcontour"
           }
          ],
          "mesh3d": [
           {
            "colorbar": {
             "outlinewidth": 0,
             "ticks": ""
            },
            "type": "mesh3d"
           }
          ],
          "parcoords": [
           {
            "line": {
             "colorbar": {
              "outlinewidth": 0,
              "ticks": ""
             }
            },
            "type": "parcoords"
           }
          ],
          "pie": [
           {
            "automargin": true,
            "type": "pie"
           }
          ],
          "scatter": [
           {
            "fillpattern": {
             "fillmode": "overlay",
             "size": 10,
             "solidity": 0.2
            },
            "type": "scatter"
           }
          ],
          "scatter3d": [
           {
            "line": {
             "colorbar": {
              "outlinewidth": 0,
              "ticks": ""
             }
            },
            "marker": {
             "colorbar": {
              "outlinewidth": 0,
              "ticks": ""
             }
            },
            "type": "scatter3d"
           }
          ],
          "scattercarpet": [
           {
            "marker": {
             "colorbar": {
              "outlinewidth": 0,
              "ticks": ""
             }
            },
            "type": "scattercarpet"
           }
          ],
          "scattergeo": [
           {
            "marker": {
             "colorbar": {
              "outlinewidth": 0,
              "ticks": ""
             }
            },
            "type": "scattergeo"
           }
          ],
          "scattergl": [
           {
            "marker": {
             "colorbar": {
              "outlinewidth": 0,
              "ticks": ""
             }
            },
            "type": "scattergl"
           }
          ],
          "scattermap": [
           {
            "marker": {
             "colorbar": {
              "outlinewidth": 0,
              "ticks": ""
             }
            },
            "type": "scattermap"
           }
          ],
          "scattermapbox": [
           {
            "marker": {
             "colorbar": {
              "outlinewidth": 0,
              "ticks": ""
             }
            },
            "type": "scattermapbox"
           }
          ],
          "scatterpolar": [
           {
            "marker": {
             "colorbar": {
              "outlinewidth": 0,
              "ticks": ""
             }
            },
            "type": "scatterpolar"
           }
          ],
          "scatterpolargl": [
           {
            "marker": {
             "colorbar": {
              "outlinewidth": 0,
              "ticks": ""
             }
            },
            "type": "scatterpolargl"
           }
          ],
          "scatterternary": [
           {
            "marker": {
             "colorbar": {
              "outlinewidth": 0,
              "ticks": ""
             }
            },
            "type": "scatterternary"
           }
          ],
          "surface": [
           {
            "colorbar": {
             "outlinewidth": 0,
             "ticks": ""
            },
            "colorscale": [
             [
              0,
              "#0d0887"
             ],
             [
              0.1111111111111111,
              "#46039f"
             ],
             [
              0.2222222222222222,
              "#7201a8"
             ],
             [
              0.3333333333333333,
              "#9c179e"
             ],
             [
              0.4444444444444444,
              "#bd3786"
             ],
             [
              0.5555555555555556,
              "#d8576b"
             ],
             [
              0.6666666666666666,
              "#ed7953"
             ],
             [
              0.7777777777777778,
              "#fb9f3a"
             ],
             [
              0.8888888888888888,
              "#fdca26"
             ],
             [
              1,
              "#f0f921"
             ]
            ],
            "type": "surface"
           }
          ],
          "table": [
           {
            "cells": {
             "fill": {
              "color": "#EBF0F8"
             },
             "line": {
              "color": "white"
             }
            },
            "header": {
             "fill": {
              "color": "#C8D4E3"
             },
             "line": {
              "color": "white"
             }
            },
            "type": "table"
           }
          ]
         },
         "layout": {
          "annotationdefaults": {
           "arrowcolor": "#2a3f5f",
           "arrowhead": 0,
           "arrowwidth": 1
          },
          "autotypenumbers": "strict",
          "coloraxis": {
           "colorbar": {
            "outlinewidth": 0,
            "ticks": ""
           }
          },
          "colorscale": {
           "diverging": [
            [
             0,
             "#8e0152"
            ],
            [
             0.1,
             "#c51b7d"
            ],
            [
             0.2,
             "#de77ae"
            ],
            [
             0.3,
             "#f1b6da"
            ],
            [
             0.4,
             "#fde0ef"
            ],
            [
             0.5,
             "#f7f7f7"
            ],
            [
             0.6,
             "#e6f5d0"
            ],
            [
             0.7,
             "#b8e186"
            ],
            [
             0.8,
             "#7fbc41"
            ],
            [
             0.9,
             "#4d9221"
            ],
            [
             1,
             "#276419"
            ]
           ],
           "sequential": [
            [
             0,
             "#0d0887"
            ],
            [
             0.1111111111111111,
             "#46039f"
            ],
            [
             0.2222222222222222,
             "#7201a8"
            ],
            [
             0.3333333333333333,
             "#9c179e"
            ],
            [
             0.4444444444444444,
             "#bd3786"
            ],
            [
             0.5555555555555556,
             "#d8576b"
            ],
            [
             0.6666666666666666,
             "#ed7953"
            ],
            [
             0.7777777777777778,
             "#fb9f3a"
            ],
            [
             0.8888888888888888,
             "#fdca26"
            ],
            [
             1,
             "#f0f921"
            ]
           ],
           "sequentialminus": [
            [
             0,
             "#0d0887"
            ],
            [
             0.1111111111111111,
             "#46039f"
            ],
            [
             0.2222222222222222,
             "#7201a8"
            ],
            [
             0.3333333333333333,
             "#9c179e"
            ],
            [
             0.4444444444444444,
             "#bd3786"
            ],
            [
             0.5555555555555556,
             "#d8576b"
            ],
            [
             0.6666666666666666,
             "#ed7953"
            ],
            [
             0.7777777777777778,
             "#fb9f3a"
            ],
            [
             0.8888888888888888,
             "#fdca26"
            ],
            [
             1,
             "#f0f921"
            ]
           ]
          },
          "colorway": [
           "#636efa",
           "#EF553B",
           "#00cc96",
           "#ab63fa",
           "#FFA15A",
           "#19d3f3",
           "#FF6692",
           "#B6E880",
           "#FF97FF",
           "#FECB52"
          ],
          "font": {
           "color": "#2a3f5f"
          },
          "geo": {
           "bgcolor": "white",
           "lakecolor": "white",
           "landcolor": "#E5ECF6",
           "showlakes": true,
           "showland": true,
           "subunitcolor": "white"
          },
          "hoverlabel": {
           "align": "left"
          },
          "hovermode": "closest",
          "mapbox": {
           "style": "light"
          },
          "paper_bgcolor": "white",
          "plot_bgcolor": "#E5ECF6",
          "polar": {
           "angularaxis": {
            "gridcolor": "white",
            "linecolor": "white",
            "ticks": ""
           },
           "bgcolor": "#E5ECF6",
           "radialaxis": {
            "gridcolor": "white",
            "linecolor": "white",
            "ticks": ""
           }
          },
          "scene": {
           "xaxis": {
            "backgroundcolor": "#E5ECF6",
            "gridcolor": "white",
            "gridwidth": 2,
            "linecolor": "white",
            "showbackground": true,
            "ticks": "",
            "zerolinecolor": "white"
           },
           "yaxis": {
            "backgroundcolor": "#E5ECF6",
            "gridcolor": "white",
            "gridwidth": 2,
            "linecolor": "white",
            "showbackground": true,
            "ticks": "",
            "zerolinecolor": "white"
           },
           "zaxis": {
            "backgroundcolor": "#E5ECF6",
            "gridcolor": "white",
            "gridwidth": 2,
            "linecolor": "white",
            "showbackground": true,
            "ticks": "",
            "zerolinecolor": "white"
           }
          },
          "shapedefaults": {
           "line": {
            "color": "#2a3f5f"
           }
          },
          "ternary": {
           "aaxis": {
            "gridcolor": "white",
            "linecolor": "white",
            "ticks": ""
           },
           "baxis": {
            "gridcolor": "white",
            "linecolor": "white",
            "ticks": ""
           },
           "bgcolor": "#E5ECF6",
           "caxis": {
            "gridcolor": "white",
            "linecolor": "white",
            "ticks": ""
           }
          },
          "title": {
           "x": 0.05
          },
          "xaxis": {
           "automargin": true,
           "gridcolor": "white",
           "linecolor": "white",
           "ticks": "",
           "title": {
            "standoff": 15
           },
           "zerolinecolor": "white",
           "zerolinewidth": 2
          },
          "yaxis": {
           "automargin": true,
           "gridcolor": "white",
           "linecolor": "white",
           "ticks": "",
           "title": {
            "standoff": 15
           },
           "zerolinecolor": "white",
           "zerolinewidth": 2
          }
         }
        },
        "title": {
         "text": "Graphical Analysis of Fixed Points"
        },
        "xaxis": {
         "tickmode": "linear",
         "title": {
          "text": "x"
         }
        },
        "yaxis": {
         "dtick": 0.5,
         "range": [
          -1,
          1
         ],
         "tickmode": "linear",
         "title": {
          "text": "y"
         }
        }
       }
      }
     },
     "metadata": {},
     "output_type": "display_data"
    }
   ],
   "source": [
    "g = lambda x: np.sqrt(6 - x)  # g(x) = sqrt(6 - x)\n",
    "x_vals = np.linspace(min(history) - 20, max(history) + 20, 4000)\n",
    "g_vals = g(x_vals)\n",
    "\n",
    "fpi_plot_analysis(\n",
    "    x_vals=x_vals,\n",
    "    g_vals=g_vals,\n",
    "    f=f\n",
    ")"
   ]
  },
  {
   "cell_type": "markdown",
   "id": "ef1b0d0c",
   "metadata": {},
   "source": [
    "## math domain error\n",
    "```python"
   ]
  },
  {
   "cell_type": "markdown",
   "id": "65388611",
   "metadata": {},
   "source": [
    "### ocorre quando alguma iteração de uma função matemática não é válida, nesse caso a raiz quadrada de um número negativo\n",
    "```python"
   ]
  },
  {
   "cell_type": "markdown",
   "id": "182e1c72",
   "metadata": {},
   "source": [
    "### exemplo: g(7)\n",
    "sqrt(6-7) = sqrt(-1) = math domain error\n",
    "``` "
   ]
  },
  {
   "cell_type": "code",
   "execution_count": null,
   "id": "b21686c3",
   "metadata": {},
   "outputs": [
    {
     "name": "stdout",
     "output_type": "stream",
     "text": [
      "math domain error\n"
     ]
    }
   ],
   "source": [
    "g = lambda x: math.sqrt(6-x)\n",
    "x0 = 7\n",
    "\n",
    "try:\n",
    "    root, iters, history = fixed_point_iteration(g, x0)\n",
    "    print(f\"Raiz aproximada: {root}\")\n",
    "    print(f\"Número de iterações: {iters}\")\n",
    "    print(\"Histórico de aproximações:\")\n",
    "    for i, val in enumerate(history):\n",
    "        print(f\"  Iteração {i}: {val}\")\n",
    "except Exception as e:\n",
    "    print(e)"
   ]
  },
  {
   "cell_type": "markdown",
   "id": "5ce33ee3",
   "metadata": {},
   "source": [
    "### exemplo: g(-31)\n",
    "a função g(-31) gera um erro, mas não na primeira iteração, e nas próximas.\n",
    "```python\n",
    "``` "
   ]
  },
  {
   "cell_type": "code",
   "execution_count": null,
   "id": "dd1497ab",
   "metadata": {},
   "outputs": [
    {
     "name": "stdout",
     "output_type": "stream",
     "text": [
      "math domain error Inappropriate argument value (of correct type).\n"
     ]
    }
   ],
   "source": [
    "g = lambda x: math.sqrt(6-x)\n",
    "x0 = -31\n",
    "\n",
    "try:\n",
    "    root, iters, history = fixed_point_iteration(g, x0)\n",
    "    print(f\"Raiz aproximada: {root}\")\n",
    "    print(f\"Número de iterações: {iters}\")\n",
    "    print(\"Histórico de aproximações:\")\n",
    "    for i, val in enumerate(history):\n",
    "        print(f\"  Iteração {i}: {val}\")\n",
    "except Exception as e:\n",
    "    print(e,e.__doc__)"
   ]
  },
  {
   "cell_type": "code",
   "execution_count": null,
   "id": "97c7c86b",
   "metadata": {},
   "outputs": [
    {
     "data": {
      "text/plain": [
       "6.082762530298219"
      ]
     },
     "execution_count": 37,
     "metadata": {},
     "output_type": "execute_result"
    }
   ],
   "source": [
    "g = lambda x: math.sqrt(6-x)\n",
    "w1 = g(-31)\n",
    "w1"
   ]
  },
  {
   "cell_type": "code",
   "execution_count": null,
   "id": "163b0380",
   "metadata": {},
   "outputs": [
    {
     "name": "stdout",
     "output_type": "stream",
     "text": [
      "Erro ao calcular g(w1): math domain error Inappropriate argument value (of correct type).\n"
     ]
    }
   ],
   "source": [
    "try:\n",
    "    g(w1)\n",
    "except Exception as e:\n",
    "    print(\"Erro ao calcular g(w1):\", e,e.__doc__)"
   ]
  },
  {
   "cell_type": "markdown",
   "id": "c0498914",
   "metadata": {},
   "source": [
    "### essa função de iteração só pode ser implementada para valores contidos no intervalo [-30, 6]\n",
    "```python\n",
    "``` "
   ]
  },
  {
   "cell_type": "markdown",
   "id": "442d7d60",
   "metadata": {},
   "source": [
    "# exemplo 11\n",
    "\n",
    "```python\n",
    "``` "
   ]
  },
  {
   "cell_type": "code",
   "execution_count": null,
   "id": "9e9f1446",
   "metadata": {},
   "outputs": [],
   "source": [
    "g = lambda x: math.sqrt(6-x)\n",
    "x0 = -31\n",
    "\n",
    "try:\n",
    "    root, iters, history = fixed_point_iteration(g, x0)\n",
    "    print(f\"Raiz aproximada: {root}\")\n",
    "    print(f\"Número de iterações: {iters}\")\n",
    "    print(\"Histórico de aproximações:\")\n",
    "    for i, val in enumerate(history):\n",
    "        print(f\"  Iteração {i}: {val}\")\n",
    "except Exception as e:\n",
    "    print(e,e.__doc__)"
   ]
  },
  {
   "cell_type": "markdown",
   "id": "b952d207",
   "metadata": {},
   "source": [
    "# cos(ln(x))-x/2\n",
    "```python\n",
    "``` "
   ]
  },
  {
   "cell_type": "code",
   "execution_count": null,
   "id": "47fba9d7",
   "metadata": {},
   "outputs": [
    {
     "name": "stderr",
     "output_type": "stream",
     "text": [
      "C:\\Users\\maria\\AppData\\Local\\Temp\\ipykernel_14308\\1717227526.py:3: RuntimeWarning:\n",
      "\n",
      "invalid value encountered in log\n",
      "\n"
     ]
    },
    {
     "data": {
      "application/vnd.plotly.v1+json": {
       "config": {
        "plotlyServerURL": "https://plot.ly"
       },
       "data": [
        {
         "line": {
          "color": "darkblue",
          "width": 2
         },
         "mode": "lines",
         "name": "f(x) = cos(ln(x)) - x/2",
         "type": "scatter",
         "x": {
          "bdata": "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",
          "dtype": "f8"
         },
         "y": {
          "bdata": "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",
          "dtype": "f8"
         }
        }
       ],
       "layout": {
        "template": {
         "data": {
          "bar": [
           {
            "error_x": {
             "color": "#2a3f5f"
            },
            "error_y": {
             "color": "#2a3f5f"
            },
            "marker": {
             "line": {
              "color": "#E5ECF6",
              "width": 0.5
             },
             "pattern": {
              "fillmode": "overlay",
              "size": 10,
              "solidity": 0.2
             }
            },
            "type": "bar"
           }
          ],
          "barpolar": [
           {
            "marker": {
             "line": {
              "color": "#E5ECF6",
              "width": 0.5
             },
             "pattern": {
              "fillmode": "overlay",
              "size": 10,
              "solidity": 0.2
             }
            },
            "type": "barpolar"
           }
          ],
          "carpet": [
           {
            "aaxis": {
             "endlinecolor": "#2a3f5f",
             "gridcolor": "white",
             "linecolor": "white",
             "minorgridcolor": "white",
             "startlinecolor": "#2a3f5f"
            },
            "baxis": {
             "endlinecolor": "#2a3f5f",
             "gridcolor": "white",
             "linecolor": "white",
             "minorgridcolor": "white",
             "startlinecolor": "#2a3f5f"
            },
            "type": "carpet"
           }
          ],
          "choropleth": [
           {
            "colorbar": {
             "outlinewidth": 0,
             "ticks": ""
            },
            "type": "choropleth"
           }
          ],
          "contour": [
           {
            "colorbar": {
             "outlinewidth": 0,
             "ticks": ""
            },
            "colorscale": [
             [
              0,
              "#0d0887"
             ],
             [
              0.1111111111111111,
              "#46039f"
             ],
             [
              0.2222222222222222,
              "#7201a8"
             ],
             [
              0.3333333333333333,
              "#9c179e"
             ],
             [
              0.4444444444444444,
              "#bd3786"
             ],
             [
              0.5555555555555556,
              "#d8576b"
             ],
             [
              0.6666666666666666,
              "#ed7953"
             ],
             [
              0.7777777777777778,
              "#fb9f3a"
             ],
             [
              0.8888888888888888,
              "#fdca26"
             ],
             [
              1,
              "#f0f921"
             ]
            ],
            "type": "contour"
           }
          ],
          "contourcarpet": [
           {
            "colorbar": {
             "outlinewidth": 0,
             "ticks": ""
            },
            "type": "contourcarpet"
           }
          ],
          "heatmap": [
           {
            "colorbar": {
             "outlinewidth": 0,
             "ticks": ""
            },
            "colorscale": [
             [
              0,
              "#0d0887"
             ],
             [
              0.1111111111111111,
              "#46039f"
             ],
             [
              0.2222222222222222,
              "#7201a8"
             ],
             [
              0.3333333333333333,
              "#9c179e"
             ],
             [
              0.4444444444444444,
              "#bd3786"
             ],
             [
              0.5555555555555556,
              "#d8576b"
             ],
             [
              0.6666666666666666,
              "#ed7953"
             ],
             [
              0.7777777777777778,
              "#fb9f3a"
             ],
             [
              0.8888888888888888,
              "#fdca26"
             ],
             [
              1,
              "#f0f921"
             ]
            ],
            "type": "heatmap"
           }
          ],
          "histogram": [
           {
            "marker": {
             "pattern": {
              "fillmode": "overlay",
              "size": 10,
              "solidity": 0.2
             }
            },
            "type": "histogram"
           }
          ],
          "histogram2d": [
           {
            "colorbar": {
             "outlinewidth": 0,
             "ticks": ""
            },
            "colorscale": [
             [
              0,
              "#0d0887"
             ],
             [
              0.1111111111111111,
              "#46039f"
             ],
             [
              0.2222222222222222,
              "#7201a8"
             ],
             [
              0.3333333333333333,
              "#9c179e"
             ],
             [
              0.4444444444444444,
              "#bd3786"
             ],
             [
              0.5555555555555556,
              "#d8576b"
             ],
             [
              0.6666666666666666,
              "#ed7953"
             ],
             [
              0.7777777777777778,
              "#fb9f3a"
             ],
             [
              0.8888888888888888,
              "#fdca26"
             ],
             [
              1,
              "#f0f921"
             ]
            ],
            "type": "histogram2d"
           }
          ],
          "histogram2dcontour": [
           {
            "colorbar": {
             "outlinewidth": 0,
             "ticks": ""
            },
            "colorscale": [
             [
              0,
              "#0d0887"
             ],
             [
              0.1111111111111111,
              "#46039f"
             ],
             [
              0.2222222222222222,
              "#7201a8"
             ],
             [
              0.3333333333333333,
              "#9c179e"
             ],
             [
              0.4444444444444444,
              "#bd3786"
             ],
             [
              0.5555555555555556,
              "#d8576b"
             ],
             [
              0.6666666666666666,
              "#ed7953"
             ],
             [
              0.7777777777777778,
              "#fb9f3a"
             ],
             [
              0.8888888888888888,
              "#fdca26"
             ],
             [
              1,
              "#f0f921"
             ]
            ],
            "type": "histogram2dcontour"
           }
          ],
          "mesh3d": [
           {
            "colorbar": {
             "outlinewidth": 0,
             "ticks": ""
            },
            "type": "mesh3d"
           }
          ],
          "parcoords": [
           {
            "line": {
             "colorbar": {
              "outlinewidth": 0,
              "ticks": ""
             }
            },
            "type": "parcoords"
           }
          ],
          "pie": [
           {
            "automargin": true,
            "type": "pie"
           }
          ],
          "scatter": [
           {
            "fillpattern": {
             "fillmode": "overlay",
             "size": 10,
             "solidity": 0.2
            },
            "type": "scatter"
           }
          ],
          "scatter3d": [
           {
            "line": {
             "colorbar": {
              "outlinewidth": 0,
              "ticks": ""
             }
            },
            "marker": {
             "colorbar": {
              "outlinewidth": 0,
              "ticks": ""
             }
            },
            "type": "scatter3d"
           }
          ],
          "scattercarpet": [
           {
            "marker": {
             "colorbar": {
              "outlinewidth": 0,
              "ticks": ""
             }
            },
            "type": "scattercarpet"
           }
          ],
          "scattergeo": [
           {
            "marker": {
             "colorbar": {
              "outlinewidth": 0,
              "ticks": ""
             }
            },
            "type": "scattergeo"
           }
          ],
          "scattergl": [
           {
            "marker": {
             "colorbar": {
              "outlinewidth": 0,
              "ticks": ""
             }
            },
            "type": "scattergl"
           }
          ],
          "scattermap": [
           {
            "marker": {
             "colorbar": {
              "outlinewidth": 0,
              "ticks": ""
             }
            },
            "type": "scattermap"
           }
          ],
          "scattermapbox": [
           {
            "marker": {
             "colorbar": {
              "outlinewidth": 0,
              "ticks": ""
             }
            },
            "type": "scattermapbox"
           }
          ],
          "scatterpolar": [
           {
            "marker": {
             "colorbar": {
              "outlinewidth": 0,
              "ticks": ""
             }
            },
            "type": "scatterpolar"
           }
          ],
          "scatterpolargl": [
           {
            "marker": {
             "colorbar": {
              "outlinewidth": 0,
              "ticks": ""
             }
            },
            "type": "scatterpolargl"
           }
          ],
          "scatterternary": [
           {
            "marker": {
             "colorbar": {
              "outlinewidth": 0,
              "ticks": ""
             }
            },
            "type": "scatterternary"
           }
          ],
          "surface": [
           {
            "colorbar": {
             "outlinewidth": 0,
             "ticks": ""
            },
            "colorscale": [
             [
              0,
              "#0d0887"
             ],
             [
              0.1111111111111111,
              "#46039f"
             ],
             [
              0.2222222222222222,
              "#7201a8"
             ],
             [
              0.3333333333333333,
              "#9c179e"
             ],
             [
              0.4444444444444444,
              "#bd3786"
             ],
             [
              0.5555555555555556,
              "#d8576b"
             ],
             [
              0.6666666666666666,
              "#ed7953"
             ],
             [
              0.7777777777777778,
              "#fb9f3a"
             ],
             [
              0.8888888888888888,
              "#fdca26"
             ],
             [
              1,
              "#f0f921"
             ]
            ],
            "type": "surface"
           }
          ],
          "table": [
           {
            "cells": {
             "fill": {
              "color": "#EBF0F8"
             },
             "line": {
              "color": "white"
             }
            },
            "header": {
             "fill": {
              "color": "#C8D4E3"
             },
             "line": {
              "color": "white"
             }
            },
            "type": "table"
           }
          ]
         },
         "layout": {
          "annotationdefaults": {
           "arrowcolor": "#2a3f5f",
           "arrowhead": 0,
           "arrowwidth": 1
          },
          "autotypenumbers": "strict",
          "coloraxis": {
           "colorbar": {
            "outlinewidth": 0,
            "ticks": ""
           }
          },
          "colorscale": {
           "diverging": [
            [
             0,
             "#8e0152"
            ],
            [
             0.1,
             "#c51b7d"
            ],
            [
             0.2,
             "#de77ae"
            ],
            [
             0.3,
             "#f1b6da"
            ],
            [
             0.4,
             "#fde0ef"
            ],
            [
             0.5,
             "#f7f7f7"
            ],
            [
             0.6,
             "#e6f5d0"
            ],
            [
             0.7,
             "#b8e186"
            ],
            [
             0.8,
             "#7fbc41"
            ],
            [
             0.9,
             "#4d9221"
            ],
            [
             1,
             "#276419"
            ]
           ],
           "sequential": [
            [
             0,
             "#0d0887"
            ],
            [
             0.1111111111111111,
             "#46039f"
            ],
            [
             0.2222222222222222,
             "#7201a8"
            ],
            [
             0.3333333333333333,
             "#9c179e"
            ],
            [
             0.4444444444444444,
             "#bd3786"
            ],
            [
             0.5555555555555556,
             "#d8576b"
            ],
            [
             0.6666666666666666,
             "#ed7953"
            ],
            [
             0.7777777777777778,
             "#fb9f3a"
            ],
            [
             0.8888888888888888,
             "#fdca26"
            ],
            [
             1,
             "#f0f921"
            ]
           ],
           "sequentialminus": [
            [
             0,
             "#0d0887"
            ],
            [
             0.1111111111111111,
             "#46039f"
            ],
            [
             0.2222222222222222,
             "#7201a8"
            ],
            [
             0.3333333333333333,
             "#9c179e"
            ],
            [
             0.4444444444444444,
             "#bd3786"
            ],
            [
             0.5555555555555556,
             "#d8576b"
            ],
            [
             0.6666666666666666,
             "#ed7953"
            ],
            [
             0.7777777777777778,
             "#fb9f3a"
            ],
            [
             0.8888888888888888,
             "#fdca26"
            ],
            [
             1,
             "#f0f921"
            ]
           ]
          },
          "colorway": [
           "#636efa",
           "#EF553B",
           "#00cc96",
           "#ab63fa",
           "#FFA15A",
           "#19d3f3",
           "#FF6692",
           "#B6E880",
           "#FF97FF",
           "#FECB52"
          ],
          "font": {
           "color": "#2a3f5f"
          },
          "geo": {
           "bgcolor": "white",
           "lakecolor": "white",
           "landcolor": "#E5ECF6",
           "showlakes": true,
           "showland": true,
           "subunitcolor": "white"
          },
          "hoverlabel": {
           "align": "left"
          },
          "hovermode": "closest",
          "mapbox": {
           "style": "light"
          },
          "paper_bgcolor": "white",
          "plot_bgcolor": "#E5ECF6",
          "polar": {
           "angularaxis": {
            "gridcolor": "white",
            "linecolor": "white",
            "ticks": ""
           },
           "bgcolor": "#E5ECF6",
           "radialaxis": {
            "gridcolor": "white",
            "linecolor": "white",
            "ticks": ""
           }
          },
          "scene": {
           "xaxis": {
            "backgroundcolor": "#E5ECF6",
            "gridcolor": "white",
            "gridwidth": 2,
            "linecolor": "white",
            "showbackground": true,
            "ticks": "",
            "zerolinecolor": "white"
           },
           "yaxis": {
            "backgroundcolor": "#E5ECF6",
            "gridcolor": "white",
            "gridwidth": 2,
            "linecolor": "white",
            "showbackground": true,
            "ticks": "",
            "zerolinecolor": "white"
           },
           "zaxis": {
            "backgroundcolor": "#E5ECF6",
            "gridcolor": "white",
            "gridwidth": 2,
            "linecolor": "white",
            "showbackground": true,
            "ticks": "",
            "zerolinecolor": "white"
           }
          },
          "shapedefaults": {
           "line": {
            "color": "#2a3f5f"
           }
          },
          "ternary": {
           "aaxis": {
            "gridcolor": "white",
            "linecolor": "white",
            "ticks": ""
           },
           "baxis": {
            "gridcolor": "white",
            "linecolor": "white",
            "ticks": ""
           },
           "bgcolor": "#E5ECF6",
           "caxis": {
            "gridcolor": "white",
            "linecolor": "white",
            "ticks": ""
           }
          },
          "title": {
           "x": 0.05
          },
          "xaxis": {
           "automargin": true,
           "gridcolor": "white",
           "linecolor": "white",
           "ticks": "",
           "title": {
            "standoff": 15
           },
           "zerolinecolor": "white",
           "zerolinewidth": 2
          },
          "yaxis": {
           "automargin": true,
           "gridcolor": "white",
           "linecolor": "white",
           "ticks": "",
           "title": {
            "standoff": 15
           },
           "zerolinecolor": "white",
           "zerolinewidth": 2
          }
         }
        }
       }
      }
     },
     "metadata": {},
     "output_type": "display_data"
    }
   ],
   "source": [
    "\n",
    "\n",
    "# Gera valores de x para o gráfico da função f(x) = cos(ln(x)) - x/2\n",
    "x_vals = np.linspace(-5, 20, 4000)\n",
    "f = lambda x: np.cos(np.log(x)) - x/2\n",
    "y_vals = f(x_vals)\n",
    "\n",
    "# Cria o gráfico da função\n",
    "fig_fx = go.Figure()\n",
    "fig_fx.add_trace(go.Scatter(x=x_vals, y=y_vals,\n",
    "                            mode='lines',\n",
    "                            name='f(x) = cos(ln(x)) - x/2',\n",
    "                            line=dict(color='darkblue', width=2)))"
   ]
  },
  {
   "cell_type": "code",
   "execution_count": null,
   "id": "2c78d405",
   "metadata": {},
   "outputs": [
    {
     "name": "stdout",
     "output_type": "stream",
     "text": [
      "Raiz aproximada: 1.7156385788331818\n",
      "Número de iterações: 27\n",
      "Histórico de aproximações:\n",
      "  Iteração 0: 0.24\n",
      "  Iteração 1: 0.2863722557285447\n",
      "  Iteração 2: 0.6297664269998094\n",
      "  Iteração 3: 1.789963282676619\n",
      "  Iteração 4: 1.6705153287254622\n",
      "  Iteração 5: 1.7424223608891705\n",
      "  Iteração 6: 1.6995096199408721\n",
      "  Iteração 7: 1.725270530938414\n",
      "  Iteração 8: 1.7098564476269915\n",
      "  Iteração 9: 1.719098391621225\n",
      "  Iteração 10: 1.7135637338872443\n",
      "  Iteração 11: 1.7168806447020597\n",
      "  Iteração 12: 1.714893682542725\n",
      "  Iteração 13: 1.7160842615845042\n",
      "  Iteração 14: 1.7153709824740164\n",
      "  Iteração 15: 1.7157983497095621\n",
      "  Iteração 16: 1.7155423032708537\n",
      "  Iteração 17: 1.7156957122455447\n",
      "  Iteração 18: 1.7156037998459521\n",
      "  Iteração 19: 1.7156588682702465\n",
      "  Iteração 20: 1.7156258747940392\n",
      "  Iteração 21: 1.7156456424589395\n",
      "  Iteração 22: 1.7156337989185546\n",
      "  Iteração 23: 1.7156408948333373\n",
      "  Iteração 24: 1.7156366434052717\n",
      "  Iteração 25: 1.715639190596321\n",
      "  Iteração 26: 1.7156376644785116\n",
      "  Iteração 27: 1.7156385788331818\n"
     ]
    }
   ],
   "source": [
    "g = lambda x: 2*math.cos(math.log(x))\n",
    "x0 = 0.24\n",
    "\n",
    "try:\n",
    "    root, iters, history = fixed_point_iteration(g, x0)\n",
    "    print(f\"Raiz aproximada: {root}\")\n",
    "    print(f\"Número de iterações: {iters}\")\n",
    "    print(\"Histórico de aproximações:\")\n",
    "    for i, val in enumerate(history):\n",
    "        print(f\"  Iteração {i}: {val}\")\n",
    "except Exception as e:\n",
    "    print(e)"
   ]
  },
  {
   "cell_type": "code",
   "execution_count": null,
   "id": "5b1f979e",
   "metadata": {},
   "outputs": [
    {
     "data": {
      "application/vnd.plotly.v1+json": {
       "config": {
        "plotlyServerURL": "https://plot.ly"
       },
       "data": [
        {
         "hovertemplate": "Iteração=%{x}<br>Aproximação=%{y}<extra></extra>",
         "legendgroup": "",
         "line": {
          "color": "blue",
          "dash": "solid",
          "width": 2
         },
         "marker": {
          "color": "red",
          "line": {
           "color": "DarkSlateGrey",
           "width": 2
          },
          "size": 10,
          "symbol": "circle"
         },
         "mode": "lines+markers",
         "name": "",
         "orientation": "v",
         "showlegend": false,
         "type": "scatter",
         "x": {
          "bdata": "AAECAwQFBgcICQoLDA0O",
          "dtype": "i1"
         },
         "xaxis": "x",
         "y": {
          "bdata": "AAAAAAAAPsAAAAAAAAAYQAAAAAAAAAAALiEJFI6YA0Cle7CLAib+P/JkPorTOgBAUTjcqYji/z8mSVV+rgMAQMmtRrMo/v8/abYq6ToAAEBDFl2L4v//P8Pwk64DAABAEPq1KP7//z9SQOk6AAAAQMlfi+L///8/",
          "dtype": "f8"
         },
         "yaxis": "y"
        }
       ],
       "layout": {
        "legend": {
         "tracegroupgap": 0
        },
        "template": {
         "data": {
          "bar": [
           {
            "error_x": {
             "color": "#2a3f5f"
            },
            "error_y": {
             "color": "#2a3f5f"
            },
            "marker": {
             "line": {
              "color": "#E5ECF6",
              "width": 0.5
             },
             "pattern": {
              "fillmode": "overlay",
              "size": 10,
              "solidity": 0.2
             }
            },
            "type": "bar"
           }
          ],
          "barpolar": [
           {
            "marker": {
             "line": {
              "color": "#E5ECF6",
              "width": 0.5
             },
             "pattern": {
              "fillmode": "overlay",
              "size": 10,
              "solidity": 0.2
             }
            },
            "type": "barpolar"
           }
          ],
          "carpet": [
           {
            "aaxis": {
             "endlinecolor": "#2a3f5f",
             "gridcolor": "white",
             "linecolor": "white",
             "minorgridcolor": "white",
             "startlinecolor": "#2a3f5f"
            },
            "baxis": {
             "endlinecolor": "#2a3f5f",
             "gridcolor": "white",
             "linecolor": "white",
             "minorgridcolor": "white",
             "startlinecolor": "#2a3f5f"
            },
            "type": "carpet"
           }
          ],
          "choropleth": [
           {
            "colorbar": {
             "outlinewidth": 0,
             "ticks": ""
            },
            "type": "choropleth"
           }
          ],
          "contour": [
           {
            "colorbar": {
             "outlinewidth": 0,
             "ticks": ""
            },
            "colorscale": [
             [
              0,
              "#0d0887"
             ],
             [
              0.1111111111111111,
              "#46039f"
             ],
             [
              0.2222222222222222,
              "#7201a8"
             ],
             [
              0.3333333333333333,
              "#9c179e"
             ],
             [
              0.4444444444444444,
              "#bd3786"
             ],
             [
              0.5555555555555556,
              "#d8576b"
             ],
             [
              0.6666666666666666,
              "#ed7953"
             ],
             [
              0.7777777777777778,
              "#fb9f3a"
             ],
             [
              0.8888888888888888,
              "#fdca26"
             ],
             [
              1,
              "#f0f921"
             ]
            ],
            "type": "contour"
           }
          ],
          "contourcarpet": [
           {
            "colorbar": {
             "outlinewidth": 0,
             "ticks": ""
            },
            "type": "contourcarpet"
           }
          ],
          "heatmap": [
           {
            "colorbar": {
             "outlinewidth": 0,
             "ticks": ""
            },
            "colorscale": [
             [
              0,
              "#0d0887"
             ],
             [
              0.1111111111111111,
              "#46039f"
             ],
             [
              0.2222222222222222,
              "#7201a8"
             ],
             [
              0.3333333333333333,
              "#9c179e"
             ],
             [
              0.4444444444444444,
              "#bd3786"
             ],
             [
              0.5555555555555556,
              "#d8576b"
             ],
             [
              0.6666666666666666,
              "#ed7953"
             ],
             [
              0.7777777777777778,
              "#fb9f3a"
             ],
             [
              0.8888888888888888,
              "#fdca26"
             ],
             [
              1,
              "#f0f921"
             ]
            ],
            "type": "heatmap"
           }
          ],
          "histogram": [
           {
            "marker": {
             "pattern": {
              "fillmode": "overlay",
              "size": 10,
              "solidity": 0.2
             }
            },
            "type": "histogram"
           }
          ],
          "histogram2d": [
           {
            "colorbar": {
             "outlinewidth": 0,
             "ticks": ""
            },
            "colorscale": [
             [
              0,
              "#0d0887"
             ],
             [
              0.1111111111111111,
              "#46039f"
             ],
             [
              0.2222222222222222,
              "#7201a8"
             ],
             [
              0.3333333333333333,
              "#9c179e"
             ],
             [
              0.4444444444444444,
              "#bd3786"
             ],
             [
              0.5555555555555556,
              "#d8576b"
             ],
             [
              0.6666666666666666,
              "#ed7953"
             ],
             [
              0.7777777777777778,
              "#fb9f3a"
             ],
             [
              0.8888888888888888,
              "#fdca26"
             ],
             [
              1,
              "#f0f921"
             ]
            ],
            "type": "histogram2d"
           }
          ],
          "histogram2dcontour": [
           {
            "colorbar": {
             "outlinewidth": 0,
             "ticks": ""
            },
            "colorscale": [
             [
              0,
              "#0d0887"
             ],
             [
              0.1111111111111111,
              "#46039f"
             ],
             [
              0.2222222222222222,
              "#7201a8"
             ],
             [
              0.3333333333333333,
              "#9c179e"
             ],
             [
              0.4444444444444444,
              "#bd3786"
             ],
             [
              0.5555555555555556,
              "#d8576b"
             ],
             [
              0.6666666666666666,
              "#ed7953"
             ],
             [
              0.7777777777777778,
              "#fb9f3a"
             ],
             [
              0.8888888888888888,
              "#fdca26"
             ],
             [
              1,
              "#f0f921"
             ]
            ],
            "type": "histogram2dcontour"
           }
          ],
          "mesh3d": [
           {
            "colorbar": {
             "outlinewidth": 0,
             "ticks": ""
            },
            "type": "mesh3d"
           }
          ],
          "parcoords": [
           {
            "line": {
             "colorbar": {
              "outlinewidth": 0,
              "ticks": ""
             }
            },
            "type": "parcoords"
           }
          ],
          "pie": [
           {
            "automargin": true,
            "type": "pie"
           }
          ],
          "scatter": [
           {
            "fillpattern": {
             "fillmode": "overlay",
             "size": 10,
             "solidity": 0.2
            },
            "type": "scatter"
           }
          ],
          "scatter3d": [
           {
            "line": {
             "colorbar": {
              "outlinewidth": 0,
              "ticks": ""
             }
            },
            "marker": {
             "colorbar": {
              "outlinewidth": 0,
              "ticks": ""
             }
            },
            "type": "scatter3d"
           }
          ],
          "scattercarpet": [
           {
            "marker": {
             "colorbar": {
              "outlinewidth": 0,
              "ticks": ""
             }
            },
            "type": "scattercarpet"
           }
          ],
          "scattergeo": [
           {
            "marker": {
             "colorbar": {
              "outlinewidth": 0,
              "ticks": ""
             }
            },
            "type": "scattergeo"
           }
          ],
          "scattergl": [
           {
            "marker": {
             "colorbar": {
              "outlinewidth": 0,
              "ticks": ""
             }
            },
            "type": "scattergl"
           }
          ],
          "scattermap": [
           {
            "marker": {
             "colorbar": {
              "outlinewidth": 0,
              "ticks": ""
             }
            },
            "type": "scattermap"
           }
          ],
          "scattermapbox": [
           {
            "marker": {
             "colorbar": {
              "outlinewidth": 0,
              "ticks": ""
             }
            },
            "type": "scattermapbox"
           }
          ],
          "scatterpolar": [
           {
            "marker": {
             "colorbar": {
              "outlinewidth": 0,
              "ticks": ""
             }
            },
            "type": "scatterpolar"
           }
          ],
          "scatterpolargl": [
           {
            "marker": {
             "colorbar": {
              "outlinewidth": 0,
              "ticks": ""
             }
            },
            "type": "scatterpolargl"
           }
          ],
          "scatterternary": [
           {
            "marker": {
             "colorbar": {
              "outlinewidth": 0,
              "ticks": ""
             }
            },
            "type": "scatterternary"
           }
          ],
          "surface": [
           {
            "colorbar": {
             "outlinewidth": 0,
             "ticks": ""
            },
            "colorscale": [
             [
              0,
              "#0d0887"
             ],
             [
              0.1111111111111111,
              "#46039f"
             ],
             [
              0.2222222222222222,
              "#7201a8"
             ],
             [
              0.3333333333333333,
              "#9c179e"
             ],
             [
              0.4444444444444444,
              "#bd3786"
             ],
             [
              0.5555555555555556,
              "#d8576b"
             ],
             [
              0.6666666666666666,
              "#ed7953"
             ],
             [
              0.7777777777777778,
              "#fb9f3a"
             ],
             [
              0.8888888888888888,
              "#fdca26"
             ],
             [
              1,
              "#f0f921"
             ]
            ],
            "type": "surface"
           }
          ],
          "table": [
           {
            "cells": {
             "fill": {
              "color": "#EBF0F8"
             },
             "line": {
              "color": "white"
             }
            },
            "header": {
             "fill": {
              "color": "#C8D4E3"
             },
             "line": {
              "color": "white"
             }
            },
            "type": "table"
           }
          ]
         },
         "layout": {
          "annotationdefaults": {
           "arrowcolor": "#2a3f5f",
           "arrowhead": 0,
           "arrowwidth": 1
          },
          "autotypenumbers": "strict",
          "coloraxis": {
           "colorbar": {
            "outlinewidth": 0,
            "ticks": ""
           }
          },
          "colorscale": {
           "diverging": [
            [
             0,
             "#8e0152"
            ],
            [
             0.1,
             "#c51b7d"
            ],
            [
             0.2,
             "#de77ae"
            ],
            [
             0.3,
             "#f1b6da"
            ],
            [
             0.4,
             "#fde0ef"
            ],
            [
             0.5,
             "#f7f7f7"
            ],
            [
             0.6,
             "#e6f5d0"
            ],
            [
             0.7,
             "#b8e186"
            ],
            [
             0.8,
             "#7fbc41"
            ],
            [
             0.9,
             "#4d9221"
            ],
            [
             1,
             "#276419"
            ]
           ],
           "sequential": [
            [
             0,
             "#0d0887"
            ],
            [
             0.1111111111111111,
             "#46039f"
            ],
            [
             0.2222222222222222,
             "#7201a8"
            ],
            [
             0.3333333333333333,
             "#9c179e"
            ],
            [
             0.4444444444444444,
             "#bd3786"
            ],
            [
             0.5555555555555556,
             "#d8576b"
            ],
            [
             0.6666666666666666,
             "#ed7953"
            ],
            [
             0.7777777777777778,
             "#fb9f3a"
            ],
            [
             0.8888888888888888,
             "#fdca26"
            ],
            [
             1,
             "#f0f921"
            ]
           ],
           "sequentialminus": [
            [
             0,
             "#0d0887"
            ],
            [
             0.1111111111111111,
             "#46039f"
            ],
            [
             0.2222222222222222,
             "#7201a8"
            ],
            [
             0.3333333333333333,
             "#9c179e"
            ],
            [
             0.4444444444444444,
             "#bd3786"
            ],
            [
             0.5555555555555556,
             "#d8576b"
            ],
            [
             0.6666666666666666,
             "#ed7953"
            ],
            [
             0.7777777777777778,
             "#fb9f3a"
            ],
            [
             0.8888888888888888,
             "#fdca26"
            ],
            [
             1,
             "#f0f921"
            ]
           ]
          },
          "colorway": [
           "#636efa",
           "#EF553B",
           "#00cc96",
           "#ab63fa",
           "#FFA15A",
           "#19d3f3",
           "#FF6692",
           "#B6E880",
           "#FF97FF",
           "#FECB52"
          ],
          "font": {
           "color": "#2a3f5f"
          },
          "geo": {
           "bgcolor": "white",
           "lakecolor": "white",
           "landcolor": "#E5ECF6",
           "showlakes": true,
           "showland": true,
           "subunitcolor": "white"
          },
          "hoverlabel": {
           "align": "left"
          },
          "hovermode": "closest",
          "mapbox": {
           "style": "light"
          },
          "paper_bgcolor": "white",
          "plot_bgcolor": "#E5ECF6",
          "polar": {
           "angularaxis": {
            "gridcolor": "white",
            "linecolor": "white",
            "ticks": ""
           },
           "bgcolor": "#E5ECF6",
           "radialaxis": {
            "gridcolor": "white",
            "linecolor": "white",
            "ticks": ""
           }
          },
          "scene": {
           "xaxis": {
            "backgroundcolor": "#E5ECF6",
            "gridcolor": "white",
            "gridwidth": 2,
            "linecolor": "white",
            "showbackground": true,
            "ticks": "",
            "zerolinecolor": "white"
           },
           "yaxis": {
            "backgroundcolor": "#E5ECF6",
            "gridcolor": "white",
            "gridwidth": 2,
            "linecolor": "white",
            "showbackground": true,
            "ticks": "",
            "zerolinecolor": "white"
           },
           "zaxis": {
            "backgroundcolor": "#E5ECF6",
            "gridcolor": "white",
            "gridwidth": 2,
            "linecolor": "white",
            "showbackground": true,
            "ticks": "",
            "zerolinecolor": "white"
           }
          },
          "shapedefaults": {
           "line": {
            "color": "#2a3f5f"
           }
          },
          "ternary": {
           "aaxis": {
            "gridcolor": "white",
            "linecolor": "white",
            "ticks": ""
           },
           "baxis": {
            "gridcolor": "white",
            "linecolor": "white",
            "ticks": ""
           },
           "bgcolor": "#E5ECF6",
           "caxis": {
            "gridcolor": "white",
            "linecolor": "white",
            "ticks": ""
           }
          },
          "title": {
           "x": 0.05
          },
          "xaxis": {
           "automargin": true,
           "gridcolor": "white",
           "linecolor": "white",
           "ticks": "",
           "title": {
            "standoff": 15
           },
           "zerolinecolor": "white",
           "zerolinewidth": 2
          },
          "yaxis": {
           "automargin": true,
           "gridcolor": "white",
           "linecolor": "white",
           "ticks": "",
           "title": {
            "standoff": 15
           },
           "zerolinecolor": "white",
           "zerolinewidth": 2
          }
         }
        },
        "title": {
         "text": "Histórico de Aproximações - Método do Ponto Fixo"
        },
        "xaxis": {
         "anchor": "y",
         "domain": [
          0,
          1
         ],
         "title": {
          "text": "Iteração"
         }
        },
        "yaxis": {
         "anchor": "x",
         "domain": [
          0,
          1
         ],
         "title": {
          "text": "Aproximação"
         }
        }
       }
      }
     },
     "metadata": {},
     "output_type": "display_data"
    }
   ],
   "source": [
    "fig = px.line(x=list(range(0, len(history))), y=history, markers=True,\n",
    "              labels={'x': 'Iteração', 'y': 'Aproximação'},\n",
    "              title='Histórico de Aproximações - Método do Ponto Fixo',\n",
    "              )\n",
    "\n",
    "fig.update_traces(marker=dict(size=10, color='red', line=dict(width=2, color='DarkSlateGrey')),\n",
    "                  line=dict(width=2, color='blue'))\n",
    "fig.show()\n"
   ]
  },
  {
   "cell_type": "code",
   "execution_count": null,
   "id": "837fb1cf",
   "metadata": {},
   "outputs": [
    {
     "data": {
      "application/vnd.plotly.v1+json": {
       "config": {
        "plotlyServerURL": "https://plot.ly"
       },
       "data": [
        {
         "line": {
          "color": "darkblue",
          "width": 2
         },
         "mode": "lines",
         "name": "f(x) = x² + x - 6",
         "type": "scatter",
         "x": {
          "bdata": "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",
          "dtype": "f8"
         },
         "y": {
          "bdata": "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",
          "dtype": "f8"
         }
        },
        {
         "marker": {
          "color": "red",
          "line": {
           "color": "DarkSlateGrey",
           "width": 2
          },
          "size": 7
         },
         "mode": "markers+lines",
         "name": "g(x) = sqrt(6-x)",
         "type": "scatter",
         "x": [
          -30,
          6,
          0,
          2.449489742783178,
          1.8842797714821498,
          2.0287237930575595,
          1.9928061137357143,
          2.001797663667406,
          1.9995505335781323,
          2.0001123634490807,
          1.9999719089404528,
          2.000007022752557,
          1.9999982443110902,
          2.0000004389221795,
          1.999999890269452
         ],
         "y": [
          864,
          36,
          -6,
          2.449489742783177,
          -0.5652099713010275,
          0.1444440215754108,
          -0.03591767932184542,
          0.008991549931692155,
          -0.0022471300892741297,
          0.0005618298709482161,
          -0.00014045450862809616,
          0.000035113812103304554,
          -0.000008778441467072184,
          0.000002194611090189369,
          -5.48652727694332e-7
         ]
        },
        {
         "marker": {
          "color": "orange",
          "line": {
           "color": "Black",
           "width": 2
          },
          "size": 10,
          "symbol": "cross"
         },
         "mode": "markers",
         "name": "Raiz Aproximada",
         "type": "scatter",
         "x": [
          1.999999890269452
         ],
         "y": [
          -5.48652727694332e-7
         ]
        }
       ],
       "layout": {
        "showlegend": true,
        "template": {
         "data": {
          "bar": [
           {
            "error_x": {
             "color": "#2a3f5f"
            },
            "error_y": {
             "color": "#2a3f5f"
            },
            "marker": {
             "line": {
              "color": "#E5ECF6",
              "width": 0.5
             },
             "pattern": {
              "fillmode": "overlay",
              "size": 10,
              "solidity": 0.2
             }
            },
            "type": "bar"
           }
          ],
          "barpolar": [
           {
            "marker": {
             "line": {
              "color": "#E5ECF6",
              "width": 0.5
             },
             "pattern": {
              "fillmode": "overlay",
              "size": 10,
              "solidity": 0.2
             }
            },
            "type": "barpolar"
           }
          ],
          "carpet": [
           {
            "aaxis": {
             "endlinecolor": "#2a3f5f",
             "gridcolor": "white",
             "linecolor": "white",
             "minorgridcolor": "white",
             "startlinecolor": "#2a3f5f"
            },
            "baxis": {
             "endlinecolor": "#2a3f5f",
             "gridcolor": "white",
             "linecolor": "white",
             "minorgridcolor": "white",
             "startlinecolor": "#2a3f5f"
            },
            "type": "carpet"
           }
          ],
          "choropleth": [
           {
            "colorbar": {
             "outlinewidth": 0,
             "ticks": ""
            },
            "type": "choropleth"
           }
          ],
          "contour": [
           {
            "colorbar": {
             "outlinewidth": 0,
             "ticks": ""
            },
            "colorscale": [
             [
              0,
              "#0d0887"
             ],
             [
              0.1111111111111111,
              "#46039f"
             ],
             [
              0.2222222222222222,
              "#7201a8"
             ],
             [
              0.3333333333333333,
              "#9c179e"
             ],
             [
              0.4444444444444444,
              "#bd3786"
             ],
             [
              0.5555555555555556,
              "#d8576b"
             ],
             [
              0.6666666666666666,
              "#ed7953"
             ],
             [
              0.7777777777777778,
              "#fb9f3a"
             ],
             [
              0.8888888888888888,
              "#fdca26"
             ],
             [
              1,
              "#f0f921"
             ]
            ],
            "type": "contour"
           }
          ],
          "contourcarpet": [
           {
            "colorbar": {
             "outlinewidth": 0,
             "ticks": ""
            },
            "type": "contourcarpet"
           }
          ],
          "heatmap": [
           {
            "colorbar": {
             "outlinewidth": 0,
             "ticks": ""
            },
            "colorscale": [
             [
              0,
              "#0d0887"
             ],
             [
              0.1111111111111111,
              "#46039f"
             ],
             [
              0.2222222222222222,
              "#7201a8"
             ],
             [
              0.3333333333333333,
              "#9c179e"
             ],
             [
              0.4444444444444444,
              "#bd3786"
             ],
             [
              0.5555555555555556,
              "#d8576b"
             ],
             [
              0.6666666666666666,
              "#ed7953"
             ],
             [
              0.7777777777777778,
              "#fb9f3a"
             ],
             [
              0.8888888888888888,
              "#fdca26"
             ],
             [
              1,
              "#f0f921"
             ]
            ],
            "type": "heatmap"
           }
          ],
          "histogram": [
           {
            "marker": {
             "pattern": {
              "fillmode": "overlay",
              "size": 10,
              "solidity": 0.2
             }
            },
            "type": "histogram"
           }
          ],
          "histogram2d": [
           {
            "colorbar": {
             "outlinewidth": 0,
             "ticks": ""
            },
            "colorscale": [
             [
              0,
              "#0d0887"
             ],
             [
              0.1111111111111111,
              "#46039f"
             ],
             [
              0.2222222222222222,
              "#7201a8"
             ],
             [
              0.3333333333333333,
              "#9c179e"
             ],
             [
              0.4444444444444444,
              "#bd3786"
             ],
             [
              0.5555555555555556,
              "#d8576b"
             ],
             [
              0.6666666666666666,
              "#ed7953"
             ],
             [
              0.7777777777777778,
              "#fb9f3a"
             ],
             [
              0.8888888888888888,
              "#fdca26"
             ],
             [
              1,
              "#f0f921"
             ]
            ],
            "type": "histogram2d"
           }
          ],
          "histogram2dcontour": [
           {
            "colorbar": {
             "outlinewidth": 0,
             "ticks": ""
            },
            "colorscale": [
             [
              0,
              "#0d0887"
             ],
             [
              0.1111111111111111,
              "#46039f"
             ],
             [
              0.2222222222222222,
              "#7201a8"
             ],
             [
              0.3333333333333333,
              "#9c179e"
             ],
             [
              0.4444444444444444,
              "#bd3786"
             ],
             [
              0.5555555555555556,
              "#d8576b"
             ],
             [
              0.6666666666666666,
              "#ed7953"
             ],
             [
              0.7777777777777778,
              "#fb9f3a"
             ],
             [
              0.8888888888888888,
              "#fdca26"
             ],
             [
              1,
              "#f0f921"
             ]
            ],
            "type": "histogram2dcontour"
           }
          ],
          "mesh3d": [
           {
            "colorbar": {
             "outlinewidth": 0,
             "ticks": ""
            },
            "type": "mesh3d"
           }
          ],
          "parcoords": [
           {
            "line": {
             "colorbar": {
              "outlinewidth": 0,
              "ticks": ""
             }
            },
            "type": "parcoords"
           }
          ],
          "pie": [
           {
            "automargin": true,
            "type": "pie"
           }
          ],
          "scatter": [
           {
            "fillpattern": {
             "fillmode": "overlay",
             "size": 10,
             "solidity": 0.2
            },
            "type": "scatter"
           }
          ],
          "scatter3d": [
           {
            "line": {
             "colorbar": {
              "outlinewidth": 0,
              "ticks": ""
             }
            },
            "marker": {
             "colorbar": {
              "outlinewidth": 0,
              "ticks": ""
             }
            },
            "type": "scatter3d"
           }
          ],
          "scattercarpet": [
           {
            "marker": {
             "colorbar": {
              "outlinewidth": 0,
              "ticks": ""
             }
            },
            "type": "scattercarpet"
           }
          ],
          "scattergeo": [
           {
            "marker": {
             "colorbar": {
              "outlinewidth": 0,
              "ticks": ""
             }
            },
            "type": "scattergeo"
           }
          ],
          "scattergl": [
           {
            "marker": {
             "colorbar": {
              "outlinewidth": 0,
              "ticks": ""
             }
            },
            "type": "scattergl"
           }
          ],
          "scattermap": [
           {
            "marker": {
             "colorbar": {
              "outlinewidth": 0,
              "ticks": ""
             }
            },
            "type": "scattermap"
           }
          ],
          "scattermapbox": [
           {
            "marker": {
             "colorbar": {
              "outlinewidth": 0,
              "ticks": ""
             }
            },
            "type": "scattermapbox"
           }
          ],
          "scatterpolar": [
           {
            "marker": {
             "colorbar": {
              "outlinewidth": 0,
              "ticks": ""
             }
            },
            "type": "scatterpolar"
           }
          ],
          "scatterpolargl": [
           {
            "marker": {
             "colorbar": {
              "outlinewidth": 0,
              "ticks": ""
             }
            },
            "type": "scatterpolargl"
           }
          ],
          "scatterternary": [
           {
            "marker": {
             "colorbar": {
              "outlinewidth": 0,
              "ticks": ""
             }
            },
            "type": "scatterternary"
           }
          ],
          "surface": [
           {
            "colorbar": {
             "outlinewidth": 0,
             "ticks": ""
            },
            "colorscale": [
             [
              0,
              "#0d0887"
             ],
             [
              0.1111111111111111,
              "#46039f"
             ],
             [
              0.2222222222222222,
              "#7201a8"
             ],
             [
              0.3333333333333333,
              "#9c179e"
             ],
             [
              0.4444444444444444,
              "#bd3786"
             ],
             [
              0.5555555555555556,
              "#d8576b"
             ],
             [
              0.6666666666666666,
              "#ed7953"
             ],
             [
              0.7777777777777778,
              "#fb9f3a"
             ],
             [
              0.8888888888888888,
              "#fdca26"
             ],
             [
              1,
              "#f0f921"
             ]
            ],
            "type": "surface"
           }
          ],
          "table": [
           {
            "cells": {
             "fill": {
              "color": "#EBF0F8"
             },
             "line": {
              "color": "white"
             }
            },
            "header": {
             "fill": {
              "color": "#C8D4E3"
             },
             "line": {
              "color": "white"
             }
            },
            "type": "table"
           }
          ]
         },
         "layout": {
          "annotationdefaults": {
           "arrowcolor": "#2a3f5f",
           "arrowhead": 0,
           "arrowwidth": 1
          },
          "autotypenumbers": "strict",
          "coloraxis": {
           "colorbar": {
            "outlinewidth": 0,
            "ticks": ""
           }
          },
          "colorscale": {
           "diverging": [
            [
             0,
             "#8e0152"
            ],
            [
             0.1,
             "#c51b7d"
            ],
            [
             0.2,
             "#de77ae"
            ],
            [
             0.3,
             "#f1b6da"
            ],
            [
             0.4,
             "#fde0ef"
            ],
            [
             0.5,
             "#f7f7f7"
            ],
            [
             0.6,
             "#e6f5d0"
            ],
            [
             0.7,
             "#b8e186"
            ],
            [
             0.8,
             "#7fbc41"
            ],
            [
             0.9,
             "#4d9221"
            ],
            [
             1,
             "#276419"
            ]
           ],
           "sequential": [
            [
             0,
             "#0d0887"
            ],
            [
             0.1111111111111111,
             "#46039f"
            ],
            [
             0.2222222222222222,
             "#7201a8"
            ],
            [
             0.3333333333333333,
             "#9c179e"
            ],
            [
             0.4444444444444444,
             "#bd3786"
            ],
            [
             0.5555555555555556,
             "#d8576b"
            ],
            [
             0.6666666666666666,
             "#ed7953"
            ],
            [
             0.7777777777777778,
             "#fb9f3a"
            ],
            [
             0.8888888888888888,
             "#fdca26"
            ],
            [
             1,
             "#f0f921"
            ]
           ],
           "sequentialminus": [
            [
             0,
             "#0d0887"
            ],
            [
             0.1111111111111111,
             "#46039f"
            ],
            [
             0.2222222222222222,
             "#7201a8"
            ],
            [
             0.3333333333333333,
             "#9c179e"
            ],
            [
             0.4444444444444444,
             "#bd3786"
            ],
            [
             0.5555555555555556,
             "#d8576b"
            ],
            [
             0.6666666666666666,
             "#ed7953"
            ],
            [
             0.7777777777777778,
             "#fb9f3a"
            ],
            [
             0.8888888888888888,
             "#fdca26"
            ],
            [
             1,
             "#f0f921"
            ]
           ]
          },
          "colorway": [
           "#636efa",
           "#EF553B",
           "#00cc96",
           "#ab63fa",
           "#FFA15A",
           "#19d3f3",
           "#FF6692",
           "#B6E880",
           "#FF97FF",
           "#FECB52"
          ],
          "font": {
           "color": "#2a3f5f"
          },
          "geo": {
           "bgcolor": "white",
           "lakecolor": "white",
           "landcolor": "#E5ECF6",
           "showlakes": true,
           "showland": true,
           "subunitcolor": "white"
          },
          "hoverlabel": {
           "align": "left"
          },
          "hovermode": "closest",
          "mapbox": {
           "style": "light"
          },
          "paper_bgcolor": "white",
          "plot_bgcolor": "#E5ECF6",
          "polar": {
           "angularaxis": {
            "gridcolor": "white",
            "linecolor": "white",
            "ticks": ""
           },
           "bgcolor": "#E5ECF6",
           "radialaxis": {
            "gridcolor": "white",
            "linecolor": "white",
            "ticks": ""
           }
          },
          "scene": {
           "xaxis": {
            "backgroundcolor": "#E5ECF6",
            "gridcolor": "white",
            "gridwidth": 2,
            "linecolor": "white",
            "showbackground": true,
            "ticks": "",
            "zerolinecolor": "white"
           },
           "yaxis": {
            "backgroundcolor": "#E5ECF6",
            "gridcolor": "white",
            "gridwidth": 2,
            "linecolor": "white",
            "showbackground": true,
            "ticks": "",
            "zerolinecolor": "white"
           },
           "zaxis": {
            "backgroundcolor": "#E5ECF6",
            "gridcolor": "white",
            "gridwidth": 2,
            "linecolor": "white",
            "showbackground": true,
            "ticks": "",
            "zerolinecolor": "white"
           }
          },
          "shapedefaults": {
           "line": {
            "color": "#2a3f5f"
           }
          },
          "ternary": {
           "aaxis": {
            "gridcolor": "white",
            "linecolor": "white",
            "ticks": ""
           },
           "baxis": {
            "gridcolor": "white",
            "linecolor": "white",
            "ticks": ""
           },
           "bgcolor": "#E5ECF6",
           "caxis": {
            "gridcolor": "white",
            "linecolor": "white",
            "ticks": ""
           }
          },
          "title": {
           "x": 0.05
          },
          "xaxis": {
           "automargin": true,
           "gridcolor": "white",
           "linecolor": "white",
           "ticks": "",
           "title": {
            "standoff": 15
           },
           "zerolinecolor": "white",
           "zerolinewidth": 2
          },
          "yaxis": {
           "automargin": true,
           "gridcolor": "white",
           "linecolor": "white",
           "ticks": "",
           "title": {
            "standoff": 15
           },
           "zerolinecolor": "white",
           "zerolinewidth": 2
          }
         }
        },
        "title": {
         "text": "f(x) e Aproximações pelo Método do Ponto Fixo"
        },
        "xaxis": {
         "title": {
          "text": "x"
         }
        },
        "yaxis": {
         "title": {
          "text": "f(x)"
         }
        }
       }
      }
     },
     "metadata": {},
     "output_type": "display_data"
    }
   ],
   "source": [
    "# Gera valores de x para o gráfico da função f(x) = x^2 + x - 6\n",
    "x_vals = np.linspace(min(history) - 1, max(history) + 1, 400)\n",
    "f = lambda x: x**2 + x - 6\n",
    "y_vals = f(x_vals)\n",
    "\n",
    "# Cria o gráfico da função\n",
    "fig_fx = go.Figure()\n",
    "fig_fx.add_trace(go.Scatter(x=x_vals, y=y_vals,\n",
    "                            mode='lines',\n",
    "                            name='f(x) = x² + x - 6',\n",
    "                            line=dict(color='darkblue', width=2)))\n",
    "\n",
    "# Adiciona os pontos do método do ponto fixo\n",
    "fig_fx.add_trace(go.Scatter(x=history, y=[f(x) for x in history], \n",
    "                            mode='markers+lines', \n",
    "                            name='g(x) = sqrt(6-x)',\n",
    "                            marker=dict(size=7, color='red', line=dict(width=2, color='DarkSlateGrey'))))\n",
    "\n",
    "# Destaca a raiz aproximada\n",
    "fig_fx.add_trace(go.Scatter(x=[root], y=[f(root)], mode='markers', name='Raiz Aproximada',\n",
    "                            marker=dict(size=10, color='orange', symbol='cross', line=dict(width=2, color='Black'))))\n",
    "\n",
    "fig_fx.update_layout(title='f(x) e Aproximações pelo Método do Ponto Fixo',\n",
    "                    xaxis_title='x',\n",
    "                    yaxis_title='f(x)',\n",
    "                    showlegend=True)\n",
    "fig_fx.show()"
   ]
  },
  {
   "cell_type": "code",
   "execution_count": null,
   "id": "e12e74a1",
   "metadata": {},
   "outputs": [],
   "source": [
    "g = lambda x: math.sqrt(6-x)\n",
    "x0 = -31\n",
    "\n",
    "try:\n",
    "    root, iters, history = fixed_point_iteration(g, x0)\n",
    "    print(f\"Raiz aproximada: {root}\")\n",
    "    print(f\"Número de iterações: {iters}\")\n",
    "    print(\"Histórico de aproximações:\")\n",
    "    for i, val in enumerate(history):\n",
    "        print(f\"  Iteração {i}: {val}\")\n",
    "except Exception as e:\n",
    "    print(e,e.__doc__)"
   ]
  }
 ],
 "metadata": {
  "kernelspec": {
   "display_name": "Python 3",
   "language": "python",
   "name": "python3"
  },
  "language_info": {
   "codemirror_mode": {
    "name": "ipython",
    "version": 3
   },
   "file_extension": ".py",
   "mimetype": "text/x-python",
   "name": "python",
   "nbconvert_exporter": "python",
   "pygments_lexer": "ipython3",
   "version": "3.13.1"
  }
 },
 "nbformat": 4,
 "nbformat_minor": 5
}
